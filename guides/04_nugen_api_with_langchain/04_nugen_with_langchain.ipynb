{
 "cells": [
  {
   "cell_type": "markdown",
   "metadata": {},
   "source": [
    "## **Nugen Intelligence**\n",
    "<img src=\"https://nugen.in/logo.png\" alt=\"Nugen Logo\" width=\"200\"/>\n",
    "\n",
    "Domain-aligned foundational models at industry leading speeds and zero-data retention! To learn more, visit [Nugen](https://docs.nugen.in/introduction)"
   ]
  },
  {
   "cell_type": "markdown",
   "metadata": {},
   "source": [
    "### **Nugen APIs with LangChain**"
   ]
  },
  {
   "cell_type": "markdown",
   "metadata": {},
   "source": [
    "**1. Introduction: What is LangChain?**\n",
    "\n",
    "LangChain is a framework for building applications powered by language models (LLMs). It provides a structured way to integrate and use LLMs for different use cases, such as text generation, document analysis, and embeddings. LangChain is highly flexible and supports multiple LLM providers, including OpenAI, Hugging Face, and now Nugen APIs.\n",
    "\n",
    "\n",
    "**This guide will focus on two key capabilities of Nugen’s models:**\n",
    "\n",
    "1. Text Completion: Generating text based on a prompt using the nugen-flash-instruct model.\n",
    "2. Text Embedding: Converting text into numerical vectors using the nugen-flash-embed model for tasks like similarity search, clustering, and classification."
   ]
  },
  {
   "cell_type": "markdown",
   "metadata": {},
   "source": [
    "**2. Using Nugen Completion API with LangChain**"
   ]
  },
  {
   "cell_type": "markdown",
   "metadata": {},
   "source": [
    "Step 1: Setting Up the Environment\n",
    "\n",
    "Before you begin, install the necessary libraries. You will need LangChain and langchain-openai to integrate with Nugen's API."
   ]
  },
  {
   "cell_type": "markdown",
   "metadata": {},
   "source": [
    "Step 2: Import Required Libraries\n",
    "\n",
    "In your Python script or notebook, import the OpenAI class to interact with Nugen’s completion models."
   ]
  },
  {
   "cell_type": "code",
   "execution_count": 1,
   "metadata": {},
   "outputs": [],
   "source": [
    "!pip --quiet install langchain-openai requests"
   ]
  },
  {
   "cell_type": "code",
   "execution_count": 16,
   "metadata": {},
   "outputs": [],
   "source": [
    "from langchain_openai import OpenAI\n",
    "import os\n",
    "from dotenv import load_dotenv\n",
    "\n",
    "# Load the .env file\n",
    "load_dotenv()\n",
    "\n",
    "nugen_api_key = os.getenv(\"Nugen_API_KEY\")"
   ]
  },
  {
   "cell_type": "markdown",
   "metadata": {},
   "source": [
    "Step 3: Configure Nugen Completion Model\n",
    "\n",
    "The following code demonstrates how to use the nugen-flash-instruct model from Nugen via LangChain for text completion.\n",
    "\n",
    "To read more about Nugen API and access free API keys, you can visit [Nugen Dashboard](https://nugen-platform-frontend.azurewebsites.net/dashboard)"
   ]
  },
  {
   "cell_type": "code",
   "execution_count": 17,
   "metadata": {},
   "outputs": [
    {
     "name": "stdout",
     "output_type": "stream",
     "text": [
      " and Machine Learning\n",
      "Artificial Intelligence (AI) and Machine Learning (ML) are two closely related fields that have revolutionized the way we live and work. Here's a comprehensive overview:\n",
      "**Artificial Intelligence (AI):**\n",
      "\n",
      "AI refers to the development of computer systems that can perform tasks that typically require human intelligence, such as:\n",
      "\n",
      "1. Learning\n",
      "2. Problem-solving\n",
      "3. Reasoning\n",
      "4. Perception\n",
      "5. Understanding language\n",
      "\n",
      "AI systems can be categorized into two types:\n",
      "\n",
      "1. **Narrow or Weak AI**: Designed to perform a specific task, such as facial recognition, language translation, or playing chess.\n",
      "2. **General or Strong AI**: A hypothetical AI system that possesses human-like intelligence, capable of performing any intellectual task.\n",
      "\n",
      "**Machine Learning (ML):**\n",
      "\n",
      "ML is a subset of AI that focuses on developing algorithms and statistical models that enable machines to learn from data, without being explicitly programmed.\n",
      "\n",
      "In traditional programming, a computer is given a set of rules to follow. In contrast, ML algorithms are trained on data, allowing them to discover patterns, make predictions, and improve their performance over time.\n",
      "\n",
      "**Types of Machine Learning:**\n",
      "\n",
      "1. **Supervised Learning**: The algorithm is trained on labeled data to learn the relationship between input and output.\n",
      "2. **Unsupervised Learning**: The algorithm is trained on unlabeled data to discover patterns and relationships.\n",
      "3. **Reinforcement Learning**: The algorithm learns through trial and error by interacting with an environment and receiving feedback.\n",
      "\n",
      "**Key Applications of AI and ML:**\n",
      "\n",
      "1. **Virtual Assistants**: Siri, Alexa, and Google Assistant use natural language processing (NLP) and ML to understand voice commands.\n",
      "2. **Image Recognition**: Facebook's facial recognition, self-driving cars, and medical diagnosis use computer vision and ML.\n",
      "3. **Predictive Maintenance**: Industries like manufacturing, healthcare, and finance use ML to predict equipment failures, patient outcomes, and market trends.\n",
      "4. **Natural Language Processing (NLP)**: Chatbots, language translation, and text analysis use NLP and ML.\n",
      "5. **Recommendation Systems**: Online platforms like Netflix, Amazon, and YouTube use ML to suggest personalized content.\n",
      "\n",
      "**Challenges and Limitations:**\n",
      "\n",
      "1. **Data Quality**: AI and ML require high-quality, diverse, and relevant data to learn and improve.\n",
      "2. **Bias and Fairness**: AI systems can perpetuate biases present in the data, leading to unfair outcomes.\n",
      "3. **Explainability**: AI and ML models can be difficult to interpret, making it challenging to understand their decision-making processes.\n",
      "4. **Security**: AI and ML systems can be vulnerable to cyber attacks and data breaches.\n",
      "\n",
      "**Future of AI and ML:**\n",
      "\n",
      "1. **Increased Adoption**: AI and ML will become more pervasive in various industries, transforming the way we work and live.\n",
      "2. **Advancements in NLP**: Improved NLP capabilities will enable more sophisticated human-computer interactions.\n",
      "3. **Explainable AI**: Research will focus on developing more transparent and interpretable AI models.\n",
      "4. **Ethics and Governance**: As AI and ML become more widespread, there will be a growing need for regulations and guidelines to ensure their responsible use.\n",
      "\n",
      "I hope this provides a comprehensive overview of AI and ML! Do you have any specific questions or topics you'd like me to expand on?\n"
     ]
    },
    {
     "name": "stderr",
     "output_type": "stream",
     "text": [
      "C:\\Users\\Atharva Raut\\AppData\\Roaming\\Python\\Python313\\site-packages\\pydantic\\main.py:426: UserWarning: Pydantic serializer warnings:\n",
      "  Expected `int` but got `float` with value `1742815915.209261` - serialized value may not be as expected\n",
      "  return self.__pydantic_serializer__.to_python(\n"
     ]
    }
   ],
   "source": [
    "# Set up the Nugen completion model\n",
    "llm = OpenAI(\n",
    "    model=\"nugen-flash-instruct\",  # Nugen completion model\n",
    "    temperature=0,  # Low temperature for more deterministic results\n",
    "    max_tokens=1000,  # Maximum number of tokens to generate\n",
    "    api_key= nugen_api_key,  # Replace with your API key\n",
    "    base_url=\"https://api.nugen.in/inference/\"  # Nugen API base URL\n",
    ")\n",
    "\n",
    "# Generate a completion for a prompt\n",
    "completion = llm.invoke(\"Tell me about AI\")\n",
    "\n",
    "# Print the completion result\n",
    "print(completion)\n"
   ]
  },
  {
   "cell_type": "markdown",
   "metadata": {},
   "source": [
    "Tip : Try to play around with token size, token size determines the length of answer generated by completion model"
   ]
  },
  {
   "cell_type": "markdown",
   "metadata": {},
   "source": [
    "**Explanation of Parameters:**\n",
    "\n",
    "* model: Specifies the Nugen model to use (e.g., nugen-flash-instruct for text generation).\n",
    "* temperature: Controls creativity in the output. A lower value like 0 makes the response more deterministic.\n",
    "* max_tokens: Defines the maximum length of the generated text.\n",
    "* openai_api_key: Your Nugen API key for authentication.\n",
    "* openai_api_base: The Nugen API base URL to direct requests to the Nugen inference server."
   ]
  },
  {
   "cell_type": "markdown",
   "metadata": {},
   "source": [
    "**3. Using Nugen Embedding API with LangChain**"
   ]
  },
  {
   "cell_type": "markdown",
   "metadata": {},
   "source": [
    "**Step 1: Understanding Text Embeddings**\n",
    "\n",
    "Text embeddings are numerical representations of text. These vectors are used to perform tasks like finding similarities between different pieces of text or clustering documents based on their semantic meaning. Nugen provides an embedding model, nugen-flash-embed, to generate high-quality embeddings from text.\n",
    "\n",
    "**Step 2: Configure Nugen Embedding Model**\n",
    "\n",
    "To use Nugen’s embedding model with LangChain, import the OpenAIEmbeddings class and configure it as follows:"
   ]
  },
  {
   "cell_type": "code",
   "execution_count": 18,
   "metadata": {},
   "outputs": [],
   "source": [
    "from langchain_openai import OpenAIEmbeddings\n",
    "\n",
    "# Set up the Nugen embedding model\n",
    "embed = OpenAIEmbeddings(\n",
    "    model=\"nugen-flash-embed\",  # Nugen embedding model\n",
    "    api_key= nugen_api_key,  # Replace with your API key\n",
    "    base_url=\"https://api.nugen.in/inference/\",  # Nugen API base URL\n",
    "    dimensions=768,  # Dimensionality of the embeddings\n",
    "    check_embedding_ctx_length=False  # Disable context length check\n",
    ")"
   ]
  },
  {
   "cell_type": "markdown",
   "metadata": {},
   "source": [
    "**Step 3: Generate Text Embeddings**\n",
    "\n",
    "Now, you can generate embeddings from a piece of text using Nugen’s nugen-flash-embed model."
   ]
  },
  {
   "cell_type": "code",
   "execution_count": 19,
   "metadata": {},
   "outputs": [
    {
     "name": "stdout",
     "output_type": "stream",
     "text": [
      "[0.00830841064453125, -0.00884246826171875, -0.1534423828125]\n"
     ]
    }
   ],
   "source": [
    "# Input text to be embedded\n",
    "input_text = \"The meaning of life is 42\"\n",
    "\n",
    "# Generate embeddings for the input text\n",
    "vector = embed.embed_query(input_text)\n",
    "\n",
    "# Print a subset of the generated embedding vector\n",
    "print(vector[:3])  # Print first 3 dimensions of the vector\n"
   ]
  },
  {
   "cell_type": "markdown",
   "metadata": {},
   "source": [
    "**Explanation of Parameters:**\n",
    "\n",
    "* model: The embedding model used to generate text embeddings (e.g., nugen-flash-embed).\n",
    "* api_key: Your Nugen API key.\n",
    "* base_url: The Nugen API base URL for embedding requests.\n",
    "* dimensions: Number of dimensions of the embedding vector (e.g., 768).\n",
    "* check_embedding_ctx_length: Disables the context length check for embeddings."
   ]
  },
  {
   "cell_type": "markdown",
   "metadata": {},
   "source": [
    "**4. Conclusion**\n",
    "\n",
    "In this cookbook, we explored how to use Nugen's APIs for text completion and embeddings within the LangChain framework. We demonstrated:\n",
    "\n",
    "How to configure and use Nugen’s nugen-flash-instruct model for text generation.\n",
    "How to use the nugen-flash-embed model to generate high-quality text embeddings.\n",
    "By integrating Nugen with LangChain, you can build powerful applications that leverage both text generation and text embeddings for tasks like chatbots, document analysis, and more. This guide should give you a solid foundation to get started with Nugen APIs and LangChain."
   ]
  },
  {
   "cell_type": "markdown",
   "metadata": {},
   "source": []
  },
  {
   "cell_type": "markdown",
   "metadata": {},
   "source": []
  }
 ],
 "metadata": {
  "kernelspec": {
   "display_name": "Python 3",
   "language": "python",
   "name": "python3"
  },
  "language_info": {
   "codemirror_mode": {
    "name": "ipython",
    "version": 3
   },
   "file_extension": ".py",
   "mimetype": "text/x-python",
   "name": "python",
   "nbconvert_exporter": "python",
   "pygments_lexer": "ipython3",
   "version": "3.13.1"
  }
 },
 "nbformat": 4,
 "nbformat_minor": 2
}
