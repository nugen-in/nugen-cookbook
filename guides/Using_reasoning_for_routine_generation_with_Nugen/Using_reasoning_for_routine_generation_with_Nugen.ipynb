{
 "cells": [
  {
   "cell_type": "markdown",
   "metadata": {
    "id": "aUcTOytBAbyN"
   },
   "source": [
    "## **Nugen Intelligence**\n",
    "<img src=\"https://nugen.in/logo.png\" alt=\"Nugen Logo\" width=\"200\"/>\n",
    "\n",
    "Domain-aligned foundational models at industry leading speeds and zero-data retention!"
   ]
  },
  {
   "cell_type": "markdown",
   "metadata": {
    "id": "FywHEB4QJ9dV"
   },
   "source": [
    "### **Using Reasoning for Routine Generation with Nugen API**\n",
    " \n",
    "This code demonstrates how to transform help center articles into executable routines using the Nugen API. By leveraging Nugen's powerful capabilities, we can convert externally-facing help center content into internally-facing routines that can be seamlessly integrated with a large language model (LLM).\n",
    "\n",
    "The goal is to enhance customer service operations by enabling the LLM to effectively handle customer inquiries and support tasks, ensuring a more efficient and responsive service experience. With Nugen’s advanced API, you can streamline your customer service processes and empower your team with actionable insights from existing help center content."
   ]
  },
  {
   "cell_type": "markdown",
   "metadata": {
    "id": "-I4VMoC2KLoE"
   },
   "source": [
    "**Importing Necessary Libraries**\n"
   ]
  },
  {
   "cell_type": "code",
   "execution_count": 1,
   "metadata": {
    "id": "L67ZWi3GKQ9r"
   },
   "outputs": [],
   "source": [
    "!pip install --quiet pandas\n",
    "\n",
    "import requests\n",
    "from IPython.display import display, HTML\n",
    "import pandas as pd\n",
    "from concurrent.futures import ThreadPoolExecutor\n",
    "import csv"
   ]
  },
  {
   "cell_type": "markdown",
   "metadata": {
    "id": "DDhQwLjfKiQ3"
   },
   "source": [
    "* requests: A library to make HTTP\n",
    "* requests to the Nugen API.\n",
    "* pandas: A library to handle data manipulation and analysis.\n",
    "* ThreadPoolExecutor: A tool to run multiple tasks concurrently, speeding up processing.\n",
    "* csv: A module to read and write CSV files."
   ]
  },
  {
   "cell_type": "markdown",
   "metadata": {
    "id": "kwgINQetKsQd"
   },
   "source": [
    "**Setting Up the Nugen API**\n",
    "\n",
    "You can access Nugen API key from [here](https://docs.nugen.in/) for FREE! "
   ]
  },
  {
   "cell_type": "code",
   "execution_count": null,
   "metadata": {},
   "outputs": [],
   "source": [
    "url_api_server = \"https://api.nugen.in\"\n",
    "api_key =  \"<--nugen api key-->\" # Replace with your actual Nugen API key\n",
    "MODEL = \"nugen-flash-instruct\""
   ]
  },
  {
   "cell_type": "code",
   "execution_count": 3,
   "metadata": {
    "id": "MBM_OiARKOYA"
   },
   "outputs": [],
   "source": [
    "class NugenAPIClient:\n",
    "    def __init__(self, base_url, api_key):\n",
    "        self.base_url = base_url\n",
    "        self.api_key = api_key\n",
    "\n",
    "    def chat_completions_create(self, model, messages, max_tokens=400, temperature=1):\n",
    "        url = f\"{self.base_url}/inference/completions\"\n",
    "        headers = {\n",
    "            \"Authorization\": f\"Bearer {self.api_key}\",\n",
    "            \"Content-Type\": \"application/json\"\n",
    "        }\n",
    "        prompt = \"\\n\".join([message[\"content\"] for message in messages])\n",
    "\n",
    "        payload = {\n",
    "            \"model\": model,\n",
    "            \"prompt\": prompt,\n",
    "            \"max_tokens\": max_tokens,\n",
    "            \"temperature\": temperature\n",
    "        }\n",
    "\n",
    "        response = requests.post(url, json=payload, headers=headers)\n",
    "\n",
    "        if response.status_code == 200:\n",
    "            return response.json()\n",
    "        else:\n",
    "            raise Exception(f\"Error {response.status_code}: {response.text}\")\n",
    "\n",
    "# Instantiate Nugen client\n",
    "client = NugenAPIClient(base_url=url_api_server, api_key=api_key)\n"
   ]
  },
  {
   "cell_type": "markdown",
   "metadata": {
    "id": "GG_qZDVVKyJN"
   },
   "source": [
    "1. url: The endpoint for the Nugen API where we send our requests.\n",
    "\n",
    "2. headers: Includes the authorization token for API access and specifies that we're sending JSON data."
   ]
  },
  {
   "cell_type": "markdown",
   "metadata": {
    "id": "4nXd4kxDK276"
   },
   "source": [
    "**Defining the Routine Generation Function**"
   ]
  },
  {
   "cell_type": "code",
   "execution_count": 4,
   "metadata": {
    "id": "1abSuDxSK2Fc"
   },
   "outputs": [],
   "source": [
    "CONVERSION_PROMPT = \"\"\"\n",
    "You are a helpful assistant tasked with taking an external facing help center article and converting it into an internal-facing programmatically executable routine optimized for an LLM.\n",
    "The LLM using this routine will be tasked with reading the policy, answering incoming questions from customers, and helping drive the case toward resolution.\n",
    "\n",
    "Please follow these instructions:\n",
    "1. **Review the customer service policy carefully** to ensure every step is accounted for. It is crucial not to skip any steps or policies.\n",
    "2. **Organize the instructions into a logical, step-by-step order**, using the specified format.\n",
    "3. **Use the following format**:\n",
    "   - **Main actions are numbered** (e.g., 1, 2, 3).\n",
    "   - **Sub-actions are lettered** under their relevant main actions (e.g., 1a, 1b).\n",
    "      **Sub-actions should start on new lines**\n",
    "   - **Specify conditions using clear 'if...then...else' statements** (e.g., 'If the product was purchased within 30 days, then...').\n",
    "   - **For instructions that require more information from the customer**, provide polite and professional prompts to ask for additional information.\n",
    "   - **For actions that require data from external systems**, write a step to call a function using backticks for the function name (e.g., `call the check_delivery_date function`).\n",
    "      - **If a step requires the customer service agent to take an action** (e.g., process a refund), generate a function call for this action (e.g., `call the process_refund function`).\n",
    "      - **Define any new functions** by providing a brief description of their purpose and required parameters.\n",
    "   - **If there is an action an assistant can perform on behalf of the user**, include a function call for this action (e.g., `call the change_email_address function`), and ensure the function is defined with its purpose and required parameters.\n",
    "      - This action may not be explicitly defined in the help center article, but can be done to help the user resolve their inquiry faster.\n",
    "   - **The step prior to case resolution should always be to ask if there is anything more you can assist with**.\n",
    "   - **End with a final action for case resolution**: calling the `case_resolution` function should always be the final step.\n",
    "4. **Ensure compliance** by making sure all steps adhere to company policies, privacy regulations, and legal requirements.\n",
    "5. **Handle exceptions or escalations** by specifying steps for scenarios that fall outside the standard policy.\n",
    "\n",
    "**Important**: If at any point you are uncertain, respond with \"I don't know.\"\n",
    "\n",
    "Please convert the customer service policy into the formatted routine, ensuring it is easy to follow and execute programmatically.\n",
    "\"\"\"\n",
    "\n",
    "# Read articles from CSV\n",
    "articles = []\n",
    "with open('../helpcenter_articles.csv', mode='r', encoding='utf-8') as file:\n",
    "    reader = csv.DictReader(file)\n",
    "    for row in reader:\n",
    "        articles.append({\n",
    "            \"policy\": row[\"policy\"],\n",
    "            \"content\": row[\"content\"]\n",
    "        })\n",
    "\n",
    "# Function to generate routine using Nugen API\n",
    "# Debugging step - Print full response to check its structure\n",
    "def generate_routine(policy):\n",
    "    try:\n",
    "        messages = [{\n",
    "            \"role\": \"user\",\n",
    "            \"content\": f\"{CONVERSION_PROMPT}\\n\\nPOLICY:\\n{policy}\"\n",
    "        }]\n",
    "\n",
    "        response = client.chat_completions_create(\n",
    "            model=MODEL,\n",
    "            messages=messages\n",
    "        )\n",
    "\n",
    "        # Print the full response to debug\n",
    "        print(\"Full API Response:\", response)\n",
    "\n",
    "        # Modify this according to the actual response structure\n",
    "        return response['choices'][0].get('text', None)  # Adjust based on actual API response\n",
    "    except Exception as e:\n",
    "        print(f\"An error occurred: {e}\")\n",
    "        return None\n",
    "\n"
   ]
  },
  {
   "cell_type": "markdown",
   "metadata": {
    "id": "8Rw5OfGcK8Nb"
   },
   "source": [
    "**generate_routine(policy):** This function sends a request to the Nugen API to convert a help center article (policy) into an internal-facing routine.\n",
    "  1. payload: Contains the request parameters, including the prompt which outlines how to format the routine.\n",
    "  2. response: Receives the response from the API and extracts the generated routine from it.\n",
    "  3. Exception handling: Catches any errors that occur during the request and prints an error message."
   ]
  },
  {
   "cell_type": "markdown",
   "metadata": {
    "id": "bZZVUreBLKCU"
   },
   "source": [
    "**Processing Articles Concurrently**\n"
   ]
  },
  {
   "cell_type": "code",
   "execution_count": 5,
   "metadata": {
    "colab": {
     "base_uri": "https://localhost:8080/"
    },
    "id": "m5VWnTq-LOPj",
    "outputId": "e6b3448a-6a80-44a9-f427-4b1419e1584e"
   },
   "outputs": [
    {
     "name": "stdout",
     "output_type": "stream",
     "text": [
      "Full API Response: {'id': 'nugen-1731432035.912793', 'object': 'text_completion', 'created': 1731432035.912793, 'model': 'nugen-flash-instruct', 'choices': [{'text': 'Delayed billing is typically not more than a few minutes of extra usage, but can occasionally be longer depending on various factors.\\n \\nCustomers are responsible for monitoring their credit balance and purchasing additional credits when their balance is running low. Please note that we are not responsible for any negative credit balance and any resulting delayed billing.\\n \\nAuto-recharge\\nIf you set up auto-recharge, you can choose to add a set amount of credits to your account when your balance falls below a certain threshold. Auto-recharge can be a convenient way to ensure you always have credits available for API usage.\\n \\nUsing auto-recharge\\n- Go to your billing overview in your account settings\\n- Click \"Auto-recharge\" button\\n- Choose the amount of credits you want to add to your account when your balance falls below the threshold.\\n- Set the threshold at which auto-recharge will be triggered.\\n- Confirm your auto-recharge settings.\\n\\n\\nHow do I handle negative credit balances?\\nNegative credit balances occur when your usage exceeds the amount of credits you\\'ve purchased. You can avoid negative credit balances by regularly checking your credit balance and purchasing additional credits when your balance is running low.\\n \\nWhat happens when I run out of credits?\\nIf you run out of credits, your API requests will start returning an error letting you know you’ve hit your billing quota. You can return to the billing portal and use the “Add to balance” button to purchase additional credits.\\n \\nHow do I know when I need to purchase more credits?\\n- Monitor your credit balance regularly\\n- Keep an eye on your API usage\\n- Purchase additional credits when your balance is running low\\n\\nIf you need to purchase more credits, you can do so by returning to the billing portal and using the “Add to balance” button.\\n \\nWhat happens if I don\\'t purchase more credits?\\nIf you don\\'t purchase more credits when your balance is running low, you may encounter the following:\\n- API requests will start returning an error letting you know you’ve hit', 'index': 0, 'finish_reason': 'length'}], 'usage': {'prompt_tokens': 999, 'completion_tokens': 400, 'total_tokens': 1399}}\n",
      "Full API Response: {'id': 'nugen-1731432039.697713', 'object': 'text_completion', 'created': 1731432039.697713, 'model': 'nugen-flash-instruct', 'choices': [{'text': 'If you have a free account, you won\\'t be charged any fees. You can delete your payment method by clicking \\'Delete\\' next to the card in your billing overview. \\n\\n\\n**End of policy**\\n\\nHere is the internal-facing programmatically executable routine optimized for an LLM:\\n\\n1. **Determine the type of account**\\n   - If the customer has a ChatGPT Plus subscription, then proceed to 2.\\n   - Else if the customer has an API account, then proceed to 3.\\n   - Else if the customer has a free account, then proceed to 4.\\n   - Else, ask: \"What type of account do you have?\" and proceed accordingly.\\n\\n2. **Cancel ChatGPT Plus subscription**\\n   - If the customer wants to cancel their subscription, then `call the cancel_subscription function`.\\n   - If the customer has any outstanding charges, then `call the check_outstanding_charges function` to determine the amount owed.\\n   - If the customer has any questions about the cancellation process, then provide the following information: \"Please note that your cancellation will take effect the day after the next billing date, and you can continue using our services until then. To avoid being charged for your next billing period, please cancel your subscription at least 24 hours before your next billing date.\"\\n   - Proceed to 5.\\n\\n3. **Cancel API account**\\n   - If the customer wants to cancel their API account, then `call the cancel_api_account function`.\\n   - If the customer has any outstanding usage costs, then `call the check_outstanding_usage_costs function` to determine the amount owed.\\n   - If the customer wants to continue using the service, then ask: \"Would you like to add a new payment method and set it as default?\"\\n   - If the customer responds with \"yes\", then `call the add_new_payment_method function`.\\n   - If the customer responds with \"no\", then `call the delete_old_payment_method function`.\\n  ', 'index': 0, 'finish_reason': 'length'}], 'usage': {'prompt_tokens': 817, 'completion_tokens': 400, 'total_tokens': 1217}}\n",
      "Full API Response: {'id': 'nugen-1731432043.142705', 'object': 'text_completion', 'created': 1731432043.142705, 'model': 'nugen-flash-instruct', 'choices': [{'text': '\\n\\nThese items are located in the organization Billing preferences section of your dashboard. You can access your dashboard by clicking the icon in the top right corner of the page.\\n\\nHow to get a tax exemption number from your state government\\nIf you don\\'t have a tax exemption number, you can get one from your state government. Here are the steps to get one: \\n    1. Go to your state government\\'s website and find the tax department section.\\n    2. Search for \"tax exemption\" or \"non-profit tax exemption.\"\\n    3. Find the section that provides information on how to obtain a tax exemption number.\\n    4. Follow the instructions provided by your state government.\\n\\nWhat if I need help?\\nIf you have any questions or need help with submitting a VAT exemption request, please use the chat widget in the bottom-right corner to contact us. Our support team is available 24/7 and will be happy to assist you.\\n\\n---\\n\\nNow, I will convert this policy into a programmatically executable routine. Here is the result:\\n\\n\\n1. **Determine if the customer is eligible for a VAT exemption**.\\n   a. Ask the customer to confirm if they are eligible for a VAT exemption.\\n   b. If the customer is eligible, then proceed to step 2.\\n   c. If the customer is not eligible, then inform them that they are not eligible for a VAT exemption and provide further information on how to obtain eligibility.\\n   d. If the customer is unsure, then provide information on how to obtain a tax exemption number from their state government (see below).\\n\\n2. **Obtain a tax exemption certificate or non-profit sales tax exemption forms**.\\n   a. Instruct the customer to obtain a current tax exemption certificate from their state or local government and/or their fully completed non-profit sales tax exemption forms.\\n   b. Ensure the certificate/forms include:\\n      - The customer\\'s name and address\\n      - Tax exemption number\\n      - Signatures and', 'index': 0, 'finish_reason': 'length'}], 'usage': {'prompt_tokens': 833, 'completion_tokens': 400, 'total_tokens': 1233}}\n",
      "Full API Response: {'id': 'nugen-1731432047.002552', 'object': 'text_completion', 'created': 1731432047.002552, 'model': 'nugen-flash-instruct', 'choices': [{'text': \" \\n\\nHow do I know which endpoints are eligible?\\nYou can view the list of endpoints that are eligible for zero retention.\\n\\nHere is the list of endpoints eligible for zero retention: \\n• Endpoint 1 \\n• Endpoint 2 \\n• Endpoint 3 \\n\\nHow do I know which endpoint to use?\\nThe choice of endpoint depends on your use case. Here are some examples of when to use each of the eligible endpoints:\\n\\n• Endpoint 1 is the most commonly used endpoint for any use case that involves processing or storing PHI.\\n• Endpoint 2 is used when PHI will be processed or stored for an extended period.\\n• Endpoint 3 is used when PHI will be processed or stored for a short period.\\n\\nWhat if I need more information?\\nPlease reach out to our team at baa@openai.com if you have any questions or concerns.\\n\\nWhat if I have a specific request?\\nIf you have a specific request, please let us know and we will do our best to accommodate it.\\n\\nPlease note that our API platform can only be used for legitimate business purposes and use cases that are in compliance with HIPAA.\\n\\nHere is the routine in the specified format:\\n\\n\\n1. If the customer has a question about getting a BAA with OpenAI, then\\n   1a. Respond with a helpful article on HIPAA compliance for healthcare companies.\\n   1b. Ask for the customer's company name and use case.\\n\\n2. If the customer requires a BAA before using the API, then\\n   2a. Call the `send_baa_request_email` function with the customer's company name and use case.\\n   2b. Call the `wait_for_response` function for 1-2 business days.\\n\\n3. If the customer has not received a response within 1-2 business days, then\\n   3a. Respond with a message asking if the customer would like to follow up on their BAA request.\\n\\n4. If the customer's use case is\", 'index': 0, 'finish_reason': 'length'}], 'usage': {'prompt_tokens': 912, 'completion_tokens': 400, 'total_tokens': 1312}}\n"
     ]
    }
   ],
   "source": [
    "# Function to process each article and generate routine\n",
    "def process_article(article):\n",
    "    routine = generate_routine(article['content'])\n",
    "    return {\"policy\": article['policy'], \"content\": article['content'], \"routine\": routine}\n",
    "\n",
    "# Execute routine generation concurrently\n",
    "with ThreadPoolExecutor() as executor:\n",
    "    results = list(executor.map(process_article, articles))\n"
   ]
  },
  {
   "cell_type": "markdown",
   "metadata": {
    "id": "mhf29KaSLQQS"
   },
   "source": [
    "1. process_article(article): Calls the generate_routine function for each article and returns a dictionary with the policy, content, and generated routine.\n",
    "\n",
    "2. Reading Articles: Loads help center articles from a CSV file into the articles list.\n",
    "\n",
    "3. Concurrent Processing: Uses ThreadPoolExecutor to process multiple articles at once, speeding up the routine generation."
   ]
  },
  {
   "cell_type": "markdown",
   "metadata": {
    "id": "HlkaF1CsLWYC"
   },
   "source": [
    "**Storing and Displaying Results**"
   ]
  },
  {
   "cell_type": "code",
   "execution_count": 6,
   "metadata": {
    "colab": {
     "base_uri": "https://localhost:8080/",
     "height": 1000
    },
    "id": "tc04fWLoLZ5r",
    "outputId": "db65d372-8a34-4f42-9651-c0afb9e388f7"
   },
   "outputs": [
    {
     "data": {
      "text/html": [
       "<table border=\"1\" class=\"dataframe\">\n",
       "  <thead>\n",
       "    <tr style=\"text-align: left;\">\n",
       "      <th></th>\n",
       "      <th>policy</th>\n",
       "      <th>content</th>\n",
       "      <th>routine</th>\n",
       "    </tr>\n",
       "  </thead>\n",
       "  <tbody>\n",
       "    <tr>\n",
       "      <th>0</th>\n",
       "      <td>Delete Payment Method</td>\n",
       "      <td>How do I delete my payment method?<br>Updated over a week ago<br>We keep your payment method on file to cover any outstanding charges on your account. To stop charges to your payment method, please follow the steps below.<br><br>## ChatGPT <br>You can cancel your ChatGPT Plus subscription to stop further charges at any time:  <br>Click on 'My Plan' in the ChatGPT sidebar. <br>Click on 'Manage my subscription' in the pop-up window.<br>Select 'Cancel Plan'. <br>Please note that your cancellation will take effect the day after the next billing date, and you can continue using our services until then. To avoid being charged for your next billing period, please cancel your subscription at least 24 hours before your next billing date. <br><br>## API<br>We'll need to keep a payment method on file to account for any outstanding usage costs. You're welcome to cancel your pay-as-you-go service, by clicking 'Cancel paid account' in your billing overview. After the current month's invoice has been issued, the current card will no longer be charged. <br>If you'd like to continue using the service, add a new payment method in the billing overview page and select 'Set as default'. You'll then be able to delete the old payment method.<br></td>\n",
       "      <td>If you have a free account, you won't be charged any fees. You can delete your payment method by clicking 'Delete' next to the card in your billing overview. <br><br><br>**End of policy**<br><br>Here is the internal-facing programmatically executable routine optimized for an LLM:<br><br>1. **Determine the type of account**<br>   - If the customer has a ChatGPT Plus subscription, then proceed to 2.<br>   - Else if the customer has an API account, then proceed to 3.<br>   - Else if the customer has a free account, then proceed to 4.<br>   - Else, ask: \"What type of account do you have?\" and proceed accordingly.<br><br>2. **Cancel ChatGPT Plus subscription**<br>   - If the customer wants to cancel their subscription, then `call the cancel_subscription function`.<br>   - If the customer has any outstanding charges, then `call the check_outstanding_charges function` to determine the amount owed.<br>   - If the customer has any questions about the cancellation process, then provide the following information: \"Please note that your cancellation will take effect the day after the next billing date, and you can continue using our services until then. To avoid being charged for your next billing period, please cancel your subscription at least 24 hours before your next billing date.\"<br>   - Proceed to 5.<br><br>3. **Cancel API account**<br>   - If the customer wants to cancel their API account, then `call the cancel_api_account function`.<br>   - If the customer has any outstanding usage costs, then `call the check_outstanding_usage_costs function` to determine the amount owed.<br>   - If the customer wants to continue using the service, then ask: \"Would you like to add a new payment method and set it as default?\"<br>   - If the customer responds with \"yes\", then `call the add_new_payment_method function`.<br>   - If the customer responds with \"no\", then `call the delete_old_payment_method function`.<br></td>\n",
       "    </tr>\n",
       "    <tr>\n",
       "      <th>1</th>\n",
       "      <td>Business Associate Agreement</td>\n",
       "      <td>How can I get a Business Associate Agreement (BAA) with OpenAI?<br>Information about HIPAA compliance for healthcare companies<br><br>The Health Insurance Portability and Accountability Act (HIPAA) is a U.S. federal law that requires privacy and security protections for protected health information (PHI). Our API platform can be a great fit for any covered entity or business associate looking to process protected health information, and we’d be happy to assist you in fulfilling your HIPAA compliance. To use our API platform, you’ll first need a BAA with OpenAI.<br><br><br>How do I get started?<br>If you require a BAA before you can use our API, email us at baa@openai.com with details about your company and use case.<br><br>Our team will respond within 1-2 business days. We review each BAA request on a case-by-case basis and may need additional information. The process is usually completed within a few business days.<br><br><br>Can I get a BAA for ChatGPT?<br>If you're interested in exploring a BAA for ChatGPT Enterprise, please contact sales.<br> <br><br>What happens if I’m not approved?<br>We are able to approve most customers that request BAAs, but occasionally a use case doesn’t pass our team's evaluation. In that case, we’ll give feedback and context as to why that is and give you the opportunity to update your intended use of our API and re-apply.<br><br> <br>Are all API services covered by the BAA?<br>No, only endpoints that are eligible for zero retention are covered by the BAA. You can see a list of those endpoints. <br><br> <br>Is an enterprise agreement requirement to sign a BAA?<br>No, an enterprise agreement is not required to sign a BAA.<br></td>\n",
       "      <td><br><br>How do I know which endpoints are eligible?<br>You can view the list of endpoints that are eligible for zero retention.<br><br>Here is the list of endpoints eligible for zero retention: <br>• Endpoint 1 <br>• Endpoint 2 <br>• Endpoint 3 <br><br>How do I know which endpoint to use?<br>The choice of endpoint depends on your use case. Here are some examples of when to use each of the eligible endpoints:<br><br>• Endpoint 1 is the most commonly used endpoint for any use case that involves processing or storing PHI.<br>• Endpoint 2 is used when PHI will be processed or stored for an extended period.<br>• Endpoint 3 is used when PHI will be processed or stored for a short period.<br><br>What if I need more information?<br>Please reach out to our team at baa@openai.com if you have any questions or concerns.<br><br>What if I have a specific request?<br>If you have a specific request, please let us know and we will do our best to accommodate it.<br><br>Please note that our API platform can only be used for legitimate business purposes and use cases that are in compliance with HIPAA.<br><br>Here is the routine in the specified format:<br><br><br>1. If the customer has a question about getting a BAA with OpenAI, then<br>   1a. Respond with a helpful article on HIPAA compliance for healthcare companies.<br>   1b. Ask for the customer's company name and use case.<br><br>2. If the customer requires a BAA before using the API, then<br>   2a. Call the `send_baa_request_email` function with the customer's company name and use case.<br>   2b. Call the `wait_for_response` function for 1-2 business days.<br><br>3. If the customer has not received a response within 1-2 business days, then<br>   3a. Respond with a message asking if the customer would like to follow up on their BAA request.<br><br>4. If the customer's use case is</td>\n",
       "    </tr>\n",
       "    <tr>\n",
       "      <th>2</th>\n",
       "      <td>Set up prepaid billing</td>\n",
       "      <td>How can I set up prepaid billing?<br><br>How it works<br>Prepaid billing allows API users to pre-purchase usage. The credits you've bought will be applied to your monthly invoice. This means that any API usage you incur will first be deducted from the prepaid credits. If your usage exceeds the credits you've purchased, you'll then be billed for the additional amount.<br>Prepaid billing helps developers know what they are committing to upfront which can provide more predictability for budgeting and spend management. <br><br><br>Setting up prepaid billing<br>If you're on a Monthly Billing plan, you may also choose to switch to prepaid billing and purchase credits upfront for API usage. <br>- Go to your billing overview in your account settings<br>- Click \"Start payment plan\" (you may see variations like \"Buy credits\")<br>    Note: If you previously had an arrears billing plan, you'll need to cancel this existing payment plan first.<br>- Choose the initial amount of credits you want to purchase. The minimum purchase is $5. The maximum purchase will be based on your trust tier.<br>- Confirm and purchase your initial amount of credits.<br>- Use auto-recharge to set an automatic recharge amount, which is the amount of credits that will be added to your account when your balance falls below a set threshold.<br><br>Please note that any purchased credits will expire after 1 year and they are non-refundable. <br>After you’ve purchased credits, you should be able to start using the API. Note that there may be a couple minutes of delay while our systems update to reflect your credit balance.<br><br><br>Purchasing additional credits<br>Once you’ve consumed all your credits, your API requests will start returning an error letting you know you’ve hit your billing quota. If you’d like to continue your API usage, you can return to the billing portal and use the “Add to balance” button to purchase additional credits.<br><br> <br>Delayed billing<br>Due to the complexity of our billing and processing systems, there may be delays in our ability to cut off access after you consume all of your credits. This excess usage may appear as a negative credit balance in your billing dashboard, and will be deducted from your next credit purchase.<br></td>\n",
       "      <td>Delayed billing is typically not more than a few minutes of extra usage, but can occasionally be longer depending on various factors.<br> <br>Customers are responsible for monitoring their credit balance and purchasing additional credits when their balance is running low. Please note that we are not responsible for any negative credit balance and any resulting delayed billing.<br> <br>Auto-recharge<br>If you set up auto-recharge, you can choose to add a set amount of credits to your account when your balance falls below a certain threshold. Auto-recharge can be a convenient way to ensure you always have credits available for API usage.<br> <br>Using auto-recharge<br>- Go to your billing overview in your account settings<br>- Click \"Auto-recharge\" button<br>- Choose the amount of credits you want to add to your account when your balance falls below the threshold.<br>- Set the threshold at which auto-recharge will be triggered.<br>- Confirm your auto-recharge settings.<br><br><br>How do I handle negative credit balances?<br>Negative credit balances occur when your usage exceeds the amount of credits you've purchased. You can avoid negative credit balances by regularly checking your credit balance and purchasing additional credits when your balance is running low.<br> <br>What happens when I run out of credits?<br>If you run out of credits, your API requests will start returning an error letting you know you’ve hit your billing quota. You can return to the billing portal and use the “Add to balance” button to purchase additional credits.<br> <br>How do I know when I need to purchase more credits?<br>- Monitor your credit balance regularly<br>- Keep an eye on your API usage<br>- Purchase additional credits when your balance is running low<br><br>If you need to purchase more credits, you can do so by returning to the billing portal and using the “Add to balance” button.<br> <br>What happens if I don't purchase more credits?<br>If you don't purchase more credits when your balance is running low, you may encounter the following:<br>- API requests will start returning an error letting you know you’ve hit</td>\n",
       "    </tr>\n",
       "    <tr>\n",
       "      <th>3</th>\n",
       "      <td>VAT Exemption request</td>\n",
       "      <td>How do I submit a VAT exemption request?<br>Updated over a week ago<br>If you are eligible for a tax exemption and would like to apply it to your account, please follow these steps: <br><br>Depending on the state and if required: <br>1. Obtain a current tax exemption certificate from your state or local government and/or your fully completed non-profit sales tax exemption forms. The certificate/forms should include: <br>    Your name and address<br>    Tax exemption number<br>    Signatures and dates, etc. <br>2. Send us a copy of your certificate using the chat widget in the bottom-right corner. Please include your organization id, invoice number or email address associated with the account, so we can easily find you. Instructions on how to find these items are below.<br><br>3. Once we receive your certificate/form, we will review it and apply the tax exemption to your account. You will receive a confirmation email once the exemption has been applied. <br><br>Please note that the tax exemption will only apply to future purchases. We cannot apply VAT exemptions retroactively.<br><br> <br><br>Where to find your account data<br>In order to submit a Value Added Tax ('VAT') exemption request you will need the following from your organization Billing preferences:<br>    1. Company name<br>    2. Billing email<br>    3. Primary business address<br>    4. Business tax ID</td>\n",
       "      <td><br><br>These items are located in the organization Billing preferences section of your dashboard. You can access your dashboard by clicking the icon in the top right corner of the page.<br><br>How to get a tax exemption number from your state government<br>If you don't have a tax exemption number, you can get one from your state government. Here are the steps to get one: <br>    1. Go to your state government's website and find the tax department section.<br>    2. Search for \"tax exemption\" or \"non-profit tax exemption.\"<br>    3. Find the section that provides information on how to obtain a tax exemption number.<br>    4. Follow the instructions provided by your state government.<br><br>What if I need help?<br>If you have any questions or need help with submitting a VAT exemption request, please use the chat widget in the bottom-right corner to contact us. Our support team is available 24/7 and will be happy to assist you.<br><br>---<br><br>Now, I will convert this policy into a programmatically executable routine. Here is the result:<br><br><br>1. **Determine if the customer is eligible for a VAT exemption**.<br>   a. Ask the customer to confirm if they are eligible for a VAT exemption.<br>   b. If the customer is eligible, then proceed to step 2.<br>   c. If the customer is not eligible, then inform them that they are not eligible for a VAT exemption and provide further information on how to obtain eligibility.<br>   d. If the customer is unsure, then provide information on how to obtain a tax exemption number from their state government (see below).<br><br>2. **Obtain a tax exemption certificate or non-profit sales tax exemption forms**.<br>   a. Instruct the customer to obtain a current tax exemption certificate from their state or local government and/or their fully completed non-profit sales tax exemption forms.<br>   b. Ensure the certificate/forms include:<br>      - The customer's name and address<br>      - Tax exemption number<br>      - Signatures and</td>\n",
       "    </tr>\n",
       "  </tbody>\n",
       "</table>"
      ],
      "text/plain": [
       "<IPython.core.display.HTML object>"
      ]
     },
     "metadata": {},
     "output_type": "display_data"
    }
   ],
   "source": [
    "# Convert results to a DataFrame\n",
    "df = pd.DataFrame(results)\n",
    "\n",
    "# Set display options to show all text in the dataframe cells\n",
    "pd.set_option('display.max_colwidth', None)\n",
    "\n",
    "# Function to display formatted text in HTML\n",
    "def display_formatted_dataframe(df):\n",
    "    def format_text(text):\n",
    "        return text.replace('\\n', '<br>') if text else \"No routine generated\"\n",
    "\n",
    "    df_formatted = df.copy()\n",
    "    df_formatted['content'] = df_formatted['content'].apply(format_text)\n",
    "    df_formatted['routine'] = df_formatted['routine'].apply(format_text)\n",
    "\n",
    "    display(HTML(df_formatted.to_html(escape=False, justify='left')))\n",
    "\n",
    "# Display the dataframe with formatted text\n",
    "display_formatted_dataframe(df)"
   ]
  },
  {
   "cell_type": "markdown",
   "metadata": {
    "id": "vNq2gFNSLbXj"
   },
   "source": [
    "1. Creating a DataFrame: Converts the results into a Pandas DataFrame for easier manipulation and viewing.\n",
    "2. Displaying the Data: Defines a function display_formatted_dataframe(df) to format and display the DataFrame in a readable HTML format."
   ]
  },
  {
   "cell_type": "markdown",
   "metadata": {
    "id": "OJ8g3X0NLhpe"
   },
   "source": [
    "**Summary**\n",
    "\n",
    "This code converts help center articles into internal-facing routines using the Nugen API. It processes multiple articles concurrently to improve efficiency and displays the results in an easily readable format. By following the steps outlined in this documentation, you can adapt and use the code for your own routine generation needs."
   ]
  }
 ],
 "metadata": {
  "colab": {
   "provenance": []
  },
  "kernelspec": {
   "display_name": "Python 3",
   "language": "python",
   "name": "python3"
  },
  "language_info": {
   "codemirror_mode": {
    "name": "ipython",
    "version": 3
   },
   "file_extension": ".py",
   "mimetype": "text/x-python",
   "name": "python",
   "nbconvert_exporter": "python",
   "pygments_lexer": "ipython3",
   "version": "3.12.7"
  }
 },
 "nbformat": 4,
 "nbformat_minor": 4
}
