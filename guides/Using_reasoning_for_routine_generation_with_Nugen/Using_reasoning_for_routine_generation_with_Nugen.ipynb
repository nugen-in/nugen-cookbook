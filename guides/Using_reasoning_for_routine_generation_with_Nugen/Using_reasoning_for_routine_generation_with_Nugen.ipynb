{
 "cells": [
  {
   "cell_type": "markdown",
   "metadata": {
    "id": "aUcTOytBAbyN"
   },
   "source": [
    "## **Nugen Intelligence**\n",
    "<img src=\"https://nugen.in/logo.png\" alt=\"Nugen Logo\" width=\"200\"/>\n",
    "\n",
    "Domain-aligned foundational models at industry leading speeds and zero-data retention!"
   ]
  },
  {
   "cell_type": "markdown",
   "metadata": {
    "id": "FywHEB4QJ9dV"
   },
   "source": [
    "### **Using Reasoning for Routine Generation with Nugen API**\n",
    " \n",
    "This code demonstrates how to transform help center articles into executable routines using the Nugen API. By leveraging Nugen's powerful capabilities, we can convert externally-facing help center content into internally-facing routines that can be seamlessly integrated with a large language model (LLM).\n",
    "\n",
    "The goal is to enhance customer service operations by enabling the LLM to effectively handle customer inquiries and support tasks, ensuring a more efficient and responsive service experience. With Nugen’s advanced API, you can streamline your customer service processes and empower your team with actionable insights from existing help center content."
   ]
  },
  {
   "cell_type": "markdown",
   "metadata": {
    "id": "-I4VMoC2KLoE"
   },
   "source": [
    "**Importing Necessary Libraries**\n"
   ]
  },
  {
   "cell_type": "code",
   "execution_count": 8,
   "metadata": {
    "id": "L67ZWi3GKQ9r"
   },
   "outputs": [],
   "source": [
    "!pip install --quiet pandas\n",
    "\n",
    "import requests\n",
    "from IPython.display import display, HTML\n",
    "import pandas as pd\n",
    "from concurrent.futures import ThreadPoolExecutor\n",
    "import csv"
   ]
  },
  {
   "cell_type": "markdown",
   "metadata": {
    "id": "DDhQwLjfKiQ3"
   },
   "source": [
    "* requests: A library to make HTTP\n",
    "* requests to the Nugen API.\n",
    "* pandas: A library to handle data manipulation and analysis.\n",
    "* ThreadPoolExecutor: A tool to run multiple tasks concurrently, speeding up processing.\n",
    "* csv: A module to read and write CSV files."
   ]
  },
  {
   "cell_type": "markdown",
   "metadata": {
    "id": "kwgINQetKsQd"
   },
   "source": [
    "**Setting Up the Nugen API**\n",
    "\n",
    "You can access Nugen API key from [here](https://docs.nugen.in/) for FREE! "
   ]
  },
  {
   "cell_type": "code",
   "execution_count": 9,
   "metadata": {},
   "outputs": [],
   "source": [
    "url_api_server = \"https://api.nugen.in\"\n",
    "api_key =  \"<--API KEY-->\" # Replace with your actual Nugen API key\n",
    "MODEL = \"nugen-flash-instruct\""
   ]
  },
  {
   "cell_type": "code",
   "execution_count": 10,
   "metadata": {
    "id": "MBM_OiARKOYA"
   },
   "outputs": [],
   "source": [
    "class NugenAPIClient:\n",
    "    def __init__(self, base_url, api_key):\n",
    "        self.base_url = base_url\n",
    "        self.api_key = api_key\n",
    "\n",
    "    def chat_completions_create(self, model, messages, max_tokens=400, temperature=1):\n",
    "        url = f\"{self.base_url}/inference/completions\"\n",
    "        headers = {\n",
    "            \"Authorization\": f\"Bearer {self.api_key}\",\n",
    "            \"Content-Type\": \"application/json\"\n",
    "        }\n",
    "        prompt = \"\\n\".join([message[\"content\"] for message in messages])\n",
    "\n",
    "        payload = {\n",
    "            \"model\": model,\n",
    "            \"prompt\": prompt,\n",
    "            \"max_tokens\": max_tokens,\n",
    "            \"temperature\": temperature\n",
    "        }\n",
    "\n",
    "        response = requests.post(url, json=payload, headers=headers)\n",
    "\n",
    "        if response.status_code == 200:\n",
    "            return response.json()\n",
    "        else:\n",
    "            raise Exception(f\"Error {response.status_code}: {response.text}\")\n",
    "\n",
    "# Instantiate Nugen client\n",
    "client = NugenAPIClient(base_url=url_api_server, api_key=api_key)\n"
   ]
  },
  {
   "cell_type": "markdown",
   "metadata": {
    "id": "GG_qZDVVKyJN"
   },
   "source": [
    "1. url: The endpoint for the Nugen API where we send our requests.\n",
    "\n",
    "2. headers: Includes the authorization token for API access and specifies that we're sending JSON data."
   ]
  },
  {
   "cell_type": "markdown",
   "metadata": {
    "id": "4nXd4kxDK276"
   },
   "source": [
    "**Defining the Routine Generation Function**"
   ]
  },
  {
   "cell_type": "code",
   "execution_count": 11,
   "metadata": {
    "id": "1abSuDxSK2Fc"
   },
   "outputs": [],
   "source": [
    "CONVERSION_PROMPT = \"\"\"\n",
    "You are a helpful assistant tasked with taking an external facing help center article and converting it into an internal-facing programmatically executable routine optimized for an LLM.\n",
    "The LLM using this routine will be tasked with reading the policy, answering incoming questions from customers, and helping drive the case toward resolution.\n",
    "\n",
    "Please follow these instructions:\n",
    "1. **Review the customer service policy carefully** to ensure every step is accounted for. It is crucial not to skip any steps or policies.\n",
    "2. **Organize the instructions into a logical, step-by-step order**, using the specified format.\n",
    "3. **Use the following format**:\n",
    "   - **Main actions are numbered** (e.g., 1, 2, 3).\n",
    "   - **Sub-actions are lettered** under their relevant main actions (e.g., 1a, 1b).\n",
    "      **Sub-actions should start on new lines**\n",
    "   - **Specify conditions using clear 'if...then...else' statements** (e.g., 'If the product was purchased within 30 days, then...').\n",
    "   - **For instructions that require more information from the customer**, provide polite and professional prompts to ask for additional information.\n",
    "   - **For actions that require data from external systems**, write a step to call a function using backticks for the function name (e.g., `call the check_delivery_date function`).\n",
    "      - **If a step requires the customer service agent to take an action** (e.g., process a refund), generate a function call for this action (e.g., `call the process_refund function`).\n",
    "      - **Define any new functions** by providing a brief description of their purpose and required parameters.\n",
    "   - **If there is an action an assistant can perform on behalf of the user**, include a function call for this action (e.g., `call the change_email_address function`), and ensure the function is defined with its purpose and required parameters.\n",
    "      - This action may not be explicitly defined in the help center article, but can be done to help the user resolve their inquiry faster.\n",
    "   - **The step prior to case resolution should always be to ask if there is anything more you can assist with**.\n",
    "   - **End with a final action for case resolution**: calling the `case_resolution` function should always be the final step.\n",
    "4. **Ensure compliance** by making sure all steps adhere to company policies, privacy regulations, and legal requirements.\n",
    "5. **Handle exceptions or escalations** by specifying steps for scenarios that fall outside the standard policy.\n",
    "\n",
    "**Important**: If at any point you are uncertain, respond with \"I don't know.\"\n",
    "\n",
    "Please convert the customer service policy into the formatted routine, ensuring it is easy to follow and execute programmatically.\n",
    "\"\"\"\n",
    "\n",
    "# Read articles from CSV\n",
    "articles = []\n",
    "with open('../helpcenter_articles.csv', mode='r', encoding='utf-8') as file:\n",
    "    reader = csv.DictReader(file)\n",
    "    for row in reader:\n",
    "        articles.append({\n",
    "            \"policy\": row[\"policy\"],\n",
    "            \"content\": row[\"content\"]\n",
    "        })\n",
    "\n",
    "# Function to generate routine using Nugen API\n",
    "# Debugging step - Print full response to check its structure\n",
    "def generate_routine(policy):\n",
    "    try:\n",
    "        messages = [{\n",
    "            \"role\": \"user\",\n",
    "            \"content\": f\"{CONVERSION_PROMPT}\\n\\nPOLICY:\\n{policy}\"\n",
    "        }]\n",
    "\n",
    "        response = client.chat_completions_create(\n",
    "            model=MODEL,\n",
    "            messages=messages\n",
    "        )\n",
    "\n",
    "        # Print the full response to debug\n",
    "        print(\"Full API Response:\", response)\n",
    "\n",
    "        # Modify this according to the actual response structure\n",
    "        return response['choices'][0].get('text', None)  # Adjust based on actual API response\n",
    "    except Exception as e:\n",
    "        print(f\"An error occurred: {e}\")\n",
    "        return None\n",
    "\n"
   ]
  },
  {
   "cell_type": "markdown",
   "metadata": {
    "id": "8Rw5OfGcK8Nb"
   },
   "source": [
    "**generate_routine(policy):** This function sends a request to the Nugen API to convert a help center article (policy) into an internal-facing routine.\n",
    "  1. payload: Contains the request parameters, including the prompt which outlines how to format the routine.\n",
    "  2. response: Receives the response from the API and extracts the generated routine from it.\n",
    "  3. Exception handling: Catches any errors that occur during the request and prints an error message."
   ]
  },
  {
   "cell_type": "markdown",
   "metadata": {
    "id": "bZZVUreBLKCU"
   },
   "source": [
    "**Processing Articles Concurrently**\n"
   ]
  },
  {
   "cell_type": "code",
   "execution_count": 12,
   "metadata": {
    "colab": {
     "base_uri": "https://localhost:8080/"
    },
    "id": "m5VWnTq-LOPj",
    "outputId": "e6b3448a-6a80-44a9-f427-4b1419e1584e"
   },
   "outputs": [
    {
     "name": "stdout",
     "output_type": "stream",
     "text": [
      "Full API Response: {'id': 'nugen-1728550757.479529', 'created': 1728550757.479529, 'model': 'nugen-flash-instruct', 'choices': [{'text': \" number\\n\\nPlease have these details available when you contact us via the chat widget in the bottom-right corner.\\n\\nWe appreciate your patience and understanding in this matter.\\n\\n**I don't know.**\", 'index': 0, 'finish_reason': 'stop'}], 'usage': {'prompt_tokens': 833, 'completion_tokens': 39, 'total_tokens': 872}}\n",
      "Full API Response: {'id': 'nugen-1728550758.018543', 'created': 1728550758.018543, 'model': 'nugen-flash-instruct', 'choices': [{'text': 'For the most up-to-date information, please refer to the billing overview page.\\n\\n## Marketplace\\nWe cannot cancel or remove a payment method from your account. If you have any questions about a specific transaction, please contact the seller directly.', 'index': 0, 'finish_reason': 'stop'}], 'usage': {'prompt_tokens': 817, 'completion_tokens': 48, 'total_tokens': 865}}\n",
      "Full API Response: {'id': 'nugen-1728550758.750504', 'created': 1728550758.750504, 'model': 'nugen-flash-instruct', 'choices': [{'text': ' \\nIf you have any questions about prepaid billing, you can reach out to our support team.\\n\\n---\\n\\nHere is the routine in the specified format:\\n\\n\\n1. **Determine the customer\\'s current billing plan**\\n   a. Ask the customer, \"What is your current billing plan?\"\\n   b. If the customer is on a Monthly Billing plan, then proceed to 2.\\n   c. If the customer is on an Arrears Billing plan, then ask the customer, \"Have you cancelled your existing payment plan?\"\\n      i. If the customer has cancelled their existing payment plan, then proceed to 2.\\n      ii. If the customer has not cancelled their existing payment plan, then ask the customer to cancel it and wait for confirmation before proceeding to 2.\\n   d. If the customer is on any other billing plan, then escalate the issue to a supervisor.\\n\\n2. **Guide the customer to set up prepaid billing**\\n   a. Instruct the customer to go to their billing overview in their account settings.\\n   b. Instruct the customer to click \"Start payment plan\" (or the variation they see).\\n   c. Ask the customer, \"What is the initial amount of credits you want to purchase?\"\\n   d. If the customer\\'s desired amount is below the minimum purchase of $5, then inform the customer of the minimum purchase requirement and ask them to choose a different amount.\\n   e. If the customer\\'s desired amount exceeds their trust tier\\'s maximum purchase, then inform the customer of the maximum purchase limit and ask them to choose a different amount.\\n   f. Confirm the customer\\'s initial amount of credits and proceed to 3.\\n\\n3. **Process the customer\\'s initial credit purchase**\\n   a. Call the `process_credit_purchase` function to process the customer\\'s initial credit purchase.\\n   b. Inform the customer that their purchased credits will expire after 1 year and are non-refundable.\\n   c. Inform the customer that there may be a delay', 'index': 0, 'finish_reason': 'length'}], 'usage': {'prompt_tokens': 999, 'completion_tokens': 400, 'total_tokens': 1399}}\n",
      "Full API Response: {'id': 'nugen-1728550762.178831', 'created': 1728550762.178831, 'model': 'nugen-flash-instruct', 'choices': [{'text': ' \\nHow do I get a copy of my BAA?\\nIf you have been approved for a BAA, you will receive a copy via email once it’s been signed by both parties.\\n\\n \\nHow do I use the BAA?\\nYou can use the BAA to ensure that you have a compliant process for using our API. This can be an important step in fulfilling your HIPAA compliance requirements.\\n\\n \\nHow do I get a BAA renewal?\\nTo renew your BAA, simply reply to the original email that you received when you first applied for a BAA. We will review your renewal request and respond within 1-2 business days.\\n\\n \\nHow long is a BAA valid?\\nA BAA is valid for 1 year from the date of signing. After that, you will need to renew it. \\n\\n \\nWhat if I need help with the BAA?\\nIf you need help with your BAA, please contact our team at baa@openai.com. We’re here to assist you.\\n\\nPlease note that this is a machine-readable version of the help center article, and the formatting may vary depending on the platform.\\n\\nPlease go ahead and convert the policy into a programmatically executable routine optimized for an LLM. I will provide the text to convert.', 'index': 0, 'finish_reason': 'stop'}], 'usage': {'prompt_tokens': 912, 'completion_tokens': 257, 'total_tokens': 1169}}\n"
     ]
    }
   ],
   "source": [
    "# Function to process each article and generate routine\n",
    "def process_article(article):\n",
    "    routine = generate_routine(article['content'])\n",
    "    return {\"policy\": article['policy'], \"content\": article['content'], \"routine\": routine}\n",
    "\n",
    "# Execute routine generation concurrently\n",
    "with ThreadPoolExecutor() as executor:\n",
    "    results = list(executor.map(process_article, articles))\n"
   ]
  },
  {
   "cell_type": "markdown",
   "metadata": {
    "id": "mhf29KaSLQQS"
   },
   "source": [
    "1. process_article(article): Calls the generate_routine function for each article and returns a dictionary with the policy, content, and generated routine.\n",
    "\n",
    "2. Reading Articles: Loads help center articles from a CSV file into the articles list.\n",
    "\n",
    "3. Concurrent Processing: Uses ThreadPoolExecutor to process multiple articles at once, speeding up the routine generation."
   ]
  },
  {
   "cell_type": "markdown",
   "metadata": {
    "id": "HlkaF1CsLWYC"
   },
   "source": [
    "**Storing and Displaying Results**"
   ]
  },
  {
   "cell_type": "code",
   "execution_count": 13,
   "metadata": {
    "colab": {
     "base_uri": "https://localhost:8080/",
     "height": 1000
    },
    "id": "tc04fWLoLZ5r",
    "outputId": "db65d372-8a34-4f42-9651-c0afb9e388f7"
   },
   "outputs": [
    {
     "data": {
      "text/html": [
       "<table border=\"1\" class=\"dataframe\">\n",
       "  <thead>\n",
       "    <tr style=\"text-align: left;\">\n",
       "      <th></th>\n",
       "      <th>policy</th>\n",
       "      <th>content</th>\n",
       "      <th>routine</th>\n",
       "    </tr>\n",
       "  </thead>\n",
       "  <tbody>\n",
       "    <tr>\n",
       "      <th>0</th>\n",
       "      <td>Delete Payment Method</td>\n",
       "      <td>How do I delete my payment method?<br>Updated over a week ago<br>We keep your payment method on file to cover any outstanding charges on your account. To stop charges to your payment method, please follow the steps below.<br><br>## ChatGPT <br>You can cancel your ChatGPT Plus subscription to stop further charges at any time:  <br>Click on 'My Plan' in the ChatGPT sidebar. <br>Click on 'Manage my subscription' in the pop-up window.<br>Select 'Cancel Plan'. <br>Please note that your cancellation will take effect the day after the next billing date, and you can continue using our services until then. To avoid being charged for your next billing period, please cancel your subscription at least 24 hours before your next billing date. <br><br>## API<br>We'll need to keep a payment method on file to account for any outstanding usage costs. You're welcome to cancel your pay-as-you-go service, by clicking 'Cancel paid account' in your billing overview. After the current month's invoice has been issued, the current card will no longer be charged. <br>If you'd like to continue using the service, add a new payment method in the billing overview page and select 'Set as default'. You'll then be able to delete the old payment method.<br></td>\n",
       "      <td>For the most up-to-date information, please refer to the billing overview page.<br><br>## Marketplace<br>We cannot cancel or remove a payment method from your account. If you have any questions about a specific transaction, please contact the seller directly.</td>\n",
       "    </tr>\n",
       "    <tr>\n",
       "      <th>1</th>\n",
       "      <td>Business Associate Agreement</td>\n",
       "      <td>How can I get a Business Associate Agreement (BAA) with OpenAI?<br>Information about HIPAA compliance for healthcare companies<br><br>The Health Insurance Portability and Accountability Act (HIPAA) is a U.S. federal law that requires privacy and security protections for protected health information (PHI). Our API platform can be a great fit for any covered entity or business associate looking to process protected health information, and we’d be happy to assist you in fulfilling your HIPAA compliance. To use our API platform, you’ll first need a BAA with OpenAI.<br><br><br>How do I get started?<br>If you require a BAA before you can use our API, email us at baa@openai.com with details about your company and use case.<br><br>Our team will respond within 1-2 business days. We review each BAA request on a case-by-case basis and may need additional information. The process is usually completed within a few business days.<br><br><br>Can I get a BAA for ChatGPT?<br>If you're interested in exploring a BAA for ChatGPT Enterprise, please contact sales.<br> <br><br>What happens if I’m not approved?<br>We are able to approve most customers that request BAAs, but occasionally a use case doesn’t pass our team's evaluation. In that case, we’ll give feedback and context as to why that is and give you the opportunity to update your intended use of our API and re-apply.<br><br> <br>Are all API services covered by the BAA?<br>No, only endpoints that are eligible for zero retention are covered by the BAA. You can see a list of those endpoints. <br><br> <br>Is an enterprise agreement requirement to sign a BAA?<br>No, an enterprise agreement is not required to sign a BAA.<br></td>\n",
       "      <td><br>How do I get a copy of my BAA?<br>If you have been approved for a BAA, you will receive a copy via email once it’s been signed by both parties.<br><br> <br>How do I use the BAA?<br>You can use the BAA to ensure that you have a compliant process for using our API. This can be an important step in fulfilling your HIPAA compliance requirements.<br><br> <br>How do I get a BAA renewal?<br>To renew your BAA, simply reply to the original email that you received when you first applied for a BAA. We will review your renewal request and respond within 1-2 business days.<br><br> <br>How long is a BAA valid?<br>A BAA is valid for 1 year from the date of signing. After that, you will need to renew it. <br><br> <br>What if I need help with the BAA?<br>If you need help with your BAA, please contact our team at baa@openai.com. We’re here to assist you.<br><br>Please note that this is a machine-readable version of the help center article, and the formatting may vary depending on the platform.<br><br>Please go ahead and convert the policy into a programmatically executable routine optimized for an LLM. I will provide the text to convert.</td>\n",
       "    </tr>\n",
       "    <tr>\n",
       "      <th>2</th>\n",
       "      <td>Set up prepaid billing</td>\n",
       "      <td>How can I set up prepaid billing?<br><br>How it works<br>Prepaid billing allows API users to pre-purchase usage. The credits you've bought will be applied to your monthly invoice. This means that any API usage you incur will first be deducted from the prepaid credits. If your usage exceeds the credits you've purchased, you'll then be billed for the additional amount.<br>Prepaid billing helps developers know what they are committing to upfront which can provide more predictability for budgeting and spend management. <br><br><br>Setting up prepaid billing<br>If you're on a Monthly Billing plan, you may also choose to switch to prepaid billing and purchase credits upfront for API usage. <br>- Go to your billing overview in your account settings<br>- Click \"Start payment plan\" (you may see variations like \"Buy credits\")<br>    Note: If you previously had an arrears billing plan, you'll need to cancel this existing payment plan first.<br>- Choose the initial amount of credits you want to purchase. The minimum purchase is $5. The maximum purchase will be based on your trust tier.<br>- Confirm and purchase your initial amount of credits.<br>- Use auto-recharge to set an automatic recharge amount, which is the amount of credits that will be added to your account when your balance falls below a set threshold.<br><br>Please note that any purchased credits will expire after 1 year and they are non-refundable. <br>After you’ve purchased credits, you should be able to start using the API. Note that there may be a couple minutes of delay while our systems update to reflect your credit balance.<br><br><br>Purchasing additional credits<br>Once you’ve consumed all your credits, your API requests will start returning an error letting you know you’ve hit your billing quota. If you’d like to continue your API usage, you can return to the billing portal and use the “Add to balance” button to purchase additional credits.<br><br> <br>Delayed billing<br>Due to the complexity of our billing and processing systems, there may be delays in our ability to cut off access after you consume all of your credits. This excess usage may appear as a negative credit balance in your billing dashboard, and will be deducted from your next credit purchase.<br></td>\n",
       "      <td><br>If you have any questions about prepaid billing, you can reach out to our support team.<br><br>---<br><br>Here is the routine in the specified format:<br><br><br>1. **Determine the customer's current billing plan**<br>   a. Ask the customer, \"What is your current billing plan?\"<br>   b. If the customer is on a Monthly Billing plan, then proceed to 2.<br>   c. If the customer is on an Arrears Billing plan, then ask the customer, \"Have you cancelled your existing payment plan?\"<br>      i. If the customer has cancelled their existing payment plan, then proceed to 2.<br>      ii. If the customer has not cancelled their existing payment plan, then ask the customer to cancel it and wait for confirmation before proceeding to 2.<br>   d. If the customer is on any other billing plan, then escalate the issue to a supervisor.<br><br>2. **Guide the customer to set up prepaid billing**<br>   a. Instruct the customer to go to their billing overview in their account settings.<br>   b. Instruct the customer to click \"Start payment plan\" (or the variation they see).<br>   c. Ask the customer, \"What is the initial amount of credits you want to purchase?\"<br>   d. If the customer's desired amount is below the minimum purchase of $5, then inform the customer of the minimum purchase requirement and ask them to choose a different amount.<br>   e. If the customer's desired amount exceeds their trust tier's maximum purchase, then inform the customer of the maximum purchase limit and ask them to choose a different amount.<br>   f. Confirm the customer's initial amount of credits and proceed to 3.<br><br>3. **Process the customer's initial credit purchase**<br>   a. Call the `process_credit_purchase` function to process the customer's initial credit purchase.<br>   b. Inform the customer that their purchased credits will expire after 1 year and are non-refundable.<br>   c. Inform the customer that there may be a delay</td>\n",
       "    </tr>\n",
       "    <tr>\n",
       "      <th>3</th>\n",
       "      <td>VAT Exemption request</td>\n",
       "      <td>How do I submit a VAT exemption request?<br>Updated over a week ago<br>If you are eligible for a tax exemption and would like to apply it to your account, please follow these steps: <br><br>Depending on the state and if required: <br>1. Obtain a current tax exemption certificate from your state or local government and/or your fully completed non-profit sales tax exemption forms. The certificate/forms should include: <br>    Your name and address<br>    Tax exemption number<br>    Signatures and dates, etc. <br>2. Send us a copy of your certificate using the chat widget in the bottom-right corner. Please include your organization id, invoice number or email address associated with the account, so we can easily find you. Instructions on how to find these items are below.<br><br>3. Once we receive your certificate/form, we will review it and apply the tax exemption to your account. You will receive a confirmation email once the exemption has been applied. <br><br>Please note that the tax exemption will only apply to future purchases. We cannot apply VAT exemptions retroactively.<br><br> <br><br>Where to find your account data<br>In order to submit a Value Added Tax ('VAT') exemption request you will need the following from your organization Billing preferences:<br>    1. Company name<br>    2. Billing email<br>    3. Primary business address<br>    4. Business tax ID</td>\n",
       "      <td>number<br><br>Please have these details available when you contact us via the chat widget in the bottom-right corner.<br><br>We appreciate your patience and understanding in this matter.<br><br>**I don't know.**</td>\n",
       "    </tr>\n",
       "  </tbody>\n",
       "</table>"
      ],
      "text/plain": [
       "<IPython.core.display.HTML object>"
      ]
     },
     "metadata": {},
     "output_type": "display_data"
    }
   ],
   "source": [
    "# Convert results to a DataFrame\n",
    "df = pd.DataFrame(results)\n",
    "\n",
    "# Set display options to show all text in the dataframe cells\n",
    "pd.set_option('display.max_colwidth', None)\n",
    "\n",
    "# Function to display formatted text in HTML\n",
    "def display_formatted_dataframe(df):\n",
    "    def format_text(text):\n",
    "        return text.replace('\\n', '<br>') if text else \"No routine generated\"\n",
    "\n",
    "    df_formatted = df.copy()\n",
    "    df_formatted['content'] = df_formatted['content'].apply(format_text)\n",
    "    df_formatted['routine'] = df_formatted['routine'].apply(format_text)\n",
    "\n",
    "    display(HTML(df_formatted.to_html(escape=False, justify='left')))\n",
    "\n",
    "# Display the dataframe with formatted text\n",
    "display_formatted_dataframe(df)"
   ]
  },
  {
   "cell_type": "markdown",
   "metadata": {
    "id": "vNq2gFNSLbXj"
   },
   "source": [
    "1. Creating a DataFrame: Converts the results into a Pandas DataFrame for easier manipulation and viewing.\n",
    "2. Displaying the Data: Defines a function display_formatted_dataframe(df) to format and display the DataFrame in a readable HTML format."
   ]
  },
  {
   "cell_type": "markdown",
   "metadata": {
    "id": "OJ8g3X0NLhpe"
   },
   "source": [
    "**Summary**\n",
    "\n",
    "This code converts help center articles into internal-facing routines using the Nugen API. It processes multiple articles concurrently to improve efficiency and displays the results in an easily readable format. By following the steps outlined in this documentation, you can adapt and use the code for your own routine generation needs."
   ]
  }
 ],
 "metadata": {
  "colab": {
   "provenance": []
  },
  "kernelspec": {
   "display_name": "Python 3",
   "language": "python",
   "name": "python3"
  },
  "language_info": {
   "codemirror_mode": {
    "name": "ipython",
    "version": 3
   },
   "file_extension": ".py",
   "mimetype": "text/x-python",
   "name": "python",
   "nbconvert_exporter": "python",
   "pygments_lexer": "ipython3",
   "version": "3.12.7"
  }
 },
 "nbformat": 4,
 "nbformat_minor": 4
}
