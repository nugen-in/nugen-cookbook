{
 "cells": [
  {
   "cell_type": "markdown",
   "metadata": {
    "id": "aUcTOytBAbyN"
   },
   "source": [
    "## **Nugen Intelligence**\n",
    "<img src=\"https://nugen.in/logo.png\" alt=\"Nugen Logo\" width=\"200\"/>\n",
    "\n",
    "Domain-aligned foundational models at industry leading speeds and zero-data retention!"
   ]
  },
  {
   "cell_type": "markdown",
   "metadata": {
    "id": "FywHEB4QJ9dV"
   },
   "source": [
    "### **Using Reasoning for Routine Generation with Nugen API**\n",
    " \n",
    "This code demonstrates how to transform help center articles into executable routines using the Nugen API. By leveraging Nugen's powerful capabilities, we can convert externally-facing help center content into internally-facing routines that can be seamlessly integrated with a large language model (LLM).\n",
    "\n",
    "The goal is to enhance customer service operations by enabling the LLM to effectively handle customer inquiries and support tasks, ensuring a more efficient and responsive service experience. With Nugen’s advanced API, you can streamline your customer service processes and empower your team with actionable insights from existing help center content."
   ]
  },
  {
   "cell_type": "markdown",
   "metadata": {
    "id": "-I4VMoC2KLoE"
   },
   "source": [
    "**Importing Necessary Libraries**\n"
   ]
  },
  {
   "cell_type": "code",
   "execution_count": 1,
   "metadata": {
    "id": "L67ZWi3GKQ9r"
   },
   "outputs": [],
   "source": [
    "import requests\n",
    "from IPython.display import display, HTML\n",
    "import pandas as pd\n",
    "from concurrent.futures import ThreadPoolExecutor\n",
    "import csv"
   ]
  },
  {
   "cell_type": "markdown",
   "metadata": {
    "id": "DDhQwLjfKiQ3"
   },
   "source": [
    "* requests: A library to make HTTP\n",
    "* requests to the Nugen API.\n",
    "* pandas: A library to handle data manipulation and analysis.\n",
    "* ThreadPoolExecutor: A tool to run multiple tasks concurrently, speeding up processing.\n",
    "* csv: A module to read and write CSV files."
   ]
  },
  {
   "cell_type": "markdown",
   "metadata": {
    "id": "kwgINQetKsQd"
   },
   "source": [
    "**Setting Up the Nugen API**\n",
    "\n",
    "You can access Nugen API key from [here](https://docs.nugen.in/) for FREE! "
   ]
  },
  {
   "cell_type": "code",
   "execution_count": 19,
   "metadata": {},
   "outputs": [],
   "source": [
    "url_api_server = \"https://api.nugen.in\"\n",
    "api_key =  \"your api key\" # Replace with your actual Nugen API key\n",
    "MODEL = \"nugen-flash-instruct\""
   ]
  },
  {
   "cell_type": "code",
   "execution_count": 20,
   "metadata": {
    "id": "MBM_OiARKOYA"
   },
   "outputs": [],
   "source": [
    "class NugenAPIClient:\n",
    "    def __init__(self, base_url, api_key):\n",
    "        self.base_url = base_url\n",
    "        self.api_key = api_key\n",
    "\n",
    "    def chat_completions_create(self, model, messages, max_tokens=400, temperature=1):\n",
    "        url = f\"{self.base_url}/inference/completions\"\n",
    "        headers = {\n",
    "            \"Authorization\": f\"Bearer {self.api_key}\",\n",
    "            \"Content-Type\": \"application/json\"\n",
    "        }\n",
    "        prompt = \"\\n\".join([message[\"content\"] for message in messages])\n",
    "\n",
    "        payload = {\n",
    "            \"model\": model,\n",
    "            \"prompt\": prompt,\n",
    "            \"max_tokens\": max_tokens,\n",
    "            \"temperature\": temperature\n",
    "        }\n",
    "\n",
    "        response = requests.post(url, json=payload, headers=headers)\n",
    "\n",
    "        if response.status_code == 200:\n",
    "            return response.json()\n",
    "        else:\n",
    "            raise Exception(f\"Error {response.status_code}: {response.text}\")\n",
    "\n",
    "# Instantiate Nugen client\n",
    "client = NugenAPIClient(base_url=url_api_server, api_key=api_key)\n"
   ]
  },
  {
   "cell_type": "markdown",
   "metadata": {
    "id": "GG_qZDVVKyJN"
   },
   "source": [
    "1. url: The endpoint for the Nugen API where we send our requests.\n",
    "\n",
    "2. headers: Includes the authorization token for API access and specifies that we're sending JSON data."
   ]
  },
  {
   "cell_type": "markdown",
   "metadata": {
    "id": "4nXd4kxDK276"
   },
   "source": [
    "**Defining the Routine Generation Function**"
   ]
  },
  {
   "cell_type": "code",
   "execution_count": 21,
   "metadata": {
    "id": "1abSuDxSK2Fc"
   },
   "outputs": [],
   "source": [
    "CONVERSION_PROMPT = \"\"\"\n",
    "You are a helpful assistant tasked with taking an external facing help center article and converting it into an internal-facing programmatically executable routine optimized for an LLM.\n",
    "The LLM using this routine will be tasked with reading the policy, answering incoming questions from customers, and helping drive the case toward resolution.\n",
    "\n",
    "Please follow these instructions:\n",
    "1. **Review the customer service policy carefully** to ensure every step is accounted for. It is crucial not to skip any steps or policies.\n",
    "2. **Organize the instructions into a logical, step-by-step order**, using the specified format.\n",
    "3. **Use the following format**:\n",
    "   - **Main actions are numbered** (e.g., 1, 2, 3).\n",
    "   - **Sub-actions are lettered** under their relevant main actions (e.g., 1a, 1b).\n",
    "      **Sub-actions should start on new lines**\n",
    "   - **Specify conditions using clear 'if...then...else' statements** (e.g., 'If the product was purchased within 30 days, then...').\n",
    "   - **For instructions that require more information from the customer**, provide polite and professional prompts to ask for additional information.\n",
    "   - **For actions that require data from external systems**, write a step to call a function using backticks for the function name (e.g., `call the check_delivery_date function`).\n",
    "      - **If a step requires the customer service agent to take an action** (e.g., process a refund), generate a function call for this action (e.g., `call the process_refund function`).\n",
    "      - **Define any new functions** by providing a brief description of their purpose and required parameters.\n",
    "   - **If there is an action an assistant can perform on behalf of the user**, include a function call for this action (e.g., `call the change_email_address function`), and ensure the function is defined with its purpose and required parameters.\n",
    "      - This action may not be explicitly defined in the help center article, but can be done to help the user resolve their inquiry faster.\n",
    "   - **The step prior to case resolution should always be to ask if there is anything more you can assist with**.\n",
    "   - **End with a final action for case resolution**: calling the `case_resolution` function should always be the final step.\n",
    "4. **Ensure compliance** by making sure all steps adhere to company policies, privacy regulations, and legal requirements.\n",
    "5. **Handle exceptions or escalations** by specifying steps for scenarios that fall outside the standard policy.\n",
    "\n",
    "**Important**: If at any point you are uncertain, respond with \"I don't know.\"\n",
    "\n",
    "Please convert the customer service policy into the formatted routine, ensuring it is easy to follow and execute programmatically.\n",
    "\"\"\"\n",
    "\n",
    "# Read articles from CSV\n",
    "articles = []\n",
    "with open('../helpcenter_articles.csv', mode='r', encoding='utf-8') as file:\n",
    "    reader = csv.DictReader(file)\n",
    "    for row in reader:\n",
    "        articles.append({\n",
    "            \"policy\": row[\"policy\"],\n",
    "            \"content\": row[\"content\"]\n",
    "        })\n",
    "\n",
    "# Function to generate routine using Nugen API\n",
    "# Debugging step - Print full response to check its structure\n",
    "def generate_routine(policy):\n",
    "    try:\n",
    "        messages = [{\n",
    "            \"role\": \"user\",\n",
    "            \"content\": f\"{CONVERSION_PROMPT}\\n\\nPOLICY:\\n{policy}\"\n",
    "        }]\n",
    "\n",
    "        response = client.chat_completions_create(\n",
    "            model=MODEL,\n",
    "            messages=messages\n",
    "        )\n",
    "\n",
    "        # Print the full response to debug\n",
    "        print(\"Full API Response:\", response)\n",
    "\n",
    "        # Modify this according to the actual response structure\n",
    "        return response['choices'][0].get('text', None)  # Adjust based on actual API response\n",
    "    except Exception as e:\n",
    "        print(f\"An error occurred: {e}\")\n",
    "        return None\n",
    "\n"
   ]
  },
  {
   "cell_type": "markdown",
   "metadata": {
    "id": "8Rw5OfGcK8Nb"
   },
   "source": [
    "**generate_routine(policy):** This function sends a request to the Nugen API to convert a help center article (policy) into an internal-facing routine.\n",
    "  1. payload: Contains the request parameters, including the prompt which outlines how to format the routine.\n",
    "  2. response: Receives the response from the API and extracts the generated routine from it.\n",
    "  3. Exception handling: Catches any errors that occur during the request and prints an error message."
   ]
  },
  {
   "cell_type": "markdown",
   "metadata": {
    "id": "bZZVUreBLKCU"
   },
   "source": [
    "**Processing Articles Concurrently**\n"
   ]
  },
  {
   "cell_type": "code",
   "execution_count": 22,
   "metadata": {
    "colab": {
     "base_uri": "https://localhost:8080/"
    },
    "id": "m5VWnTq-LOPj",
    "outputId": "e6b3448a-6a80-44a9-f427-4b1419e1584e"
   },
   "outputs": [
    {
     "name": "stdout",
     "output_type": "stream",
     "text": [
      "Full API Response: {'id': 'nugen-1728036394.873584', 'created': 1728036394.873584, 'model': 'nugen-flash-instruct', 'choices': [{'text': \"\\n\\nIf you need help with these steps, please let us know.\\n\\nWe cannot guarantee the approval of all exemption requests, and it may take several days for us to review and process your application.\\n\\nIf your organization has any questions or concerns, please contact our Customer Service team.\\n\\n \\n\\nCustomer Service Contact Information\\nEmail: [insert email]\\nPhone: [insert phone number]\\nChat: [insert chat widget]\\n\\nHere is the formatted routine:\\n\\n1. Review the customer's request for a VAT exemption.\\n    a. If the customer is eligible for a tax exemption, then:\\n        1. Request the customer to obtain a current tax exemption certificate from their state or local government and/or their fully completed non-profit sales tax exemption forms.\\n        2. Instruct the customer to include their organization id, invoice number, or email address associated with the account, so we can easily find them.\\n        3. Request the customer to send a copy of their certificate using the chat widget in the bottom-right corner.\\n    b. If the customer is not eligible for a tax exemption, then:\\n        1. Inform the customer that they are not eligible for a tax exemption.\\n        2. Provide information on other tax options that may be available to them.\\n\\n2. Review the customer's certificate/form.\\n    a. If the certificate/form is valid, then:\\n        1. Apply the tax exemption to the customer's account.\\n        2. Send a confirmation email to the customer once the exemption has been applied.\\n    b. If the certificate/form is invalid, then:\\n        1. Inform the customer that their certificate/form is invalid.\\n        2. Request the customer to provide a valid certificate/form.\\n\\n3. If the customer has any questions or concerns, then:\\n    a. Provide information on how to contact our Customer Service team.\\n    b. Offer to assist the customer with their inquiry.\\n\\n4. If the customer's exemption request is approved, then:\\n    a.\", 'index': 0, 'finish_reason': 'length'}], 'usage': {'prompt_tokens': 833, 'completion_tokens': 400, 'total_tokens': 1233}}\n",
      "Full API Response: {'id': 'nugen-1728036399.962331', 'created': 1728036399.962331, 'model': 'nugen-flash-instruct', 'choices': [{'text': 'If you have any questions or need help with the process, feel free to ask.', 'index': 0, 'finish_reason': 'stop'}], 'usage': {'prompt_tokens': 817, 'completion_tokens': 18, 'total_tokens': 835}}\n",
      "Full API Response: {'id': 'nugen-1728036400.522491', 'created': 1728036400.522491, 'model': 'nugen-flash-instruct', 'choices': [{'text': \" \\nHow can I get an enterprise agreement?\\nIf you are interested in purchasing an enterprise agreement, please contact our sales team at sales@openai.com. \\n\\n\\nPlease find a copy of the BAA on our website.\\n\\n\\n1. **Review the customer's request**:\\n   - If the customer is looking for a BAA for OpenAI, then proceed to the next step.\\n   - If the customer is looking for a BAA for ChatGPT Enterprise, then direct them to contact sales.\\n   - If the customer is looking for information about HIPAA compliance, then provide information about HIPAA compliance for healthcare companies.\\n\\n2. **Determine the customer's use case**:\\n   - If the customer has already provided details about their company and use case, then proceed to the next step.\\n   - If the customer has not provided details about their company and use case, then ask for additional information.\\n   - `call the check_use_case function` to verify the customer's use case.\\n\\n3. **Process the BAA request**:\\n   - If the customer's use case is approved, then proceed to the next step.\\n   - If the customer's use case is not approved, then provide feedback and context as to why it was not approved.\\n   - `call the process_baa_request function` to process the BAA request.\\n\\n4. **Determine the customer's BAA requirements**:\\n   - If the customer requires a BAA for zero retention endpoints, then proceed to the next step.\\n   - If the customer does not require a BAA for zero retention endpoints, then provide information about the endpoints that are covered by the BAA.\\n   - `call the check_baa_requirements function` to verify the customer's BAA requirements.\\n\\n5. **Provide additional information**:\\n   - If the customer is interested in purchasing an enterprise agreement, then provide information about how to contact the sales team.\\n   - If the customer is interested in learning more about HIPAA\", 'index': 0, 'finish_reason': 'length'}], 'usage': {'prompt_tokens': 912, 'completion_tokens': 400, 'total_tokens': 1312}}\n",
      "Full API Response: {'id': 'nugen-1728036405.410834', 'created': 1728036405.410834, 'model': 'nugen-flash-instruct', 'choices': [{'text': ' \\n\\nCase resolution\\nIf you\\'ve purchased prepaid billing credits, we\\'ll apply the credits to your monthly invoice. We\\'ll then either apply any additional usage to your next month\\'s invoice or we\\'ll request a payment for any overage. \\n\\n\\nHere is the routine in the specified format:\\n\\n1. **Determine if the customer has an existing prepaid billing plan**\\n   a. Ask the customer: \"Do you currently have a prepaid billing plan set up?\"\\n   b. If yes, then:\\n      i. Ask the customer: \"Are you looking to purchase additional credits?\"\\n      ii. If yes, then:\\n         - Call the `add_to_balance` function to add the additional credits to the customer\\'s account.\\n         - Go to step 3.\\n      iii. If no, then:\\n         - Call the `billing_overview` function to view the customer\\'s current billing information.\\n         - Go to step 2.\\n   c. If no, then:\\n      i. Ask the customer: \"Would you like to set up a prepaid billing plan?\"\\n      ii. If yes, then:\\n         - Call the `start_payment_plan` function to begin the setup process.\\n         - Go to step 2.\\n\\n2. **Set up prepaid billing**\\n   a. Ask the customer: \"Would you like to cancel your existing arrears billing plan?\"\\n   b. If yes, then:\\n      - Call the `cancel_arrears_billing_plan` function to cancel the existing plan.\\n      - Call the `start_payment_plan` function to begin the setup process.\\n   c. Ask the customer: \"What is the initial amount of credits you\\'d like to purchase?\"\\n   d. If the customer responds with an amount:\\n      - Call the `purchase_credits` function to purchase the initial amount of credits.\\n      - Go to step 3.\\n   e. If the customer responds with a question or needs more information:\\n      - Provide information about the prepaid billing plan', 'index': 0, 'finish_reason': 'length'}], 'usage': {'prompt_tokens': 999, 'completion_tokens': 400, 'total_tokens': 1399}}\n"
     ]
    }
   ],
   "source": [
    "# Function to process each article and generate routine\n",
    "def process_article(article):\n",
    "    routine = generate_routine(article['content'])\n",
    "    return {\"policy\": article['policy'], \"content\": article['content'], \"routine\": routine}\n",
    "\n",
    "# Execute routine generation concurrently\n",
    "with ThreadPoolExecutor() as executor:\n",
    "    results = list(executor.map(process_article, articles))\n"
   ]
  },
  {
   "cell_type": "markdown",
   "metadata": {
    "id": "mhf29KaSLQQS"
   },
   "source": [
    "1. process_article(article): Calls the generate_routine function for each article and returns a dictionary with the policy, content, and generated routine.\n",
    "\n",
    "2. Reading Articles: Loads help center articles from a CSV file into the articles list.\n",
    "\n",
    "3. Concurrent Processing: Uses ThreadPoolExecutor to process multiple articles at once, speeding up the routine generation."
   ]
  },
  {
   "cell_type": "markdown",
   "metadata": {
    "id": "HlkaF1CsLWYC"
   },
   "source": [
    "**Storing and Displaying Results**"
   ]
  },
  {
   "cell_type": "code",
   "execution_count": 23,
   "metadata": {
    "colab": {
     "base_uri": "https://localhost:8080/",
     "height": 1000
    },
    "id": "tc04fWLoLZ5r",
    "outputId": "db65d372-8a34-4f42-9651-c0afb9e388f7"
   },
   "outputs": [
    {
     "data": {
      "text/html": [
       "<table border=\"1\" class=\"dataframe\">\n",
       "  <thead>\n",
       "    <tr style=\"text-align: left;\">\n",
       "      <th></th>\n",
       "      <th>policy</th>\n",
       "      <th>content</th>\n",
       "      <th>routine</th>\n",
       "    </tr>\n",
       "  </thead>\n",
       "  <tbody>\n",
       "    <tr>\n",
       "      <th>0</th>\n",
       "      <td>Delete Payment Method</td>\n",
       "      <td>How do I delete my payment method?<br>Updated over a week ago<br>We keep your payment method on file to cover any outstanding charges on your account. To stop charges to your payment method, please follow the steps below.<br><br>## ChatGPT <br>You can cancel your ChatGPT Plus subscription to stop further charges at any time:  <br>Click on 'My Plan' in the ChatGPT sidebar. <br>Click on 'Manage my subscription' in the pop-up window.<br>Select 'Cancel Plan'. <br>Please note that your cancellation will take effect the day after the next billing date, and you can continue using our services until then. To avoid being charged for your next billing period, please cancel your subscription at least 24 hours before your next billing date. <br><br>## API<br>We'll need to keep a payment method on file to account for any outstanding usage costs. You're welcome to cancel your pay-as-you-go service, by clicking 'Cancel paid account' in your billing overview. After the current month's invoice has been issued, the current card will no longer be charged. <br>If you'd like to continue using the service, add a new payment method in the billing overview page and select 'Set as default'. You'll then be able to delete the old payment method.<br></td>\n",
       "      <td>If you have any questions or need help with the process, feel free to ask.</td>\n",
       "    </tr>\n",
       "    <tr>\n",
       "      <th>1</th>\n",
       "      <td>Business Associate Agreement</td>\n",
       "      <td>How can I get a Business Associate Agreement (BAA) with OpenAI?<br>Information about HIPAA compliance for healthcare companies<br><br>The Health Insurance Portability and Accountability Act (HIPAA) is a U.S. federal law that requires privacy and security protections for protected health information (PHI). Our API platform can be a great fit for any covered entity or business associate looking to process protected health information, and we’d be happy to assist you in fulfilling your HIPAA compliance. To use our API platform, you’ll first need a BAA with OpenAI.<br><br><br>How do I get started?<br>If you require a BAA before you can use our API, email us at baa@openai.com with details about your company and use case.<br><br>Our team will respond within 1-2 business days. We review each BAA request on a case-by-case basis and may need additional information. The process is usually completed within a few business days.<br><br><br>Can I get a BAA for ChatGPT?<br>If you're interested in exploring a BAA for ChatGPT Enterprise, please contact sales.<br> <br><br>What happens if I’m not approved?<br>We are able to approve most customers that request BAAs, but occasionally a use case doesn’t pass our team's evaluation. In that case, we’ll give feedback and context as to why that is and give you the opportunity to update your intended use of our API and re-apply.<br><br> <br>Are all API services covered by the BAA?<br>No, only endpoints that are eligible for zero retention are covered by the BAA. You can see a list of those endpoints. <br><br> <br>Is an enterprise agreement requirement to sign a BAA?<br>No, an enterprise agreement is not required to sign a BAA.<br></td>\n",
       "      <td><br>How can I get an enterprise agreement?<br>If you are interested in purchasing an enterprise agreement, please contact our sales team at sales@openai.com. <br><br><br>Please find a copy of the BAA on our website.<br><br><br>1. **Review the customer's request**:<br>   - If the customer is looking for a BAA for OpenAI, then proceed to the next step.<br>   - If the customer is looking for a BAA for ChatGPT Enterprise, then direct them to contact sales.<br>   - If the customer is looking for information about HIPAA compliance, then provide information about HIPAA compliance for healthcare companies.<br><br>2. **Determine the customer's use case**:<br>   - If the customer has already provided details about their company and use case, then proceed to the next step.<br>   - If the customer has not provided details about their company and use case, then ask for additional information.<br>   - `call the check_use_case function` to verify the customer's use case.<br><br>3. **Process the BAA request**:<br>   - If the customer's use case is approved, then proceed to the next step.<br>   - If the customer's use case is not approved, then provide feedback and context as to why it was not approved.<br>   - `call the process_baa_request function` to process the BAA request.<br><br>4. **Determine the customer's BAA requirements**:<br>   - If the customer requires a BAA for zero retention endpoints, then proceed to the next step.<br>   - If the customer does not require a BAA for zero retention endpoints, then provide information about the endpoints that are covered by the BAA.<br>   - `call the check_baa_requirements function` to verify the customer's BAA requirements.<br><br>5. **Provide additional information**:<br>   - If the customer is interested in purchasing an enterprise agreement, then provide information about how to contact the sales team.<br>   - If the customer is interested in learning more about HIPAA</td>\n",
       "    </tr>\n",
       "    <tr>\n",
       "      <th>2</th>\n",
       "      <td>Set up prepaid billing</td>\n",
       "      <td>How can I set up prepaid billing?<br><br>How it works<br>Prepaid billing allows API users to pre-purchase usage. The credits you've bought will be applied to your monthly invoice. This means that any API usage you incur will first be deducted from the prepaid credits. If your usage exceeds the credits you've purchased, you'll then be billed for the additional amount.<br>Prepaid billing helps developers know what they are committing to upfront which can provide more predictability for budgeting and spend management. <br><br><br>Setting up prepaid billing<br>If you're on a Monthly Billing plan, you may also choose to switch to prepaid billing and purchase credits upfront for API usage. <br>- Go to your billing overview in your account settings<br>- Click \"Start payment plan\" (you may see variations like \"Buy credits\")<br>    Note: If you previously had an arrears billing plan, you'll need to cancel this existing payment plan first.<br>- Choose the initial amount of credits you want to purchase. The minimum purchase is $5. The maximum purchase will be based on your trust tier.<br>- Confirm and purchase your initial amount of credits.<br>- Use auto-recharge to set an automatic recharge amount, which is the amount of credits that will be added to your account when your balance falls below a set threshold.<br><br>Please note that any purchased credits will expire after 1 year and they are non-refundable. <br>After you’ve purchased credits, you should be able to start using the API. Note that there may be a couple minutes of delay while our systems update to reflect your credit balance.<br><br><br>Purchasing additional credits<br>Once you’ve consumed all your credits, your API requests will start returning an error letting you know you’ve hit your billing quota. If you’d like to continue your API usage, you can return to the billing portal and use the “Add to balance” button to purchase additional credits.<br><br> <br>Delayed billing<br>Due to the complexity of our billing and processing systems, there may be delays in our ability to cut off access after you consume all of your credits. This excess usage may appear as a negative credit balance in your billing dashboard, and will be deducted from your next credit purchase.<br></td>\n",
       "      <td><br><br>Case resolution<br>If you've purchased prepaid billing credits, we'll apply the credits to your monthly invoice. We'll then either apply any additional usage to your next month's invoice or we'll request a payment for any overage. <br><br><br>Here is the routine in the specified format:<br><br>1. **Determine if the customer has an existing prepaid billing plan**<br>   a. Ask the customer: \"Do you currently have a prepaid billing plan set up?\"<br>   b. If yes, then:<br>      i. Ask the customer: \"Are you looking to purchase additional credits?\"<br>      ii. If yes, then:<br>         - Call the `add_to_balance` function to add the additional credits to the customer's account.<br>         - Go to step 3.<br>      iii. If no, then:<br>         - Call the `billing_overview` function to view the customer's current billing information.<br>         - Go to step 2.<br>   c. If no, then:<br>      i. Ask the customer: \"Would you like to set up a prepaid billing plan?\"<br>      ii. If yes, then:<br>         - Call the `start_payment_plan` function to begin the setup process.<br>         - Go to step 2.<br><br>2. **Set up prepaid billing**<br>   a. Ask the customer: \"Would you like to cancel your existing arrears billing plan?\"<br>   b. If yes, then:<br>      - Call the `cancel_arrears_billing_plan` function to cancel the existing plan.<br>      - Call the `start_payment_plan` function to begin the setup process.<br>   c. Ask the customer: \"What is the initial amount of credits you'd like to purchase?\"<br>   d. If the customer responds with an amount:<br>      - Call the `purchase_credits` function to purchase the initial amount of credits.<br>      - Go to step 3.<br>   e. If the customer responds with a question or needs more information:<br>      - Provide information about the prepaid billing plan</td>\n",
       "    </tr>\n",
       "    <tr>\n",
       "      <th>3</th>\n",
       "      <td>VAT Exemption request</td>\n",
       "      <td>How do I submit a VAT exemption request?<br>Updated over a week ago<br>If you are eligible for a tax exemption and would like to apply it to your account, please follow these steps: <br><br>Depending on the state and if required: <br>1. Obtain a current tax exemption certificate from your state or local government and/or your fully completed non-profit sales tax exemption forms. The certificate/forms should include: <br>    Your name and address<br>    Tax exemption number<br>    Signatures and dates, etc. <br>2. Send us a copy of your certificate using the chat widget in the bottom-right corner. Please include your organization id, invoice number or email address associated with the account, so we can easily find you. Instructions on how to find these items are below.<br><br>3. Once we receive your certificate/form, we will review it and apply the tax exemption to your account. You will receive a confirmation email once the exemption has been applied. <br><br>Please note that the tax exemption will only apply to future purchases. We cannot apply VAT exemptions retroactively.<br><br> <br><br>Where to find your account data<br>In order to submit a Value Added Tax ('VAT') exemption request you will need the following from your organization Billing preferences:<br>    1. Company name<br>    2. Billing email<br>    3. Primary business address<br>    4. Business tax ID</td>\n",
       "      <td><br><br>If you need help with these steps, please let us know.<br><br>We cannot guarantee the approval of all exemption requests, and it may take several days for us to review and process your application.<br><br>If your organization has any questions or concerns, please contact our Customer Service team.<br><br> <br><br>Customer Service Contact Information<br>Email: [insert email]<br>Phone: [insert phone number]<br>Chat: [insert chat widget]<br><br>Here is the formatted routine:<br><br>1. Review the customer's request for a VAT exemption.<br>    a. If the customer is eligible for a tax exemption, then:<br>        1. Request the customer to obtain a current tax exemption certificate from their state or local government and/or their fully completed non-profit sales tax exemption forms.<br>        2. Instruct the customer to include their organization id, invoice number, or email address associated with the account, so we can easily find them.<br>        3. Request the customer to send a copy of their certificate using the chat widget in the bottom-right corner.<br>    b. If the customer is not eligible for a tax exemption, then:<br>        1. Inform the customer that they are not eligible for a tax exemption.<br>        2. Provide information on other tax options that may be available to them.<br><br>2. Review the customer's certificate/form.<br>    a. If the certificate/form is valid, then:<br>        1. Apply the tax exemption to the customer's account.<br>        2. Send a confirmation email to the customer once the exemption has been applied.<br>    b. If the certificate/form is invalid, then:<br>        1. Inform the customer that their certificate/form is invalid.<br>        2. Request the customer to provide a valid certificate/form.<br><br>3. If the customer has any questions or concerns, then:<br>    a. Provide information on how to contact our Customer Service team.<br>    b. Offer to assist the customer with their inquiry.<br><br>4. If the customer's exemption request is approved, then:<br>    a.</td>\n",
       "    </tr>\n",
       "  </tbody>\n",
       "</table>"
      ],
      "text/plain": [
       "<IPython.core.display.HTML object>"
      ]
     },
     "metadata": {},
     "output_type": "display_data"
    }
   ],
   "source": [
    "# Convert results to a DataFrame\n",
    "df = pd.DataFrame(results)\n",
    "\n",
    "# Set display options to show all text in the dataframe cells\n",
    "pd.set_option('display.max_colwidth', None)\n",
    "\n",
    "# Function to display formatted text in HTML\n",
    "def display_formatted_dataframe(df):\n",
    "    def format_text(text):\n",
    "        return text.replace('\\n', '<br>') if text else \"No routine generated\"\n",
    "\n",
    "    df_formatted = df.copy()\n",
    "    df_formatted['content'] = df_formatted['content'].apply(format_text)\n",
    "    df_formatted['routine'] = df_formatted['routine'].apply(format_text)\n",
    "\n",
    "    display(HTML(df_formatted.to_html(escape=False, justify='left')))\n",
    "\n",
    "# Display the dataframe with formatted text\n",
    "display_formatted_dataframe(df)"
   ]
  },
  {
   "cell_type": "markdown",
   "metadata": {
    "id": "vNq2gFNSLbXj"
   },
   "source": [
    "1. Creating a DataFrame: Converts the results into a Pandas DataFrame for easier manipulation and viewing.\n",
    "2. Displaying the Data: Defines a function display_formatted_dataframe(df) to format and display the DataFrame in a readable HTML format."
   ]
  },
  {
   "cell_type": "markdown",
   "metadata": {
    "id": "OJ8g3X0NLhpe"
   },
   "source": [
    "**Summary**\n",
    "\n",
    "This code converts help center articles into internal-facing routines using the Nugen API. It processes multiple articles concurrently to improve efficiency and displays the results in an easily readable format. By following the steps outlined in this documentation, you can adapt and use the code for your own routine generation needs."
   ]
  }
 ],
 "metadata": {
  "colab": {
   "provenance": []
  },
  "kernelspec": {
   "display_name": "Python 3 (ipykernel)",
   "language": "python",
   "name": "python3"
  },
  "language_info": {
   "codemirror_mode": {
    "name": "ipython",
    "version": 3
   },
   "file_extension": ".py",
   "mimetype": "text/x-python",
   "name": "python",
   "nbconvert_exporter": "python",
   "pygments_lexer": "ipython3",
   "version": "3.12.7"
  }
 },
 "nbformat": 4,
 "nbformat_minor": 4
}
