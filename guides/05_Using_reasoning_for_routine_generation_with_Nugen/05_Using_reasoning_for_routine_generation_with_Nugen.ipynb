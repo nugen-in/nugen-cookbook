{
 "cells": [
  {
   "cell_type": "markdown",
   "metadata": {
    "id": "aUcTOytBAbyN"
   },
   "source": [
    "## **Nugen Intelligence**\n",
    "<img src=\"https://nugen.in/logo.png\" alt=\"Nugen Logo\" width=\"200\"/>\n",
    "\n",
    "Domain-aligned foundational models at industry leading speeds and zero-data retention! To learn more, visit [Nugen](https://docs.nugen.in/introduction)"
   ]
  },
  {
   "cell_type": "markdown",
   "metadata": {
    "id": "FywHEB4QJ9dV"
   },
   "source": [
    "### **Using Reasoning for Routine Generation with Nugen API**\n",
    " \n",
    "This cookbook will guide you through using the Nugen API to generate routines based on customer service policies. We will explain each step of the code in simple terms, so even if you're new to programming or APIs, you'll be able to follow along. In this cookbook, we use Python and the Nugen API to convert help center articles into internal-facing, executable routines.\n",
    "\n",
    "The goal is to enhance customer service operations by enabling the LLM to effectively handle customer inquiries and support tasks, ensuring a more efficient and responsive service experience. With Nugen’s advanced API, you can streamline your customer service processes and empower your team with actionable insights from existing help center content."
   ]
  },
  {
   "cell_type": "markdown",
   "metadata": {
    "id": "-I4VMoC2KLoE"
   },
   "source": [
    "**Importing Necessary Libraries**\n"
   ]
  },
  {
   "cell_type": "code",
   "execution_count": null,
   "metadata": {
    "id": "L67ZWi3GKQ9r"
   },
   "outputs": [],
   "source": [
    "!pip install --quiet pandas requests\n",
    "\n",
    "import requests\n",
    "from IPython.display import display, HTML\n",
    "import pandas as pd\n",
    "from concurrent.futures import ThreadPoolExecutor\n",
    "import csv"
   ]
  },
  {
   "cell_type": "markdown",
   "metadata": {
    "id": "DDhQwLjfKiQ3"
   },
   "source": [
    "* requests: A library to make HTTP\n",
    "* requests to the Nugen API.\n",
    "* pandas: A library to handle data manipulation and analysis.\n",
    "* ThreadPoolExecutor: A tool to run multiple tasks concurrently, speeding up processing.\n",
    "* csv: A module to read and write CSV files."
   ]
  },
  {
   "cell_type": "markdown",
   "metadata": {
    "id": "kwgINQetKsQd"
   },
   "source": [
    "**Step 2: Set up the Nugen API Client**\n",
    "\n",
    "To read more about Nugen API and access free API keys, you can visit [Nugen Dashboard](https://nugen-platform-frontend.azurewebsites.net/dashboard)"
   ]
  },
  {
   "cell_type": "code",
   "execution_count": null,
   "metadata": {},
   "outputs": [],
   "source": [
    "url_api_server = \"https://api.nugen.in\"\n",
    "api_key =  <enter your api key> # Replace with your actual Nugen API key\n",
    "MODEL = \"nugen-flash-instruct\""
   ]
  },
  {
   "cell_type": "markdown",
   "metadata": {},
   "source": [
    "Here, we define the API base URL and your API key. Replace <--nugen api key--> with your actual key to authenticate your requests to the Nugen API. The MODEL variable specifies the model we will use for generating the routines."
   ]
  },
  {
   "cell_type": "markdown",
   "metadata": {},
   "source": [
    "**Step 3: Create the NugenAPIClient Class**"
   ]
  },
  {
   "cell_type": "code",
   "execution_count": null,
   "metadata": {},
   "outputs": [],
   "source": [
    "# Nugen API Client Class\n",
    "class NugenAPIClient:\n",
    "    def __init__(self, base_url, api_key):\n",
    "        self.base_url = base_url\n",
    "        self.api_key = api_key\n",
    "\n",
    "    def chat_completions_create(self, model, messages, max_tokens=400, temperature=1):\n",
    "        \"\"\"\n",
    "        Makes a call to Nugen API to create chat completions.\n",
    "        \"\"\"\n",
    "        url = f\"{self.base_url}/inference/completions\"\n",
    "        headers = {\n",
    "            \"Authorization\": f\"Bearer {self.api_key}\",\n",
    "            \"Content-Type\": \"application/json\"\n",
    "        }\n",
    "        prompt = \"\\n\".join([message[\"content\"] for message in messages])\n",
    "\n",
    "        payload = {\n",
    "            \"model\": model,\n",
    "            \"prompt\": prompt,\n",
    "            \"max_tokens\": max_tokens,\n",
    "            \"temperature\": temperature\n",
    "        }\n",
    "\n",
    "        response = requests.post(url, json=payload, headers=headers)\n",
    "\n",
    "        if response.status_code == 200:\n",
    "            return response.json()\n",
    "        else:\n",
    "            raise Exception(f\"Error {response.status_code}: {response.text}\")"
   ]
  },
  {
   "cell_type": "markdown",
   "metadata": {},
   "source": [
    "This class helps us interact with the Nugen API. It stores the base_url and api_key so they can be used in every request without repeating the values."
   ]
  },
  {
   "cell_type": "markdown",
   "metadata": {},
   "source": [
    "1. This method takes the model, messages, and other parameters to generate a response from the API.\n",
    "\n",
    "2. We use the requests.post method to send the data (payload) to the API and retrieve the result.\n",
    "\n",
    "3. If the request is successful (status_code == 200), we return the response. If not, an error is raised."
   ]
  },
  {
   "cell_type": "markdown",
   "metadata": {},
   "source": [
    "**Step 5: Initialize the Client**"
   ]
  },
  {
   "cell_type": "code",
   "execution_count": 12,
   "metadata": {},
   "outputs": [],
   "source": [
    "# Instantiate Nugen client\n",
    "client = NugenAPIClient(base_url=url_api_server, api_key=api_key)"
   ]
  },
  {
   "cell_type": "markdown",
   "metadata": {},
   "source": [
    "Here, we create an instance of NugenAPIClient using the API server URL and your API key. This instance will be used to make requests to the API."
   ]
  },
  {
   "cell_type": "markdown",
   "metadata": {
    "id": "4nXd4kxDK276"
   },
   "source": [
    "**Step 6: Prepare the Conversion Prompt**"
   ]
  },
  {
   "cell_type": "code",
   "execution_count": null,
   "metadata": {
    "id": "1abSuDxSK2Fc"
   },
   "outputs": [],
   "source": [
    "# Conversion Prompt for Chain of Thought (CoT) Reasoning\n",
    "CONVERSION_PROMPT = \"\"\"\n",
    "You are a helpful assistant tasked with taking an external facing help center article \n",
    "and converting it into an internal-facing programmatically executable routine optimized for an LLM. \n",
    "The LLM using this routine will be tasked with reading the policy, answering incoming questions \n",
    "from customers, and helping drive the case toward resolution.\n",
    "\n",
    "Please follow these instructions:\n",
    "1. **Review the customer service policy carefully** to ensure every step is accounted for. \n",
    "   It is crucial not to skip any steps or policies.\n",
    "2. **Organize the instructions into a logical, step-by-step order**, using the specified format.\n",
    "3. **Use the following format**:\n",
    "   - **Main actions are numbered** (e.g., 1, 2, 3).\n",
    "   - **Sub-actions are lettered** under their relevant main actions (e.g., 1a, 1b). Sub-actions start \n",
    "     on new lines.\n",
    "   - **Specify conditions using clear 'if...then...else' statements** (e.g., 'If the product was \n",
    "     purchased within 30 days, then...').\n",
    "   - **Actions requiring external systems** should call a function (e.g., `call check_delivery_date`).\n",
    "   - **Prioritize compliance** by adhering to privacy regulations, policies, and legal requirements.\n",
    "   - **Handle exceptions** by specifying steps for scenarios outside standard policies.\n",
    "\n",
    "**Important**: If uncertain, respond with \"I don't know.\"\n",
    "\"\"\"\n",
    "\n",
    "# Routine Quality Assurance Validator Prompt\n",
    "QA_VALIDATOR_PROMPT = \"\"\"\n",
    "You are a validator LLM. Your job is to assess the generated routine for:\n",
    "\n",
    "1. Completeness: Does the routine cover all aspects of the original policy?\n",
    "2. Legal and Compliance Adherence: Check against HIPAA, GDPR, PCI DSS, or other relevant policies.\n",
    "3. Accuracy: Does the routine faithfully represent the original policy?\n",
    "4. Clarity: Ensure the routine is easy to understand and executable programmatically.\n",
    "\n",
    "Return either \"PASS\" or \"FAIL\" with a short reason explaining your evaluation.\n",
    "\"\"\""
   ]
  },
  {
   "cell_type": "markdown",
   "metadata": {},
   "source": [
    "### Conversion Prompt for Chain of Thought (CoT) Reasoning\n",
    "\n",
    "The `CONVERSION_PROMPT` guides an LLM to convert help center articles into internal-facing, executable routines optimized for programmatic use. The routine:\n",
    "- Ensures careful review of all customer service policies, maintaining completeness.\n",
    "- Follows a logical, numbered structure with sub-actions for clarity and step-by-step execution.\n",
    "- Uses conditionals (`if...then...else`) and specifies actions requiring external systems, while adhering to compliance requirements.\n",
    "- Encourages accurate translation of policies, with a fallback response of \"I don't know\" for uncertain scenarios.\n",
    "\n",
    "---\n",
    "\n",
    "### Routine Quality Assurance Validator Prompt\n",
    "\n",
    "The `QA_VALIDATOR_PROMPT` assesses generated routines based on the following:\n",
    "1. **Completeness**: Ensures all aspects of the original policy are covered.\n",
    "2. **Legal and Compliance Adherence**: Verifies compliance with HIPAA, GDPR, PCI DSS, or similar regulations.\n",
    "3. **Accuracy**: Confirms the routine faithfully represents the original policy.\n",
    "4. **Clarity**: Checks for ease of understanding and programmatic execution.\n",
    "\n",
    "The validator returns either a \"PASS\" or \"FAIL\" with a brief explanation, ensuring high standards for generated routines."
   ]
  },
  {
   "cell_type": "markdown",
   "metadata": {},
   "source": [
    "This prompt instructs the API on how to convert the policy text into a routine. The instructions are detailed to ensure the generated routine is accurate and executable."
   ]
  },
  {
   "cell_type": "markdown",
   "metadata": {},
   "source": [
    "**Step 7: Read Policies from a CSV File**"
   ]
  },
  {
   "cell_type": "code",
   "execution_count": 14,
   "metadata": {},
   "outputs": [],
   "source": [
    "articles = []\n",
    "with open('../helpcenter_articles.csv', mode='r', encoding='utf-8') as file:\n",
    "    reader = csv.DictReader(file)\n",
    "    for row in reader:\n",
    "        articles.append({\n",
    "            \"policy\": row[\"policy\"],\n",
    "            \"content\": row[\"content\"]\n",
    "        })"
   ]
  },
  {
   "cell_type": "markdown",
   "metadata": {},
   "source": [
    "This section reads the help center articles from a CSV file and stores each article’s policy and content in a list called articles."
   ]
  },
  {
   "cell_type": "markdown",
   "metadata": {
    "id": "8Rw5OfGcK8Nb"
   },
   "source": [
    "**Step 8: Generate Routine Using the Nugen API**"
   ]
  },
  {
   "cell_type": "markdown",
   "metadata": {
    "id": "bZZVUreBLKCU"
   },
   "source": [
    "**Processing Articles Concurrently**\n"
   ]
  },
  {
   "cell_type": "code",
   "execution_count": 15,
   "metadata": {},
   "outputs": [],
   "source": [
    "def generate_routine(policy):\n",
    "    try:\n",
    "        messages = [{\n",
    "            \"role\": \"user\",\n",
    "            \"content\": f\"{CONVERSION_PROMPT}\\n\\nPOLICY:\\n{policy}\"\n",
    "        }]\n",
    "\n",
    "        response = client.chat_completions_create(\n",
    "            model=MODEL,\n",
    "            messages=messages\n",
    "        )\n",
    "\n",
    "        # Print the full response to debug\n",
    "        print(\"Full API Response:\", response)\n",
    "\n",
    "        # Modify this according to the actual response structure\n",
    "        return response['choices'][0].get('text', None)  # Adjust based on actual API response\n",
    "    except Exception as e:\n",
    "        print(f\"An error occurred: {e}\")\n",
    "        return None"
   ]
  },
  {
   "cell_type": "markdown",
   "metadata": {},
   "source": [
    "1. This function sends a policy to the Nugen API and requests a converted routine.\n",
    "\n",
    "2. It prints the full API response for debugging and returns the generated routine text if available."
   ]
  },
  {
   "cell_type": "code",
   "execution_count": null,
   "metadata": {},
   "outputs": [],
   "source": [
    "# Routine Quality Assurance Validator Function\n",
    "def evaluate_routine_for_quality(routine, policy_text):\n",
    "    \"\"\"\n",
    "    Evaluates the generated routine for legal compliance, accuracy, and clarity using a validator.\n",
    "    \"\"\"\n",
    "    try:\n",
    "        messages = [{\n",
    "            \"role\": \"user\",\n",
    "            \"content\": f\"{QA_VALIDATOR_PROMPT}\\n\\nPolicy:\\n{policy_text}\\n\\nRoutine:\\n{routine}\"\n",
    "        }]\n",
    "        review = client.chat_completions_create(model=MODEL, messages=messages)\n",
    "        evaluation = review['choices'][0].get('text', '').lower()\n",
    "        if \"pass\" in evaluation:\n",
    "            return True\n",
    "        else:\n",
    "            print(f\"Routine failed validation: {evaluation}\")\n",
    "            return False\n",
    "    except Exception as e:\n",
    "        print(f\"An error occurred during validation: {e}\")\n",
    "        return False"
   ]
  },
  {
   "cell_type": "markdown",
   "metadata": {},
   "source": [
    "### Routine Quality Assurance Validator Function\n",
    "\n",
    "The `evaluate_routine_for_quality` function evaluates a generated routine against a provided policy using a validator LLM. \n",
    "\n",
    "#### **Steps Explained**:\n",
    "1. **Purpose**:\n",
    "   - Validates the routine for legal compliance, accuracy, and clarity, ensuring it aligns with predefined standards.\n",
    "\n",
    "2. **Prompt Composition**:\n",
    "   - Combines the `QA_VALIDATOR_PROMPT`, `policy_text`, and `routine` into a structured input for the validator LLM.\n",
    "\n",
    "3. **API Call**:\n",
    "   - Sends the prompt to the Nugen API using the `client.chat_completions_create` method to retrieve the evaluation result.\n",
    "\n",
    "4. **Evaluation Logic**:\n",
    "   - Parses the API response and checks if it contains \"pass\" to indicate successful validation. If \"pass\" is not found, the failure reason is printed.\n",
    "\n",
    "5. **Error Handling**:\n",
    "   - Gracefully manages exceptions, such as API call failures, ensuring the program does not crash.\n",
    "\n",
    "#### **Output**:\n",
    "- Returns `True` for a \"PASS\".\n",
    "- Prints the failure reason and returns `False` if validation fails.\n",
    "- Handles errors with informative messages for debugging.\n",
    "\n",
    "This function streamlines the validation process, combining automation and robust handling for efficient routine quality assurance."
   ]
  },
  {
   "cell_type": "markdown",
   "metadata": {},
   "source": [
    "**Step 9: Process Each Article**"
   ]
  },
  {
   "cell_type": "code",
   "execution_count": null,
   "metadata": {
    "colab": {
     "base_uri": "https://localhost:8080/"
    },
    "id": "m5VWnTq-LOPj",
    "outputId": "e6b3448a-6a80-44a9-f427-4b1419e1584e"
   },
   "outputs": [],
   "source": [
    "# Article Processing Function (with validation)\n",
    "def process_article(article):\n",
    "    routine = generate_routine(article['content'])\n",
    "    if routine:\n",
    "        # Validate the routine for accuracy, legal compliance, and clarity\n",
    "        if evaluate_routine_for_quality(routine, article['content']):\n",
    "            validation_status = \"PASS\"\n",
    "        else:\n",
    "            validation_status = \"FAIL\"\n",
    "    else:\n",
    "        validation_status = \"FAIL\"\n",
    "    \n",
    "    return {\"policy\": article['policy'], \"content\": article['content'], \"routine\": routine, \"validation_status\": validation_status}\n"
   ]
  },
  {
   "cell_type": "markdown",
   "metadata": {},
   "source": [
    "### Article Processing Function with Validation\n",
    "\n",
    "The `process_article` function processes an article by generating a routine and validating it for accuracy, compliance, and clarity.\n",
    "\n",
    "#### **Steps**:\n",
    "1. **Routine Generation**:\n",
    "   - Calls the `generate_routine` function to create a routine based on the article's content.\n",
    "   \n",
    "2. **Validation**:\n",
    "   - If the routine is successfully generated, it passes to the `evaluate_routine_for_quality` function for validation.\n",
    "   - The routine is checked against the article's content, ensuring adherence to policy standards.\n",
    "   - Validation outcomes:\n",
    "     - **\"PASS\"**: Routine meets standards for quality.\n",
    "     - **\"FAIL\"**: Routine fails validation or was not generated.\n",
    "\n",
    "3. **Output**:\n",
    "   - Returns a dictionary containing:\n",
    "     - The article's policy.\n",
    "     - The article's content.\n",
    "     - The generated routine.\n",
    "     - The validation status (either \"PASS\" or \"FAIL\").\n",
    "\n",
    "This function efficiently combines generation and validation, ensuring the resulting routines are robust and compliant."
   ]
  },
  {
   "cell_type": "markdown",
   "metadata": {
    "id": "HlkaF1CsLWYC"
   },
   "source": [
    "**Step 10: Execute Concurrently for Efficiency**"
   ]
  },
  {
   "cell_type": "markdown",
   "metadata": {
    "id": "vNq2gFNSLbXj"
   },
   "source": [
    "Here, we use ThreadPoolExecutor to process all articles concurrently. This makes the code run faster when dealing with multiple articles."
   ]
  },
  {
   "cell_type": "code",
   "execution_count": null,
   "metadata": {},
   "outputs": [],
   "source": [
    "# Process Articles in Parallel\n",
    "with ThreadPoolExecutor() as executor:\n",
    "    results = list(executor.map(process_article, articles))"
   ]
  },
  {
   "cell_type": "markdown",
   "metadata": {},
   "source": [
    "**Step 11: Convert Results into a DataFrame**"
   ]
  },
  {
   "cell_type": "code",
   "execution_count": null,
   "metadata": {},
   "outputs": [],
   "source": [
    "df = pd.DataFrame(results)"
   ]
  },
  {
   "cell_type": "markdown",
   "metadata": {},
   "source": [
    "We store the processed results in a pandas DataFrame for easy manipulation and display."
   ]
  },
  {
   "cell_type": "markdown",
   "metadata": {},
   "source": [
    "**Step 12: Display the Data in a User-Friendly Way**"
   ]
  },
  {
   "cell_type": "code",
   "execution_count": null,
   "metadata": {},
   "outputs": [],
   "source": [
    "# Display Formatted DataFrame Function\n",
    "def display_formatted_dataframe(df):\n",
    "    def format_text(text):\n",
    "        return text.replace('\\n', '<br>') if text else \"No routine generated\"\n",
    "\n",
    "    df_formatted = df.copy()\n",
    "    df_formatted['content'] = df_formatted['content'].apply(format_text)\n",
    "    df_formatted['routine'] = df_formatted['routine'].apply(format_text)\n",
    "\n",
    "    display(HTML(df_formatted.to_html(escape=False, justify='left')))"
   ]
  },
  {
   "cell_type": "markdown",
   "metadata": {},
   "source": [
    "1. This function formats the DataFrame, replacing newlines with HTML line breaks for better readability.\n",
    "\n",
    "2. The final DataFrame is displayed using IPython.display with proper formatting to make it easier to read in a notebook environment."
   ]
  },
  {
   "cell_type": "markdown",
   "metadata": {
    "id": "OJ8g3X0NLhpe"
   },
   "source": [
    "**Summary**\n",
    "\n",
    "By following these steps, you can interact with the Nugen API, process help center articles, and generate routines for internal use. This guide is beginner-friendly and can be adapted to various use cases."
   ]
  }
 ],
 "metadata": {
  "colab": {
   "provenance": []
  },
  "kernelspec": {
   "display_name": "Python 3",
   "language": "python",
   "name": "python3"
  },
  "language_info": {
   "codemirror_mode": {
    "name": "ipython",
    "version": 3
   },
   "file_extension": ".py",
   "mimetype": "text/x-python",
   "name": "python",
   "nbconvert_exporter": "python",
   "pygments_lexer": "ipython3",
   "version": "3.12.7"
  }
 },
 "nbformat": 4,
 "nbformat_minor": 4
}
