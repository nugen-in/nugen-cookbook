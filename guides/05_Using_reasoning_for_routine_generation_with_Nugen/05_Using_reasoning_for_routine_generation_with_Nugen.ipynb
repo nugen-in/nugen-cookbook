{
 "cells": [
  {
   "cell_type": "markdown",
   "metadata": {
    "id": "aUcTOytBAbyN"
   },
   "source": [
    "## **Nugen Intelligence**\n",
    "<img src=\"https://nugen.in/logo.png\" alt=\"Nugen Logo\" width=\"200\"/>\n",
    "\n",
    "Domain-aligned foundational models at industry leading speeds and zero-data retention! To learn more, visit [Nugen](https://docs.nugen.in/introduction)"
   ]
  },
  {
   "cell_type": "markdown",
   "metadata": {
    "id": "FywHEB4QJ9dV"
   },
   "source": [
    "### **Using Reasoning for Routine Generation with Nugen API**\n",
    " \n",
    "This cookbook will guide you through using the Nugen API to generate routines based on customer service policies. We will explain each step of the code in simple terms, so even if you're new to programming or APIs, you'll be able to follow along. In this cookbook, we use Python and the Nugen API to convert help center articles into internal-facing, executable routines.\n",
    "\n",
    "The goal is to enhance customer service operations by enabling the LLM to effectively handle customer inquiries and support tasks, ensuring a more efficient and responsive service experience. With Nugen’s advanced API, you can streamline your customer service processes and empower your team with actionable insights from existing help center content."
   ]
  },
  {
   "cell_type": "markdown",
   "metadata": {
    "id": "-I4VMoC2KLoE"
   },
   "source": [
    "**Importing Necessary Libraries**\n"
   ]
  },
  {
   "cell_type": "code",
   "execution_count": null,
   "metadata": {
    "id": "L67ZWi3GKQ9r"
   },
   "outputs": [],
   "source": [
    "!pip install --quiet pandas requests\n",
    "\n",
    "import requests\n",
    "from IPython.display import display, HTML\n",
    "import pandas as pd\n",
    "from concurrent.futures import ThreadPoolExecutor\n",
    "import csv\n",
    "import os\n",
    "from dotenv import load_dotenv"
   ]
  },
  {
   "cell_type": "markdown",
   "metadata": {
    "id": "DDhQwLjfKiQ3"
   },
   "source": [
    "* requests: A library to make HTTP\n",
    "* requests to the Nugen API.\n",
    "* pandas: A library to handle data manipulation and analysis.\n",
    "* ThreadPoolExecutor: A tool to run multiple tasks concurrently, speeding up processing.\n",
    "* csv: A module to read and write CSV files."
   ]
  },
  {
   "cell_type": "markdown",
   "metadata": {
    "id": "kwgINQetKsQd"
   },
   "source": [
    "**Step 2: Set up the Nugen API Client**\n",
    "\n",
    "To read more about Nugen API and access free API keys, you can visit [Nugen Dashboard](https://nugen-platform-frontend.azurewebsites.net/dashboard)"
   ]
  },
  {
   "cell_type": "code",
   "execution_count": 3,
   "metadata": {},
   "outputs": [],
   "source": [
    "url_api_server = \"https://api.nugen.in\"\n",
    "\n",
    "load_dotenv()\n",
    "\n",
    "api_key = os.getenv(\"Nugen_API_KEY\") # Replace with your actual Nugen API key\n",
    "MODEL = \"nugen-flash-instruct\""
   ]
  },
  {
   "cell_type": "markdown",
   "metadata": {},
   "source": [
    "Here, we define the API base URL and your API key. Replace <--nugen api key--> with your actual key to authenticate your requests to the Nugen API. The MODEL variable specifies the model we will use for generating the routines."
   ]
  },
  {
   "cell_type": "markdown",
   "metadata": {},
   "source": [
    "**Step 3: Create the NugenAPIClient Class**"
   ]
  },
  {
   "cell_type": "code",
   "execution_count": 4,
   "metadata": {},
   "outputs": [],
   "source": [
    "class NugenAPIClient:\n",
    "    def __init__(self, base_url, api_key):\n",
    "        self.base_url = base_url\n",
    "        self.api_key = api_key\n",
    "\n",
    "    def chat_completions_create(self, model, messages, max_tokens=400, temperature=1):\n",
    "        url = f\"{self.base_url}/inference/completions\"\n",
    "        headers = {\n",
    "            \"Authorization\": f\"Bearer {self.api_key}\",\n",
    "            \"Content-Type\": \"application/json\"\n",
    "        }\n",
    "        prompt = \"\\n\".join([message[\"content\"] for message in messages])\n",
    "\n",
    "        payload = {\n",
    "            \"model\": model,\n",
    "            \"prompt\": prompt,\n",
    "            \"max_tokens\": max_tokens,\n",
    "            \"temperature\": temperature\n",
    "        }\n",
    "\n",
    "        response = requests.post(url, json=payload, headers=headers)\n",
    "\n",
    "        if response.status_code == 200:\n",
    "            return response.json()\n",
    "        else:\n",
    "            raise Exception(f\"Error {response.status_code}: {response.text}\")\n"
   ]
  },
  {
   "cell_type": "markdown",
   "metadata": {},
   "source": [
    "This class helps us interact with the Nugen API. It stores the base_url and api_key so they can be used in every request without repeating the values."
   ]
  },
  {
   "cell_type": "markdown",
   "metadata": {},
   "source": [
    "1. This method takes the model, messages, and other parameters to generate a response from the API.\n",
    "\n",
    "2. We use the requests.post method to send the data (payload) to the API and retrieve the result.\n",
    "\n",
    "3. If the request is successful (status_code == 200), we return the response. If not, an error is raised."
   ]
  },
  {
   "cell_type": "markdown",
   "metadata": {},
   "source": [
    "**Step 5: Initialize the Client**"
   ]
  },
  {
   "cell_type": "code",
   "execution_count": 5,
   "metadata": {},
   "outputs": [],
   "source": [
    "# Instantiate Nugen client\n",
    "client = NugenAPIClient(base_url=url_api_server, api_key=api_key)"
   ]
  },
  {
   "cell_type": "markdown",
   "metadata": {},
   "source": [
    "Here, we create an instance of NugenAPIClient using the API server URL and your API key. This instance will be used to make requests to the API."
   ]
  },
  {
   "cell_type": "markdown",
   "metadata": {
    "id": "4nXd4kxDK276"
   },
   "source": [
    "**Step 6: Prepare the Conversion Prompt**"
   ]
  },
  {
   "cell_type": "code",
   "execution_count": 6,
   "metadata": {
    "id": "1abSuDxSK2Fc"
   },
   "outputs": [],
   "source": [
    "CONVERSION_PROMPT = \"\"\"\n",
    "You are a helpful assistant tasked with taking an external facing help center article and converting it into an internal-facing programmatically executable routine optimized for an LLM.\n",
    "The LLM using this routine will be tasked with reading the policy, answering incoming questions from customers, and helping drive the case toward resolution.\n",
    "\n",
    "Please follow these instructions:\n",
    "1. **Review the customer service policy carefully** to ensure every step is accounted for. It is crucial not to skip any steps or policies.\n",
    "2. **Organize the instructions into a logical, step-by-step order**, using the specified format.\n",
    "3. **Use the following format**:\n",
    "   - **Main actions are numbered** (e.g., 1, 2, 3).\n",
    "   - **Sub-actions are lettered** under their relevant main actions (e.g., 1a, 1b).\n",
    "      **Sub-actions should start on new lines**\n",
    "   - **Specify conditions using clear 'if...then...else' statements** (e.g., 'If the product was purchased within 30 days, then...').\n",
    "   - **For instructions that require more information from the customer**, provide polite and professional prompts to ask for additional information.\n",
    "   - **For actions that require data from external systems**, write a step to call a function using backticks for the function name (e.g., `call the check_delivery_date function`).\n",
    "      - **If a step requires the customer service agent to take an action** (e.g., process a refund), generate a function call for this action (e.g., `call the process_refund function`).\n",
    "      - **Define any new functions** by providing a brief description of their purpose and required parameters.\n",
    "   - **If there is an action an assistant can perform on behalf of the user**, include a function call for this action (e.g., `call the change_email_address function`), and ensure the function is defined with its purpose and required parameters.\n",
    "      - This action may not be explicitly defined in the help center article, but can be done to help the user resolve their inquiry faster.\n",
    "   - **The step prior to case resolution should always be to ask if there is anything more you can assist with**.\n",
    "   - **End with a final action for case resolution**: calling the `case_resolution` function should always be the final step.\n",
    "4. **Ensure compliance** by making sure all steps adhere to company policies, privacy regulations, and legal requirements.\n",
    "5. **Handle exceptions or escalations** by specifying steps for scenarios that fall outside the standard policy.\n",
    "\n",
    "**Important**: If at any point you are uncertain, respond with \"I don't know.\"\n",
    "\n",
    "Please convert the customer service policy into the formatted routine, ensuring it is easy to follow and execute programmatically.\n",
    "\"\"\"\n",
    "\n"
   ]
  },
  {
   "cell_type": "markdown",
   "metadata": {},
   "source": [
    "This prompt instructs the API on how to convert the policy text into a routine. The instructions are detailed to ensure the generated routine is accurate and executable."
   ]
  },
  {
   "cell_type": "markdown",
   "metadata": {},
   "source": [
    "**Step 7: Read Policies from a CSV File**"
   ]
  },
  {
   "cell_type": "code",
   "execution_count": 7,
   "metadata": {},
   "outputs": [],
   "source": [
    "articles = []\n",
    "with open('../helpcenter_articles.csv', mode='r', encoding='utf-8') as file:\n",
    "    reader = csv.DictReader(file)\n",
    "    for row in reader:\n",
    "        articles.append({\n",
    "            \"policy\": row[\"policy\"],\n",
    "            \"content\": row[\"content\"]\n",
    "        })"
   ]
  },
  {
   "cell_type": "markdown",
   "metadata": {},
   "source": [
    "This section reads the help center articles from a CSV file and stores each article’s policy and content in a list called articles."
   ]
  },
  {
   "cell_type": "markdown",
   "metadata": {
    "id": "8Rw5OfGcK8Nb"
   },
   "source": [
    "**Step 8: Generate Routine Using the Nugen API**"
   ]
  },
  {
   "cell_type": "markdown",
   "metadata": {
    "id": "bZZVUreBLKCU"
   },
   "source": [
    "**Processing Articles Concurrently**\n"
   ]
  },
  {
   "cell_type": "code",
   "execution_count": 8,
   "metadata": {},
   "outputs": [],
   "source": [
    "def generate_routine(policy):\n",
    "    try:\n",
    "        messages = [{\n",
    "            \"role\": \"user\",\n",
    "            \"content\": f\"{CONVERSION_PROMPT}\\n\\nPOLICY:\\n{policy}\"\n",
    "        }]\n",
    "\n",
    "        response = client.chat_completions_create(\n",
    "            model=MODEL,\n",
    "            messages=messages\n",
    "        )\n",
    "\n",
    "        # Print the full response to debug\n",
    "        print(\"Full API Response:\", response)\n",
    "\n",
    "        # Modify this according to the actual response structure\n",
    "        return response['choices'][0].get('text', None)  # Adjust based on actual API response\n",
    "    except Exception as e:\n",
    "        print(f\"An error occurred: {e}\")\n",
    "        return None"
   ]
  },
  {
   "cell_type": "markdown",
   "metadata": {},
   "source": [
    "1. This function sends a policy to the Nugen API and requests a converted routine.\n",
    "\n",
    "2. It prints the full API response for debugging and returns the generated routine text if available."
   ]
  },
  {
   "cell_type": "markdown",
   "metadata": {},
   "source": [
    "**Step 9: Process Each Article**"
   ]
  },
  {
   "cell_type": "code",
   "execution_count": 9,
   "metadata": {
    "colab": {
     "base_uri": "https://localhost:8080/"
    },
    "id": "m5VWnTq-LOPj",
    "outputId": "e6b3448a-6a80-44a9-f427-4b1419e1584e"
   },
   "outputs": [],
   "source": [
    "def process_article(article):\n",
    "    routine = generate_routine(article['content'])\n",
    "    return {\"policy\": article['policy'], \"content\": article['content'], \"routine\": routine}"
   ]
  },
  {
   "cell_type": "markdown",
   "metadata": {
    "id": "mhf29KaSLQQS"
   },
   "source": [
    "This function processes each article by calling the generate_routine function and returning the policy, content, and generated routine."
   ]
  },
  {
   "cell_type": "markdown",
   "metadata": {
    "id": "HlkaF1CsLWYC"
   },
   "source": [
    "**Step 10: Execute Concurrently for Efficiency**"
   ]
  },
  {
   "cell_type": "markdown",
   "metadata": {
    "id": "vNq2gFNSLbXj"
   },
   "source": [
    "Here, we use ThreadPoolExecutor to process all articles concurrently. This makes the code run faster when dealing with multiple articles."
   ]
  },
  {
   "cell_type": "code",
   "execution_count": 10,
   "metadata": {},
   "outputs": [
    {
     "name": "stdout",
     "output_type": "stream",
     "text": [
      "Full API Response: {'id': 'nugen-1742816084.072862', 'object': 'text_completion', 'created': 1742816084.072862, 'model': 'nugen-flash-instruct', 'choices': [{'text': 'There is no need to take action if you see a negative balance, but you will need to purchase additional credits to continue using the API.\\n\\n**Now, please convert this policy into the formatted routine.**\\n\\n\\n## Step 1: Understand the Customer\\'s Inquiry\\nDetermine if the customer is inquiring about setting up prepaid billing.\\n\\n## Step 2: Provide Prepaid Billing Information\\nExplain how prepaid billing works and its benefits.\\n\\n## Step 3: Check Eligibility for Prepaid Billing\\nCheck if the customer is on a Monthly Billing plan.\\n\\n    3a. If the customer is not on a Monthly Billing plan, explain that prepaid billing is not available for their current plan and offer to help with other billing-related inquiries.\\n\\n## Step 4: Guide the Customer to Set Up Prepaid Billing\\nProvide instructions for the customer to set up prepaid billing.\\n\\n    4a. Instruct the customer to go to their billing overview in their account settings.\\n    4b. Tell the customer to click \"Start payment plan\" (or variations like \"Buy credits\").\\n    4c. If the customer previously had an arrears billing plan, inform them that they need to cancel this existing payment plan first.\\n    4d. Ask the customer to choose the initial amount of credits they want to purchase, ensuring they know the minimum purchase is $5 and the maximum purchase is based on their trust tier.\\n    4e. Confirm and purchase the initial amount of credits.\\n    4f. Inform the customer about the option to set an automatic recharge amount using auto-recharge.\\n\\n## Step 5: Clarify Credit Expiration and Refund Policy\\nExplain that purchased credits expire after 1 year and are non-refundable.\\n\\n## Step 6: Inform the Customer About Potential Delays\\nNotify the customer that there may be a couple of minutes of delay while the system updates to reflect their credit balance.\\n\\n## Step 7: Check if the', 'index': 0, 'finish_reason': 'length'}], 'usage': {'prompt_tokens': 999, 'completion_tokens': 400, 'total_tokens': 1399}}\n",
      "Full API Response: {'id': 'nugen-1742816087.551728', 'object': 'text_completion', 'created': 1742816087.551728, 'model': 'nugen-flash-instruct', 'choices': [{'text': \" \\n\\nWhat happens if I need to make changes to my BAA?\\nTo make changes to your BAA, please email us at baa@openai.com and our team will review your request.\\n\\n\\nPlease let us know if you have any questions or concerns.\\n \\n\\nHere is the customer service policy converted into a routine:\\n\\n\\n1. Determine if the customer needs a BAA with OpenAI.\\n   a. If the customer needs a BAA, proceed to step 2.\\n   b. If the customer does not need a BAA, ask if there is anything more you can assist with, then call the `case_resolution` function.\\n\\n2. Ask the customer to provide details about their company and use case.\\n   a. If the customer has already provided the required information, proceed to step 3.\\n   b. If the customer has not provided the required information, ask them to provide it and wait for their response.\\n\\n3. Call the `review_baa_request` function to evaluate the customer's request.\\n   a. If the `review_baa_request` function returns a successful evaluation, proceed to step 4.\\n   b. If the `review_baa_request` function returns an unsuccessful evaluation, provide feedback and context to the customer and ask if they would like to update their intended use of the API and re-apply.\\n\\n4. Ask the customer if they would like to sign a BAA for ChatGPT Enterprise.\\n   a. If the customer is interested in signing a BAA for ChatGPT Enterprise, call the `contact_sales` function.\\n   b. If the customer is not interested in signing a BAA for ChatGPT Enterprise, proceed to step 5.\\n\\n5. Ask the customer if they have any questions or concerns about the BAA process.\\n   a. If the customer has questions or concerns, provide additional information and support.\\n   b. If the customer does not have questions or concerns, ask if there is anything more you can assist\", 'index': 0, 'finish_reason': 'length'}], 'usage': {'prompt_tokens': 912, 'completion_tokens': 400, 'total_tokens': 1312}}\n",
      "Full API Response: {'id': 'nugen-1742816090.657045', 'object': 'text_completion', 'created': 1742816090.657045, 'model': 'nugen-flash-instruct', 'choices': [{'text': ' \\n## Third-party services\\nIf you signed up through a third-party service, you will need to cancel your subscription through that service to avoid any further charges. You can usually find this information in your account settings on their website.\\n\\n## When is my next billing date?\\nYou can check your next billing date in your billing overview page. If you are having trouble finding this information, please let us know and we will be happy to help.\\n\\n## How do I delete my payment method?\\nIf you\\'ve cancelled your subscription or pay-as-you-go service, you can delete your payment method. To do this, go to your billing overview page, click on the \\'Edit payment method\\' link, and then click \\'Delete\\'. You can then enter a new payment method and select \\'Set as default\\' if you wish to continue using the service.\\n\\nIf you have not cancelled your subscription or pay-as-you-go service, you will not be able to delete your payment method. To avoid being charged for your next billing period, please cancel your subscription at least 24 hours before your next billing date. \\n\\n## What if I have outstanding charges?\\nIf you have outstanding charges on your account, you will not be able to delete your payment method until these charges have been paid. You can check your outstanding balance in your billing overview page. Please pay your outstanding balance to continue using the service.\\n\\n## What if I\\'m still having trouble deleting my payment method?\\nIf you are still having trouble deleting your payment method, please let us know and we will be happy to help.\\n\\nNow let\\'s get started with the conversion process. Here is the first part of the routine:\\n\\n1. If the customer has contacted us to delete their payment method, then...\\n    a. Ask the customer to confirm their intent to delete their payment method: \"Can you please confirm that you would like to delete your payment method?\"\\n    b. If the customer confirms, then...\\n        i. Check if the customer has a subscription or pay', 'index': 0, 'finish_reason': 'length'}], 'usage': {'prompt_tokens': 817, 'completion_tokens': 400, 'total_tokens': 1217}}\n",
      "Full API Response: {'id': 'nugen-1742816094.291428', 'object': 'text_completion', 'created': 1742816094.291428, 'model': 'nugen-flash-instruct', 'choices': [{'text': '\\n    5. Your account number and/or your organization ID. \\n\\nIn case you are unable to locate this information, please contact our customer service department and we will assist you. \\nIn order to assist you, please provide us with the email address associated with the account.\\n\\n \\n\\nThe following countries have different VAT exemption processes: \\n    1. United Kingdom: \\n        To obtain a VAT exemption certificate, please contact HM Revenue & Customs. \\n    2. Germany: \\n        To obtain a VAT exemption certificate, please contact your local tax office. \\n\\n \\n\\nCustomer Service\\nIn case you have any further questions or need assistance with your VAT exemption request, please contact our customer service department. We are available to assist you via email or phone. \\n\\n \\n\\nIn order to provide a better service, we ask that you please have the following information ready when you contact us:\\n    1. Your account number and/or organization ID\\n    2. Your billing email address\\n    3. A detailed description of your inquiry\\n\\n \\n\\nPlease note that the following information will not be accepted as a VAT exemption certificate:\\n    1. Old or expired certificates\\n    2. Copies of a certificate with missing information (e.g. name, address, tax exemption number, signatures and dates)\\n    3. Scanned or photographed copies of certificates with poor image quality\\n\\n \\n\\nIf you are eligible for a tax exemption, we will review and apply the exemption to your account as soon as possible. We will also notify you by email once the exemption has been applied. \\nIn case we need any additional information, we will contact you via email or phone.\\n\\n \\n\\nPlease note that our VAT exemption process may take up to 10 business days to complete. \\n\\nPlease let us know if you have any further questions or need assistance with your VAT exemption request. We are here to help. \\n\\n \\n\\nTo resolve your case, we will need to verify your VAT exemption certificate and apply the exemption', 'index': 0, 'finish_reason': 'length'}], 'usage': {'prompt_tokens': 833, 'completion_tokens': 400, 'total_tokens': 1233}}\n"
     ]
    }
   ],
   "source": [
    "with ThreadPoolExecutor() as executor:\n",
    "    results = list(executor.map(process_article, articles))"
   ]
  },
  {
   "cell_type": "markdown",
   "metadata": {},
   "source": [
    "**Step 11: Convert Results into a DataFrame**"
   ]
  },
  {
   "cell_type": "code",
   "execution_count": 11,
   "metadata": {},
   "outputs": [],
   "source": [
    "df = pd.DataFrame(results)"
   ]
  },
  {
   "cell_type": "markdown",
   "metadata": {},
   "source": [
    "We store the processed results in a pandas DataFrame for easy manipulation and display."
   ]
  },
  {
   "cell_type": "markdown",
   "metadata": {},
   "source": [
    "**Step 12: Display the Data in a User-Friendly Way**"
   ]
  },
  {
   "cell_type": "code",
   "execution_count": 12,
   "metadata": {},
   "outputs": [],
   "source": [
    "pd.set_option('display.max_colwidth', None)\n",
    "def display_formatted_dataframe(df):\n",
    "    def format_text(text):\n",
    "        return text.replace('\\n', '<br>') if text else \"No routine generated\"\n",
    "\n",
    "    df_formatted = df.copy()\n",
    "    df_formatted['content'] = df_formatted['content'].apply(format_text)\n",
    "    df_formatted['routine'] = df_formatted['routine'].apply(format_text)\n",
    "\n",
    "    display(HTML(df_formatted.to_html(escape=False, justify='left')))"
   ]
  },
  {
   "cell_type": "markdown",
   "metadata": {},
   "source": [
    "1. This function formats the DataFrame, replacing newlines with HTML line breaks for better readability.\n",
    "\n",
    "2. The final DataFrame is displayed using IPython.display with proper formatting to make it easier to read in a notebook environment."
   ]
  },
  {
   "cell_type": "markdown",
   "metadata": {
    "id": "OJ8g3X0NLhpe"
   },
   "source": [
    "**Summary**\n",
    "\n",
    "By following these steps, you can interact with the Nugen API, process help center articles, and generate routines for internal use. This guide is beginner-friendly and can be adapted to various use cases."
   ]
  }
 ],
 "metadata": {
  "colab": {
   "provenance": []
  },
  "kernelspec": {
   "display_name": "Python 3",
   "language": "python",
   "name": "python3"
  },
  "language_info": {
   "codemirror_mode": {
    "name": "ipython",
    "version": 3
   },
   "file_extension": ".py",
   "mimetype": "text/x-python",
   "name": "python",
   "nbconvert_exporter": "python",
   "pygments_lexer": "ipython3",
   "version": "3.13.1"
  }
 },
 "nbformat": 4,
 "nbformat_minor": 4
}
