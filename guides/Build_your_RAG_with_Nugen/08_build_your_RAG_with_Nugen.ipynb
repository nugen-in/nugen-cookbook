{
 "cells": [
  {
   "cell_type": "markdown",
   "metadata": {
    "id": "YRTPCWWrpu2p"
   },
   "source": [
    "## **Nugen Intelligence**\n",
    "<img src=\"https://nugen.in/logo.png\" alt=\"Nugen Logo\" width=\"200\"/>\n",
    "\n",
    "Domain-aligned foundational models at industry leading speeds and zero-data retention! To learn more, visit https//nugen.in"
   ]
  },
  {
   "cell_type": "markdown",
   "metadata": {
    "id": "WAA-Q9eJg92j"
   },
   "source": [
    "## **Chat-with-PDF using Nugen APIs**\n",
    "---"
   ]
  },
  {
   "cell_type": "markdown",
   "metadata": {
    "id": "2gBJgQLShhMd"
   },
   "source": [
    "In this lesson, you will learn how to chat with a PDF using Nugen's embeddings and text completion endpoints. We would go through the following:\n",
    "1. Parse the Pdf documents and create chunks \n",
    "2. Create chunk embeddings and index it in vector database\n",
    "3. Answer user queries based on contextual search from these embeddings. \n",
    "\n",
    "In order to store the embeddings, we will use Qdrant vector database."
   ]
  },
  {
   "cell_type": "markdown",
   "metadata": {
    "id": "x5DjVs0Fh5qt"
   },
   "source": [
    "### Setup and Configuration\n",
    "Importing Libraries and Environment Setup"
   ]
  },
  {
   "cell_type": "code",
   "execution_count": 1,
   "metadata": {
    "colab": {
     "base_uri": "https://localhost:8080/"
    },
    "id": "E88t43DJIPEu",
    "outputId": "0a2a4e97-c44a-4609-91f4-c5049cd7d513"
   },
   "outputs": [],
   "source": [
    "!pip install --quiet pymupdf==1.24.13 qdrant-client==1.9.1\n",
    "\n",
    "import hashlib\n",
    "import requests\n",
    "import fitz  # PyMuPDF\n",
    "from qdrant_client import QdrantClient\n",
    "from qdrant_client.models import PointStruct, VectorParams\n"
   ]
  },
  {
   "cell_type": "markdown",
   "metadata": {
    "id": "IKcdMb5iiESI"
   },
   "source": [
    "**Explanation:**\n",
    "\n",
    "* **request** : For making API calls to Nugen's language model and embedding API.\n",
    "* **fitz (PyMuPDF):** A library for reading and extracting text from PDF files.\n",
    "\n",
    "* **QdrantClient:** A client to connect and interact with the Qdrant vector database, where embeddings are stored.\n",
    "* **dotenv:** Loads environment variables from a .env file to securely manage API keys and database URLs.\n",
    "\n",
    "* **chainlit:** Used to interact with users and manage messages within a chat-like interface.\n",
    "\n",
    "\n",
    "\n",
    "\n",
    "\n",
    "\n",
    "\n",
    "\n"
   ]
  },
  {
   "cell_type": "markdown",
   "metadata": {
    "id": "ZpCXACJXjVd7"
   },
   "source": [
    "### **Defining Global Variables and Model Configuration**\n",
    "\n",
    "To get started with Nugen APIs, you'll need your Nugen API key, which you can obtain for free. Visit the \n",
    "[Nugen API Documentation](https://docs.nugen.in/api-reference/endpoint/embeddings/embeddings) to generate your key. Nugen offers free access to its powerful AI models, allowing you to integrate features like embeddings and language model completions at no cost.\n",
    "\n",
    "By leveraging this API key, you can seamlessly integrate Nugen’s cutting-edge APIs into your applications and start building advanced AI-powered solutions right away!\n",
    "\n"
   ]
  },
  {
   "cell_type": "code",
   "execution_count": null,
   "metadata": {
    "id": "JOq_-edWjnuz"
   },
   "outputs": [],
   "source": [
    "\n",
    "NUGEN_API_KEY = <enter your api key here>  # Replace with your actual API key from Nugen\n",
    "LLM_API_URL = \"https://api.nugen.in/inference\"\n",
    "model_llm = \"nugen-flash-instruct\"\n",
    "model_embed = \"nugen-flash-embed\"\n",
    "EMBED_DIMENSION = 768\n",
    "EMBED_CHUNK_SIZE = int(EMBED_DIMENSION * 0.95)\n",
    "EMBED_CHUNK_OVERLAP = int(EMBED_CHUNK_SIZE * 0.10)\n",
    "LLM_API_PROVIDER_KEY = NUGEN_API_KEY\n",
    "\n",
    "# Setup local Qdrant database\n",
    "qdrant_client = QdrantClient(\":memory:\")\n",
    "collection_name = \"pdf_embeddings\"\n",
    "top_k = 5\n"
   ]
  },
  {
   "cell_type": "markdown",
   "metadata": {
    "id": "vs_UNbjkjpG9"
   },
   "source": [
    "### **USE API PROVIDER:**\n",
    "\n",
    "This variable determines which provider's API will be used. In this case, it is set to \"NUGEN\", so all API calls are directed to Nugen’s services.\n",
    "\n",
    "### Nugen API Configuration:\n",
    "\n",
    "\n",
    "*   **NUGEN_API_KEY:** API key for **Nugen's domain-aligned model services**.\n",
    "*   **LLM_API_URL:** The base url for Nugen’s large language model inference API.\n",
    "*   **model_llm and model_embed:** These specify which models to use for generating instruction-based completion and text embeddings, respectively.\n",
    "      \n",
    "        1. model_llm: nugen-flash-instruct (used for answering user queries).\n",
    "        2. model_embed: nugen-flash-embed (used for generating embeddings from text).\n",
    "    \n",
    "### Embedding Parameters:\n",
    "\n",
    "*   **EMBED_DIMENSION:** Dimension of the embedding vector (768 for Nugen's embeddings).\n",
    "\n",
    "*  **EMBED_CHUNK_SIZE and EMBED_CHUNK_OVERLAP:** This is a parameter to create chunks the contents of the PDF, which is then used to create chunk embeddings. A chunk is the amount of text processed together, and overlap ensures continuity between adjacent chunks.\n",
    "\n",
    "**QdrantClient:** The client object for connecting to Qdrant (the vector database where embeddings are stored). We use a local instantiation of the qdrant client. Note: If the jupyter notebook kernel is closed, you would need to re-index the embeddings. This is not recommended for working with larger documents. We strongly recommend following the documentation of Qdrant for local deployment here: https://qdrant.tech/documentation/quickstart/. To enable local persistance of the data. For production use cases, please refer to the official documentation here: https://qdrant.tech/documentation/guides/installation/\n",
    "\n",
    "**Collection Name:** This is the name of the Qdrant collection where embeddings related to the PDFs will be stored.\n",
    "\n",
    "**top_k:** Defines the number of top results to retrieve from the Qdrant database when searching for relevant context based on the user query.\n"
   ]
  },
  {
   "cell_type": "markdown",
   "metadata": {
    "id": "ALDirP5xm7C0"
   },
   "source": [
    "### **Setting up the Qdrant Collection**\n",
    "\n",
    "Now, let’s set up the Qdrant collection where the PDF embeddings will be stored. This function checks if the collection already exists, and if not, it creates a new one."
   ]
  },
  {
   "cell_type": "code",
   "execution_count": 3,
   "metadata": {
    "id": "ctWJ9Cbnm86m"
   },
   "outputs": [],
   "source": [
    "def setup_qdrant_collection(qdrant_client, collection_name, embed_dim):\n",
    "    try:\n",
    "        collections = qdrant_client.get_collections().collections\n",
    "        if collection_name not in [collection.name for collection in collections]:\n",
    "            qdrant_client.create_collection(\n",
    "                collection_name=collection_name,\n",
    "                vectors_config=VectorParams(size=embed_dim, distance=\"Cosine\")\n",
    "            )\n",
    "            print(f\"Collection '{collection_name}' created.\")\n",
    "        else:\n",
    "            print(f\"Collection '{collection_name}' already exists.\")\n",
    "    except Exception as e:\n",
    "        print(f\"Error setting up Qdrant collection: {e}\")"
   ]
  },
  {
   "cell_type": "markdown",
   "metadata": {
    "id": "AaF13LcTnBWa"
   },
   "source": [
    "* This function checks if a collection (i.e., a \"bucket\" for storing embeddings) already exists in Qdrant.\n",
    "\n",
    "* If the collection does not exist, it creates a new one with vector size (embed_dim) based on the embedding dimensions of the Nugen model.\n",
    "\n",
    "* Cosine distance is used as the metric for comparing vectors, which is standard for similarity searches.\n",
    "\n",
    "\n",
    "\n",
    "\n"
   ]
  },
  {
   "cell_type": "markdown",
   "metadata": {
    "id": "vLp3FAeWnYky"
   },
   "source": [
    "### **Extracting Text and Splitting PDF into Chunks**\n",
    "\n",
    "The next step is to extract text from a PDF file and split it into manageable chunks. These chunks will then be converted into embeddings."
   ]
  },
  {
   "cell_type": "code",
   "execution_count": 4,
   "metadata": {
    "id": "FThcKkDDnc_2"
   },
   "outputs": [],
   "source": [
    "# 2. Convert PDF to text chunks\n",
    "def pdf_to_text_chunks(pdf_path, chunk_size, overlap_size):\n",
    "    doc = fitz.open(pdf_path)\n",
    "    text = \"\".join([page.get_text() for page in doc])\n",
    "    chunks = [text[i:i+chunk_size] for i in range(0, len(text), chunk_size-overlap_size)]\n",
    "    print(f\"Extracted Text: {text[:500]}...\")  # Print a sample of extracted text\n",
    "    print(f\"Total chunks created: {len(chunks)}\")\n",
    "    return text, chunks\n"
   ]
  },
  {
   "cell_type": "markdown",
   "metadata": {
    "id": "otR4YGYxnhgZ"
   },
   "source": [
    "* This function opens the PDF using PyMuPDF (fitz) and extracts all the text from each page of the document.\n",
    "* Read more about pymupdf [here](https://pymupdf.readthedocs.io/)\n",
    "* The entire text is then split into chunks of a specific size (chunk_size) with some overlap (overlap_size). Overlapping chunks help maintain continuity in embeddings, which can improve retrieval performance.\n",
    "\n"
   ]
  },
  {
   "cell_type": "markdown",
   "metadata": {
    "id": "qQHTlXI0np_6"
   },
   "source": [
    "### **Generating Embeddings for Text Chunks**\n",
    "\n",
    "Now that we have text chunks, we need to generate embeddings for them using the Nugen API. This function takes each chunk and sends it to the Nugen API to generate an embedding.\n",
    "\n",
    "To read more about Nugen API and access free API keys, you can visit [Nugen Intelligence](https://docs.nugen.in/introduction)"
   ]
  },
  {
   "cell_type": "code",
   "execution_count": 5,
   "metadata": {
    "id": "5DCJaWpOnv_y"
   },
   "outputs": [],
   "source": [
    "# 3. Create embedding using Nugen API\n",
    "def create_embedding(text, model_embed):\n",
    "    url = f\"{LLM_API_URL}/embeddings\"\n",
    "    headers = {\n",
    "        \"Authorization\": f\"Bearer {LLM_API_PROVIDER_KEY}\",\n",
    "        \"Content-Type\": \"application/json\"\n",
    "    }\n",
    "    data = {\n",
    "        \"model\": model_embed,\n",
    "        \"input\": text\n",
    "    }\n",
    "    response = requests.post(url, json=data, headers=headers)\n",
    "    if response.status_code == 200:\n",
    "        embedding = response.json()['data'][0]['embedding']\n",
    "        print(f\"Embedding generated for text (length {len(text)}): {embedding[:5]}...\")\n",
    "        return embedding\n",
    "    else:\n",
    "        print(f\"Error in embedding API: {response.status_code}, {response.text}\")\n",
    "        return None\n"
   ]
  },
  {
   "cell_type": "markdown",
   "metadata": {
    "id": "70pRPutUnyA5"
   },
   "source": [
    "* This function calls the Nugen embedding API to generate embeddings for the given text.\n",
    "* It sends a POST request to Nugen’s /embeddings endpoint with the text data and embedding model (model_embed).\n",
    "* The function returns the vector embedding of the text, which is later stored in Qdrant DB.\n",
    "\n",
    "\n",
    "\n",
    "\n"
   ]
  },
  {
   "cell_type": "markdown",
   "metadata": {
    "id": "upcM9hk3oHz4"
   },
   "source": [
    "### **Storing Embeddings in Qdrant DB**\n",
    "\n",
    "Once embeddings are generated, we need to store them in Qdrant DB. This function handles the creation of points and uploads them to the Qdrant collection."
   ]
  },
  {
   "cell_type": "code",
   "execution_count": 6,
   "metadata": {
    "id": "G0ma4MISoJzK"
   },
   "outputs": [],
   "source": [
    "# 4. Store embeddings in Qdrant\n",
    "def store_embeddings(chunks, file_path, file_hash, user_id, thread_id, message_id, collection_name):\n",
    "    try:\n",
    "        points = []\n",
    "        for id, chunk in enumerate(chunks):\n",
    "            embedding = create_embedding(chunk, model_embed)\n",
    "            if embedding:  # Proceed only if embedding was successfully generated\n",
    "                points.append(PointStruct(\n",
    "                    id=id, \n",
    "                    vector=embedding, \n",
    "                    payload={\n",
    "                        \"chunk_text\": chunk,\n",
    "                        \"file_path\": file_path,\n",
    "                        \"file_hash\": file_hash,\n",
    "                        \"user_id\": user_id,\n",
    "                        \"thread_id\": thread_id,\n",
    "                        \"message_id\": message_id\n",
    "                    }\n",
    "                ))\n",
    "        qdrant_client.upsert(collection_name=collection_name, points=points)\n",
    "        print(f\"Embeddings stored successfully. Total points: {len(points)}\")\n",
    "    except Exception as e:\n",
    "        print(f\"Error storing embeddings: {e}\")\n"
   ]
  },
  {
   "cell_type": "markdown",
   "metadata": {
    "id": "pDnD7wb1oMnZ"
   },
   "source": [
    "The above function chunks the input text and stores each chunk's embedding in Qdrant DB.\n",
    "\n",
    "* Key Parameters:\n",
    "  * chunks: List of text chunks to be embedded\n",
    "  * file_path: Path of the file being processed\n",
    "  * file_hash: Hash of the file to uniquely identify it\n",
    "  * collection_name: Qdrant collection to store the embeddings\n",
    "\n",
    "* Return: No return value, but embeddings are upserted (inserted or updated) into Qdrant."
   ]
  },
  {
   "cell_type": "markdown",
   "metadata": {
    "id": "cjHLFewCoMgo"
   },
   "source": [
    "### **Retrieving Relevant Context from Qdrant DB**\n",
    "\n",
    "Once the embeddings are stored, we can query Qdrant DB to retrieve the most relevant chunks based on a user's query. This function generates an embedding for the query and searches for similar embeddings in Qdrant DB."
   ]
  },
  {
   "cell_type": "code",
   "execution_count": 7,
   "metadata": {
    "id": "vc8AmM9lorub"
   },
   "outputs": [],
   "source": [
    "# 5. Retrieve relevant chunks based on query\n",
    "from qdrant_client.models import Filter, FieldCondition, models\n",
    "\n",
    "def simple_rag_retrieve(query, top_k, user_id, thread_id, collection_name):\n",
    "    try:\n",
    "        query_embedding = create_embedding(query, model_embed)\n",
    "\n",
    "        # Apply the filter with user_id and thread_id to the query\n",
    "        user_query_filter = Filter(\n",
    "            must=[\n",
    "                FieldCondition(key=\"user_id\", match=models.MatchValue(value=user_id)),\n",
    "                FieldCondition(key=\"thread_id\", match=models.MatchValue(value=thread_id))\n",
    "            ]\n",
    "        )\n",
    "\n",
    "        search_result = qdrant_client.search(\n",
    "            collection_name=collection_name,\n",
    "            query_vector=query_embedding,\n",
    "            limit=top_k,\n",
    "            query_filter=user_query_filter\n",
    "        )\n",
    "\n",
    "        retrieved_texts = [hit.payload['chunk_text'] for hit in search_result]\n",
    "        print(f\"Search Results: {retrieved_texts[:2]}...\")  # Show a sample of results\n",
    "        return \"\\n\".join(retrieved_texts)\n",
    "    except Exception as e:\n",
    "        print(f\"Error retrieving context: {e}\")\n",
    "        return None\n"
   ]
  },
  {
   "cell_type": "markdown",
   "metadata": {
    "id": "ItMu2v0RotvH"
   },
   "source": [
    "**Search**: We use the query embedding to search for the most relevant chunks in the Qdrant collection.\n",
    "\n",
    "**Filters**: The filter ensures that the results are specific to a particular user and thread."
   ]
  },
  {
   "cell_type": "markdown",
   "metadata": {
    "id": "KspIXQWQpNPH"
   },
   "source": [
    "### **Generate Response Using Nugen API**\n",
    "\n",
    "After retrieving the relevant text chunks, we can use the Nugen API to generate a response based on the context and user query."
   ]
  },
  {
   "cell_type": "code",
   "execution_count": 8,
   "metadata": {
    "id": "2S5JoBqVpP58"
   },
   "outputs": [],
   "source": [
    "# 6. Generate response using Nugen API\n",
    "def generate_llm_response(context, query, model_llm):\n",
    "    url = f\"{LLM_API_URL}/chat/completions\"\n",
    "    headers = {\n",
    "        \"Authorization\": f\"Bearer {LLM_API_PROVIDER_KEY}\",\n",
    "        \"Content-Type\": \"application/json\"\n",
    "    }\n",
    "    data = {\n",
    "        \"model\": model_llm,\n",
    "        \"messages\": [\n",
    "            {\"role\": \"system\", \"content\": \"You are a helpful assistant.\"},\n",
    "            {\"role\": \"user\", \"content\": f\"Context: {context}\"},\n",
    "            {\"role\": \"user\", \"content\": f\"Answer the question: {query}\"}\n",
    "        ]\n",
    "    }\n",
    "    response = requests.post(url, json=data, headers=headers)\n",
    "    if response.status_code == 200:\n",
    "        response_text = response.json()[\"choices\"][0][\"message\"][\"content\"]\n",
    "        print(f\"LLM Response: {response_text}\")\n",
    "        return response_text\n",
    "    else:\n",
    "        print(f\"Error in LLM API: {response.status_code}, {response.text}\")\n",
    "        return None\n"
   ]
  },
  {
   "cell_type": "markdown",
   "metadata": {
    "id": "ru0B2mG4pVPT"
   },
   "source": [
    "* This function sends a POST request to the Nugen API to generate a response based on the retrieved context and the user query.\n",
    "\n",
    "* **messages:** The request includes the context retrieved from Qdrant and the user’s query. The assistant uses these messages to generate a relevant response.\n",
    "\n",
    "* The Nugen API processes this request and returns a completion (answer) that is sent back to the user.\n",
    "\n",
    "\n",
    "\n"
   ]
  },
  {
   "cell_type": "markdown",
   "metadata": {},
   "source": [
    "**Complete Flow**\n",
    "\n",
    "\n",
    "Finally, we can put everything together into an end-to-end flow that processes a PDF, stores the embeddings, retrieves relevant context, and generates an answer for the user’s query."
   ]
  },
  {
   "cell_type": "code",
   "execution_count": 9,
   "metadata": {
    "id": "l13bHML67GHG"
   },
   "outputs": [
    {
     "name": "stdout",
     "output_type": "stream",
     "text": [
      "Collection 'pdf_embeddings' created.\n",
      "Processing PDF: registration_act_1908.pdf\n",
      "Extracted Text: 1 \n",
      " \n",
      "THE REGISTRATION ACT, 1908 \n",
      "___________ \n",
      "ARRANGEMENT OF SECTIONS \n",
      "___________ \n",
      "PART I \n",
      "PRELIMINARY \n",
      "SECTIONS \n",
      "1. Short title, extent and commencement. \n",
      "2. Definitions. \n",
      "PART II \n",
      "OF THE REGISTRATION-ESTABLISHMENT \n",
      "3. Inspector-General of Registration. \n",
      "4. [Repealed.]. \n",
      "5. Districts and sub-districts. \n",
      "6. Registrars and Sub-Registrars. \n",
      "7. Offices of Registrar and Sub-Registrar. \n",
      "8. Inspectors of Registration offices. \n",
      "9. [Repealed.]. \n",
      "10. Absence of Registrar or vacancy in his office. \n",
      "11. A...\n",
      "Total chunks created: 128\n",
      "Embedding generated for text (length 729): [-0.0193939208984375, 0.0279388427734375, -0.17626953125, -0.0360107421875, -0.0033016204833984375]...\n",
      "Embedding generated for text (length 729): [-0.018096923828125, 0.050872802734375, -0.179931640625, -0.0313720703125, 0.034942626953125]...\n",
      "Embedding generated for text (length 729): [-0.01309967041015625, 0.042205810546875, -0.1771240234375, -0.016998291015625, 0.01560211181640625]...\n",
      "Embedding generated for text (length 729): [0.0266571044921875, 0.061492919921875, -0.156982421875, -0.0229644775390625, -0.012542724609375]...\n",
      "Embedding generated for text (length 729): [0.04290771484375, 0.0249786376953125, -0.1624755859375, -0.0284423828125, -0.004817962646484375]...\n",
      "Embedding generated for text (length 729): [0.0122528076171875, 0.04296875, -0.163330078125, -0.03515625, 0.0364990234375]...\n",
      "Embedding generated for text (length 729): [-8.51750373840332e-05, 0.0240478515625, -0.1685791015625, -0.02191162109375, -0.01415252685546875]...\n",
      "Embedding generated for text (length 729): [0.0309906005859375, 0.08514404296875, -0.1763916015625, -0.02447509765625, 0.017303466796875]...\n",
      "Embedding generated for text (length 729): [0.047882080078125, 0.06134033203125, -0.168212890625, -0.02740478515625, 0.027801513671875]...\n",
      "Embedding generated for text (length 729): [0.01165008544921875, 0.014678955078125, -0.1551513671875, -0.03765869140625, 0.0208587646484375]...\n",
      "Embedding generated for text (length 729): [0.006404876708984375, 0.0269317626953125, -0.1632080078125, -0.032257080078125, 0.027008056640625]...\n",
      "Embedding generated for text (length 729): [0.050140380859375, 0.0718994140625, -0.13671875, -0.08905029296875, 0.016265869140625]...\n",
      "Embedding generated for text (length 729): [0.00978851318359375, 0.051849365234375, -0.1578369140625, -0.02569580078125, 0.023040771484375]...\n",
      "Embedding generated for text (length 729): [0.0474853515625, -0.005466461181640625, -0.156005859375, 0.0023822784423828125, 0.0005125999450683594]...\n",
      "Embedding generated for text (length 729): [0.035736083984375, 0.01078033447265625, -0.1466064453125, -0.006252288818359375, 0.0380859375]...\n",
      "Embedding generated for text (length 729): [0.029693603515625, 0.00525665283203125, -0.16162109375, -0.048736572265625, -0.0343017578125]...\n",
      "Embedding generated for text (length 729): [-0.033721923828125, 0.032012939453125, -0.1905517578125, -0.034271240234375, 0.015655517578125]...\n",
      "Embedding generated for text (length 729): [0.01038360595703125, 0.019073486328125, -0.1695556640625, -0.029266357421875, 0.014404296875]...\n",
      "Embedding generated for text (length 729): [-0.0457763671875, 0.0208740234375, -0.157470703125, -0.00922393798828125, 0.017669677734375]...\n",
      "Embedding generated for text (length 729): [-0.036651611328125, 0.0304718017578125, -0.16357421875, 0.0012063980102539062, 0.0179443359375]...\n",
      "Embedding generated for text (length 729): [0.0190582275390625, -0.0225982666015625, -0.20068359375, -0.0312042236328125, -0.004482269287109375]...\n",
      "Embedding generated for text (length 729): [-0.0008859634399414062, -0.00196075439453125, -0.177978515625, -0.054718017578125, -0.0007157325744628906]...\n",
      "Embedding generated for text (length 729): [-0.0230865478515625, 0.0244293212890625, -0.1846923828125, -0.041290283203125, 0.01238250732421875]...\n",
      "Embedding generated for text (length 729): [-0.044525146484375, 0.034759521484375, -0.1895751953125, -0.0161590576171875, 0.02191162109375]...\n",
      "Embedding generated for text (length 729): [-0.06103515625, 0.0595703125, -0.1737060546875, -0.026275634765625, 0.031951904296875]...\n",
      "Embedding generated for text (length 729): [0.0076446533203125, 0.0596923828125, -0.1588134765625, -0.0469970703125, -0.00109100341796875]...\n",
      "Embedding generated for text (length 729): [0.03057861328125, 0.01971435546875, -0.200927734375, -0.0712890625, -0.03411865234375]...\n",
      "Embedding generated for text (length 729): [0.023162841796875, 0.0240325927734375, -0.1839599609375, -0.033721923828125, -0.021148681640625]...\n",
      "Embedding generated for text (length 729): [0.029815673828125, -5.900859832763672e-06, -0.172119140625, -0.032867431640625, 0.04742431640625]...\n",
      "Embedding generated for text (length 729): [0.0280303955078125, 0.0275726318359375, -0.1298828125, -0.0428466796875, -0.005321502685546875]...\n",
      "Embedding generated for text (length 729): [0.0167388916015625, 0.0042724609375, -0.1585693359375, -0.0272216796875, 0.006809234619140625]...\n",
      "Embedding generated for text (length 729): [0.02740478515625, -0.032684326171875, -0.1519775390625, -0.0421142578125, -0.00170135498046875]...\n",
      "Embedding generated for text (length 729): [0.025634765625, 0.0155181884765625, -0.1661376953125, -0.08843994140625, 0.004169464111328125]...\n",
      "Embedding generated for text (length 729): [0.053924560546875, 0.042236328125, -0.1258544921875, -0.053802490234375, 0.033599853515625]...\n",
      "Embedding generated for text (length 729): [0.06878662109375, 0.01641845703125, -0.1466064453125, -0.043548583984375, 0.01904296875]...\n",
      "Embedding generated for text (length 729): [0.0545654296875, 0.0247650146484375, -0.1588134765625, -0.0618896484375, 0.001003265380859375]...\n",
      "Embedding generated for text (length 729): [0.0204010009765625, 0.0149993896484375, -0.15966796875, -0.0296630859375, 0.005306243896484375]...\n",
      "Embedding generated for text (length 729): [0.054718017578125, 0.010589599609375, -0.1754150390625, -0.052398681640625, -0.061614990234375]...\n",
      "Embedding generated for text (length 729): [0.027679443359375, 0.04425048828125, -0.152587890625, -0.04693603515625, 0.039947509765625]...\n",
      "Embedding generated for text (length 729): [0.039154052734375, 0.029693603515625, -0.1376953125, -0.0595703125, 0.031829833984375]...\n",
      "Embedding generated for text (length 729): [0.0236053466796875, 0.008941650390625, -0.15576171875, -0.0775146484375, 0.0112762451171875]...\n",
      "Embedding generated for text (length 729): [0.01279449462890625, 0.01446533203125, -0.1590576171875, -0.0633544921875, 0.02484130859375]...\n",
      "Embedding generated for text (length 729): [-0.00399017333984375, 0.032135009765625, -0.180908203125, -0.06329345703125, 0.00290679931640625]...\n",
      "Embedding generated for text (length 729): [0.0246124267578125, 0.014862060546875, -0.193359375, -0.045806884765625, -0.021453857421875]...\n",
      "Embedding generated for text (length 729): [0.00557708740234375, 0.021087646484375, -0.1790771484375, -0.0161285400390625, 0.03594970703125]...\n",
      "Embedding generated for text (length 729): [0.0195465087890625, -0.006137847900390625, -0.1885986328125, -0.0298614501953125, 0.0341796875]...\n",
      "Embedding generated for text (length 729): [0.032806396484375, -0.01367950439453125, -0.21630859375, -0.02886962890625, 0.010284423828125]...\n",
      "Embedding generated for text (length 729): [0.0426025390625, 0.06475830078125, -0.1807861328125, -0.037139892578125, 0.0162200927734375]...\n",
      "Embedding generated for text (length 729): [0.008758544921875, 0.01593017578125, -0.1763916015625, -0.01474761962890625, 0.03924560546875]...\n",
      "Embedding generated for text (length 729): [0.0283660888671875, 0.0203857421875, -0.160888671875, -0.0491943359375, -0.0170440673828125]...\n",
      "Embedding generated for text (length 729): [-0.004314422607421875, -0.000865936279296875, -0.17333984375, -0.047271728515625, -0.005084991455078125]...\n",
      "Embedding generated for text (length 729): [-0.01800537109375, 0.046234130859375, -0.1600341796875, 6.41942024230957e-05, 0.0006422996520996094]...\n",
      "Embedding generated for text (length 729): [-0.007190704345703125, 0.053802490234375, -0.1715087890625, -0.008209228515625, 0.00672149658203125]...\n",
      "Embedding generated for text (length 729): [0.0194091796875, 0.057464599609375, -0.1668701171875, -0.01983642578125, -0.00020384788513183594]...\n",
      "Embedding generated for text (length 729): [0.0567626953125, 0.036102294921875, -0.1492919921875, -0.03485107421875, -0.04693603515625]...\n",
      "Embedding generated for text (length 729): [0.024749755859375, 0.01544952392578125, -0.171875, -0.01053619384765625, -0.038055419921875]...\n",
      "Embedding generated for text (length 729): [0.0223236083984375, 0.048187255859375, -0.1439208984375, 0.006237030029296875, 0.0173797607421875]...\n",
      "Embedding generated for text (length 729): [0.05548095703125, 0.0552978515625, -0.1505126953125, -0.024322509765625, 0.034576416015625]...\n",
      "Embedding generated for text (length 729): [0.049468994140625, 0.05084228515625, -0.1700439453125, -0.038726806640625, 0.035369873046875]...\n",
      "Embedding generated for text (length 729): [0.020111083984375, 0.06695556640625, -0.1849365234375, -0.038238525390625, 0.031402587890625]...\n",
      "Embedding generated for text (length 729): [0.0242156982421875, 0.014617919921875, -0.2015380859375, -0.045135498046875, 0.005756378173828125]...\n",
      "Embedding generated for text (length 729): [0.0190582275390625, 0.0015668869018554688, -0.171875, -0.0303802490234375, -0.0169830322265625]...\n",
      "Embedding generated for text (length 729): [-0.0082550048828125, 0.00559234619140625, -0.1707763671875, -0.04473876953125, 0.055694580078125]...\n",
      "Embedding generated for text (length 729): [0.023193359375, 0.0059356689453125, -0.1712646484375, -0.05426025390625, 0.031494140625]...\n",
      "Embedding generated for text (length 729): [0.00634765625, 0.064208984375, -0.1676025390625, -0.043365478515625, 0.0092315673828125]...\n",
      "Embedding generated for text (length 729): [-0.0268707275390625, 0.0618896484375, -0.1768798828125, -0.0298919677734375, 0.04241943359375]...\n",
      "Embedding generated for text (length 729): [-0.01424407958984375, 0.05560302734375, -0.171630859375, -0.0217437744140625, -0.020538330078125]...\n",
      "Embedding generated for text (length 729): [0.002933502197265625, 0.038299560546875, -0.1630859375, -0.0284881591796875, 0.045440673828125]...\n",
      "Embedding generated for text (length 729): [0.01055908203125, 0.0413818359375, -0.1513671875, -0.06201171875, -0.002384185791015625]...\n",
      "Embedding generated for text (length 729): [0.0269317626953125, 0.0258026123046875, -0.1629638671875, -0.0290985107421875, 0.01605224609375]...\n",
      "Embedding generated for text (length 729): [0.042938232421875, 0.01293182373046875, -0.158447265625, -0.022430419921875, -0.0172576904296875]...\n",
      "Embedding generated for text (length 729): [0.035980224609375, 0.006275177001953125, -0.1663818359375, -0.01837158203125, -0.0183563232421875]...\n",
      "Embedding generated for text (length 729): [0.028778076171875, -0.0173797607421875, -0.1239013671875, -0.03558349609375, -0.029296875]...\n",
      "Embedding generated for text (length 729): [0.02545166015625, -0.0015821456909179688, -0.172119140625, -0.02716064453125, -0.0189208984375]...\n",
      "Embedding generated for text (length 729): [0.050445556640625, 0.0089111328125, -0.1416015625, -0.03240966796875, 0.01381683349609375]...\n",
      "Embedding generated for text (length 729): [0.03936767578125, 0.0219268798828125, -0.17822265625, -0.0760498046875, 0.046539306640625]...\n",
      "Embedding generated for text (length 729): [0.045074462890625, -0.0013980865478515625, -0.1600341796875, -0.050018310546875, 0.002498626708984375]...\n",
      "Embedding generated for text (length 729): [0.0445556640625, 0.0092620849609375, -0.1806640625, -0.0251007080078125, 0.0111846923828125]...\n",
      "Embedding generated for text (length 729): [0.03466796875, 0.0322265625, -0.1636962890625, -0.0443115234375, 0.045379638671875]...\n",
      "Embedding generated for text (length 729): [0.031097412109375, 0.03271484375, -0.1585693359375, -0.050872802734375, -0.004791259765625]...\n",
      "Embedding generated for text (length 729): [-0.01409912109375, 0.038055419921875, -0.17333984375, -0.0277557373046875, 0.0208587646484375]...\n",
      "Embedding generated for text (length 729): [-0.00704193115234375, 0.040618896484375, -0.206787109375, -0.0550537109375, 0.01010894775390625]...\n",
      "Embedding generated for text (length 729): [-0.0188140869140625, 0.024749755859375, -0.18310546875, -0.044952392578125, 0.01953125]...\n",
      "Embedding generated for text (length 729): [0.033050537109375, 0.00830841064453125, -0.17822265625, -0.04913330078125, -0.015869140625]...\n",
      "Embedding generated for text (length 729): [-0.0035266876220703125, 0.0233001708984375, -0.1778564453125, -0.0267181396484375, 0.01438140869140625]...\n",
      "Embedding generated for text (length 729): [0.0002422332763671875, 0.004852294921875, -0.19580078125, -0.0372314453125, -0.0297698974609375]...\n",
      "Embedding generated for text (length 729): [0.007122039794921875, 0.01203155517578125, -0.17333984375, -0.021209716796875, 0.005157470703125]...\n",
      "Embedding generated for text (length 729): [-0.0251617431640625, 0.0419921875, -0.171630859375, -0.0293121337890625, 0.0209808349609375]...\n",
      "Embedding generated for text (length 729): [0.0047607421875, 0.039154052734375, -0.1644287109375, -0.038970947265625, 0.020233154296875]...\n",
      "Embedding generated for text (length 729): [-0.0191802978515625, 0.0287322998046875, -0.1673583984375, -0.027984619140625, -0.00759124755859375]...\n",
      "Embedding generated for text (length 729): [0.0084228515625, 0.03839111328125, -0.1636962890625, -0.0307769775390625, 0.01152801513671875]...\n",
      "Embedding generated for text (length 729): [0.004756927490234375, 0.0251922607421875, -0.1412353515625, -0.034912109375, 0.0179290771484375]...\n",
      "Embedding generated for text (length 729): [0.03240966796875, 0.00585174560546875, -0.1605224609375, -0.03265380859375, 0.00396728515625]...\n",
      "Embedding generated for text (length 729): [0.01226043701171875, 0.01451873779296875, -0.180908203125, -0.0673828125, -0.00640869140625]...\n",
      "Embedding generated for text (length 729): [0.0204620361328125, 0.00527191162109375, -0.1611328125, -0.04229736328125, -0.01425933837890625]...\n",
      "Embedding generated for text (length 729): [0.0105743408203125, 0.005306243896484375, -0.1715087890625, -0.0650634765625, 0.0034236907958984375]...\n",
      "Embedding generated for text (length 729): [0.01079559326171875, 0.01148223876953125, -0.1737060546875, -0.002899169921875, -0.0191497802734375]...\n",
      "Embedding generated for text (length 729): [-0.0211944580078125, 0.046966552734375, -0.18505859375, -0.00391387939453125, 0.017333984375]...\n",
      "Embedding generated for text (length 729): [0.03179931640625, 0.0408935546875, -0.1480712890625, -0.05926513671875, 0.0253448486328125]...\n",
      "Embedding generated for text (length 729): [-0.032867431640625, 0.060394287109375, -0.1904296875, -0.0093536376953125, 0.0016765594482421875]...\n",
      "Embedding generated for text (length 729): [0.056182861328125, -0.007610321044921875, -0.177978515625, -0.05157470703125, 0.0025501251220703125]...\n",
      "Embedding generated for text (length 729): [0.0408935546875, 0.08111572265625, -0.172607421875, -0.039642333984375, 0.001865386962890625]...\n",
      "Embedding generated for text (length 729): [0.03472900390625, 0.07269287109375, -0.15673828125, -0.0207366943359375, 0.0272979736328125]...\n",
      "Embedding generated for text (length 729): [-0.0008878707885742188, 0.035614013671875, -0.178955078125, -0.0205078125, 0.01507568359375]...\n",
      "Embedding generated for text (length 729): [0.0479736328125, 0.0280609130859375, -0.1807861328125, -0.024322509765625, 0.0145416259765625]...\n",
      "Embedding generated for text (length 729): [0.039031982421875, 0.00887298583984375, -0.1597900390625, -0.014434814453125, 0.0257415771484375]...\n",
      "Embedding generated for text (length 729): [-0.0114288330078125, 0.033966064453125, -0.177734375, -0.038818359375, 0.0208740234375]...\n",
      "Embedding generated for text (length 729): [0.0078582763671875, 0.0467529296875, -0.17138671875, -0.034271240234375, 0.023040771484375]...\n",
      "Embedding generated for text (length 729): [0.01219940185546875, 0.059112548828125, -0.1641845703125, -0.027801513671875, -0.01522064208984375]...\n",
      "Embedding generated for text (length 729): [0.03759765625, 0.01141357421875, -0.1837158203125, -0.028289794921875, -0.016021728515625]...\n",
      "Embedding generated for text (length 729): [0.0211029052734375, 0.056182861328125, -0.166259765625, -0.0154571533203125, 0.021453857421875]...\n",
      "Embedding generated for text (length 729): [0.015350341796875, 0.036651611328125, -0.172119140625, -0.0699462890625, -0.0038928985595703125]...\n",
      "Embedding generated for text (length 729): [0.0498046875, 0.060272216796875, -0.1812744140625, -0.047576904296875, 0.036651611328125]...\n",
      "Embedding generated for text (length 729): [0.09222412109375, 0.048583984375, -0.1600341796875, -0.048065185546875, 0.07574462890625]...\n",
      "Embedding generated for text (length 729): [0.0546875, 0.03955078125, -0.1717529296875, -0.0100250244140625, 0.043975830078125]...\n",
      "Embedding generated for text (length 729): [0.00501251220703125, 0.061065673828125, -0.168212890625, -0.01316070556640625, 0.0772705078125]...\n",
      "Embedding generated for text (length 729): [0.056304931640625, 0.0269622802734375, -0.134765625, -0.03448486328125, 0.047607421875]...\n",
      "Embedding generated for text (length 729): [0.03521728515625, 0.045166015625, -0.15478515625, -0.00664520263671875, 0.0206451416015625]...\n",
      "Embedding generated for text (length 729): [-0.0201873779296875, 0.036102294921875, -0.1654052734375, -0.02069091796875, 0.0099029541015625]...\n",
      "Embedding generated for text (length 729): [0.00531005859375, 0.01306915283203125, -0.1826171875, -0.0239410400390625, 0.0213623046875]...\n",
      "Embedding generated for text (length 729): [0.07281494140625, 0.00563812255859375, -0.1669921875, -0.0673828125, 0.031524658203125]...\n",
      "Embedding generated for text (length 729): [0.054473876953125, -0.001377105712890625, -0.1763916015625, -0.034820556640625, 0.020782470703125]...\n",
      "Embedding generated for text (length 729): [0.01523590087890625, 0.033721923828125, -0.1595458984375, -0.050567626953125, 0.02874755859375]...\n",
      "Embedding generated for text (length 729): [0.020050048828125, -0.0030765533447265625, -0.1817626953125, -0.038238525390625, 0.005657196044921875]...\n",
      "Embedding generated for text (length 729): [0.03131103515625, -0.006015777587890625, -0.174072265625, -0.022613525390625, 0.0299072265625]...\n",
      "Embedding generated for text (length 729): [-0.005107879638671875, 0.00722503662109375, -0.1849365234375, -0.03436279296875, 0.0234222412109375]...\n",
      "Embedding generated for text (length 658): [0.0183563232421875, 0.0216827392578125, -0.1669921875, -0.0232696533203125, 0.0005092620849609375]...\n",
      "Embedding generated for text (length 1): [0.022674560546875, 0.031494140625, -0.2283935546875, 0.0013332366943359375, 0.04644775390625]...\n",
      "Embeddings stored successfully. Total points: 128\n",
      "Embedding generated for text (length 47): [0.0299224853515625, 0.011199951171875, -0.1370849609375, -0.07208251953125, 0.0284881591796875]...\n",
      "Search Results: ['3*** or \\nas evidence of any collateral transaction not required to be effected by registered instrument.] \\n 50. Certain registered documents relating to land to take effect against unregistered \\ndocuments.—(1) Every document of the kinds mentioned in clauses (a), (b), (c) and (d) of section 17, \\nsub-section (1), and clauses (a) and (b) of section 18, shall, if duly registered, take effect as regards the \\nproperty comprised therein, against every unregistered document relating to the same property, and not \\nbeing a decree or order, whether such unregistered document be of the same nature as the registered \\ndocument or not. \\n(2) Nothing in sub-section (1) applies to leases exempted under the proviso to sub-section (1) of ', 'der \\nsection 45, open the cover and cause the will to be copied into his Book No. 3 and make a note on such \\ncopy that the original has been removed into Court in pursuance of the order aforesaid. \\nPART X \\nOF THE EFFECTS OF REGISTRATION AND NON-REGISTRATION \\n47. Time from which registered document operates.—A registered document shall operate from \\nthe time which it would have commenced to operate if no registration thereof had been required or made, \\nand not from the time of its registration. \\n48. Registered documents relating to property when to take effect against oral                 \\nagreements.— All non-testamentary documents duly registered under this Act, and relating to any \\nproperty, whether movable or immovab']...\n",
      "Error in LLM API: 400, {\"detail\":\"Internal server error \"}\n"
     ]
    }
   ],
   "source": [
    "# 7. End-to-end PDF embedding and querying\n",
    "def embed_pdf_and_query(file_path, user_query, user_id, thread_id, message_id, collection_name):\n",
    "    # Embed the PDF\n",
    "    print(f\"Processing PDF: {file_path}\")\n",
    "    _, chunks = pdf_to_text_chunks(file_path, EMBED_CHUNK_SIZE, EMBED_CHUNK_OVERLAP)\n",
    "    file_hash = hashlib.md5(open(file_path, 'rb').read()).hexdigest()\n",
    "    store_embeddings(chunks, file_path, file_hash, user_id, thread_id, message_id, collection_name)\n",
    "    \n",
    "    # Retrieve relevant context for the query\n",
    "    context = simple_rag_retrieve(user_query, top_k, user_id, thread_id, collection_name)\n",
    "    \n",
    "    # Generate response using the context and the query\n",
    "    if context:\n",
    "        return generate_llm_response(context, user_query, model_llm)\n",
    "    else:\n",
    "        print(\"No relevant context found.\")\n",
    "        return None\n",
    "\n",
    "# Example of usage\n",
    "file_path = \"registration_act_1908.pdf\"  # Replace with actual PDF file path\n",
    "user_query = \"What are the main conclusions of this document?\"\n",
    "user_id = \"user123\"\n",
    "thread_id = \"thread456\"\n",
    "message_id = \"msg789\"\n",
    "\n",
    "setup_qdrant_collection(qdrant_client, collection_name, EMBED_DIMENSION)\n",
    "response = embed_pdf_and_query(file_path, user_query, user_id, thread_id, message_id, collection_name)\n",
    "\n",
    "if response:\n",
    "    print(f\"Final Answer: {response}\")\n"
   ]
  },
  {
   "cell_type": "markdown",
   "metadata": {
    "id": "gTS2Hjf7pnno"
   },
   "source": [
    "By following this structure, the model enables users to upload PDFs, extract meaningful information from them, and ask questions that are answered based on the embedded content in the document. All of this is powered by Nugen’s APIs and the Qdrant vector database for high-quality search and retrieval.\n"
   ]
  },
  {
   "cell_type": "markdown",
   "metadata": {},
   "source": [
    "**Conclusion**\n",
    "\n",
    "By following this cookbook, you now have a complete solution for processing PDF documents, generating embeddings with the Nugen API, storing them in Qdrant, and retrieving relevant information based on user queries. This solution can be expanded or modified for different use cases such as knowledge bases, document search, or other information retrieval applications."
   ]
  }
 ],
 "metadata": {
  "colab": {
   "provenance": []
  },
  "kernelspec": {
   "display_name": "Python 3",
   "language": "python",
   "name": "python3"
  },
  "language_info": {
   "codemirror_mode": {
    "name": "ipython",
    "version": 3
   },
   "file_extension": ".py",
   "mimetype": "text/x-python",
   "name": "python",
   "nbconvert_exporter": "python",
   "pygments_lexer": "ipython3",
   "version": "3.12.7"
  }
 },
 "nbformat": 4,
 "nbformat_minor": 4
}
