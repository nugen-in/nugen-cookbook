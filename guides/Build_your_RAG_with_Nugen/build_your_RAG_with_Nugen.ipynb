{
 "cells": [
  {
   "cell_type": "markdown",
   "metadata": {
    "id": "YRTPCWWrpu2p"
   },
   "source": [
    "## **Nugen Intelligence**\n",
    "<img src=\"https://nugen.in/logo.png\" alt=\"Nugen Logo\" width=\"200\"/>\n",
    "\n",
    "Domain-aligned foundational models at industry leading speeds and zero-data retention!\n",
    "\n"
   ]
  },
  {
   "cell_type": "markdown",
   "metadata": {
    "id": "WAA-Q9eJg92j"
   },
   "source": [
    "## **Chat-with-PDF using Nugen APIs**\n",
    "---"
   ]
  },
  {
   "cell_type": "markdown",
   "metadata": {
    "id": "2gBJgQLShhMd"
   },
   "source": [
    "In this lesson, you will learn how to chat with a PDF using Nugen's embeddings and text completion endpoints. We would go through the following:\n",
    "1. Parse the Pdf documents and create chunks \n",
    "2. Create chunk embeddings and index it in vector database\n",
    "3. Answer user queries based on contextual search from these embeddings. \n",
    "\n",
    "In order to store the embeddings, we will use Qdrant vector database."
   ]
  },
  {
   "cell_type": "markdown",
   "metadata": {
    "id": "x5DjVs0Fh5qt"
   },
   "source": [
    "### Setup and Configuration\n",
    "Importing Libraries and Environment Setup"
   ]
  },
  {
   "cell_type": "code",
   "execution_count": null,
   "metadata": {
    "colab": {
     "base_uri": "https://localhost:8080/"
    },
    "id": "E88t43DJIPEu",
    "outputId": "0a2a4e97-c44a-4609-91f4-c5049cd7d513"
   },
   "outputs": [],
   "source": [
    "!pip install --quiet pymupdf==1.24.13 qdrant-client==1.9.1\n",
    "\n",
    "import hashlib\n",
    "import requests\n",
    "import fitz  # PyMuPDF\n",
    "from qdrant_client import QdrantClient\n",
    "from qdrant_client.models import PointStruct, VectorParams\n"
   ]
  },
  {
   "cell_type": "markdown",
   "metadata": {
    "id": "IKcdMb5iiESI"
   },
   "source": [
    "**Explanation:**\n",
    "\n",
    "* **request** : For making API calls to Nugen's language model and embedding API.\n",
    "* **fitz (PyMuPDF):** A library for reading and extracting text from PDF files.\n",
    "\n",
    "* **QdrantClient:** A client to connect and interact with the Qdrant vector database, where embeddings are stored.\n",
    "* **dotenv:** Loads environment variables from a .env file to securely manage API keys and database URLs.\n",
    "\n",
    "* **chainlit:** Used to interact with users and manage messages within a chat-like interface.\n",
    "\n",
    "\n",
    "\n",
    "\n",
    "\n",
    "\n",
    "\n",
    "\n"
   ]
  },
  {
   "cell_type": "markdown",
   "metadata": {
    "id": "ZpCXACJXjVd7"
   },
   "source": [
    "### **Defining Global Variables and Model Configuration**\n",
    "\n",
    "To get started with Nugen APIs, you'll need your Nugen API key, which you can obtain for free. Visit the \n",
    "[Nugen API Documentation](https://docs.nugen.in/api-reference/endpoint/embeddings/embeddings) to generate your key. Nugen offers free access to its powerful AI models, allowing you to integrate features like embeddings and language model completions at no cost.\n",
    "\n",
    "By leveraging this API key, you can seamlessly integrate Nugen’s cutting-edge APIs into your applications and start building advanced AI-powered solutions right away!\n",
    "\n"
   ]
  },
  {
   "cell_type": "code",
   "execution_count": 6,
   "metadata": {
    "id": "JOq_-edWjnuz"
   },
   "outputs": [
    {
     "ename": "SyntaxError",
     "evalue": "invalid syntax (3360824373.py, line 1)",
     "output_type": "error",
     "traceback": [
      "\u001b[0;36m  Cell \u001b[0;32mIn[6], line 1\u001b[0;36m\u001b[0m\n\u001b[0;31m    NUGEN_API_KEY = <INSERT_API_KEY_HERE>  # Replace with your actual API key from Nugen\u001b[0m\n\u001b[0m                    ^\u001b[0m\n\u001b[0;31mSyntaxError\u001b[0m\u001b[0;31m:\u001b[0m invalid syntax\n"
     ]
    }
   ],
   "source": [
    "\n",
    "NUGEN_API_KEY = <INSERT_API_KEY_HERE>  # Replace with your actual API key from Nugen\n",
    "LLM_API_URL = \"https://api.nugen.in/inference\"\n",
    "model_llm = \"nugen-flash-instruct\"\n",
    "model_embed = \"nugen-flash-embed\"\n",
    "EMBED_DIMENSION = 768\n",
    "EMBED_CHUNK_SIZE = int(EMBED_DIMENSION * 0.95)\n",
    "EMBED_CHUNK_OVERLAP = int(EMBED_CHUNK_SIZE * 0.10)\n",
    "LLM_API_PROVIDER_KEY = NUGEN_API_KEY\n",
    "\n",
    "# Setup local Qdrant database\n",
    "qdrant_client = QdrantClient(\":memory:\")\n",
    "collection_name = \"pdf_embeddings\"\n",
    "top_k = 5\n"
   ]
  },
  {
   "cell_type": "markdown",
   "metadata": {
    "id": "vs_UNbjkjpG9"
   },
   "source": [
    "### **USE API PROVIDER:**\n",
    "\n",
    "This variable determines which provider's API will be used. In this case, it is set to \"NUGEN\", so all API calls are directed to Nugen’s services.\n",
    "\n",
    "### Nugen API Configuration:\n",
    "\n",
    "\n",
    "*   **NUGEN_API_KEY:** API key for **Nugen's domain-aligned model services**.\n",
    "*   **LLM_API_URL:** The base url for Nugen’s large language model inference API.\n",
    "*   **model_llm and model_embed:** These specify which models to use for generating instruction-based completion and text embeddings, respectively.\n",
    "      \n",
    "        1. model_llm: nugen-flash-instruct (used for answering user queries).\n",
    "        2. model_embed: nugen-flash-embed (used for generating embeddings from text).\n",
    "    \n",
    "### Embedding Parameters:\n",
    "\n",
    "*   **EMBED_DIMENSION:** Dimension of the embedding vector (768 for Nugen's embeddings).\n",
    "\n",
    "*  **EMBED_CHUNK_SIZE and EMBED_CHUNK_OVERLAP:** This is a parameter to create chunks the contents of the PDF, which is then used to create chunk embeddings. A chunk is the amount of text processed together, and overlap ensures continuity between adjacent chunks.\n",
    "\n",
    "**QdrantClient:** The client object for connecting to Qdrant (the vector database where embeddings are stored). We use a local instantiation of the qdrant client. Note: If the jupyter notebook kernel is closed, you would need to re-index the embeddings. This is not recommended for working with larger documents. We strongly recommend following the documentation of Qdrant for local deployment here: https://qdrant.tech/documentation/quickstart/. To enable local persistance of the data. For production use cases, please refer to the official documentation here: https://qdrant.tech/documentation/guides/installation/\n",
    "\n",
    "**Collection Name:** This is the name of the Qdrant collection where embeddings related to the PDFs will be stored.\n",
    "\n",
    "**top_k:** Defines the number of top results to retrieve from the Qdrant database when searching for relevant context based on the user query.\n"
   ]
  },
  {
   "cell_type": "markdown",
   "metadata": {
    "id": "ALDirP5xm7C0"
   },
   "source": [
    "### **Setting up the Qdrant Collection**\n",
    "\n",
    "Now, let’s set up the Qdrant collection where the PDF embeddings will be stored. This function checks if the collection already exists, and if not, it creates a new one."
   ]
  },
  {
   "cell_type": "code",
   "execution_count": 26,
   "metadata": {
    "id": "ctWJ9Cbnm86m"
   },
   "outputs": [],
   "source": [
    "def setup_qdrant_collection(qdrant_client, collection_name, embed_dim):\n",
    "    try:\n",
    "        collections = qdrant_client.get_collections().collections\n",
    "        if collection_name not in [collection.name for collection in collections]:\n",
    "            qdrant_client.create_collection(\n",
    "                collection_name=collection_name,\n",
    "                vectors_config=VectorParams(size=embed_dim, distance=\"Cosine\")\n",
    "            )\n",
    "            print(f\"Collection '{collection_name}' created.\")\n",
    "        else:\n",
    "            print(f\"Collection '{collection_name}' already exists.\")\n",
    "    except Exception as e:\n",
    "        print(f\"Error setting up Qdrant collection: {e}\")"
   ]
  },
  {
   "cell_type": "markdown",
   "metadata": {
    "id": "AaF13LcTnBWa"
   },
   "source": [
    "* This function checks if a collection (i.e., a \"bucket\" for storing embeddings) already exists in Qdrant.\n",
    "\n",
    "* If the collection does not exist, it creates a new one with vector size (embed_dim) based on the embedding dimensions of the Nugen model.\n",
    "\n",
    "* Cosine distance is used as the metric for comparing vectors, which is standard for similarity searches.\n",
    "\n",
    "\n",
    "\n",
    "\n"
   ]
  },
  {
   "cell_type": "markdown",
   "metadata": {
    "id": "vLp3FAeWnYky"
   },
   "source": [
    "### **Extracting Text and Splitting PDF into Chunks**\n",
    "\n",
    "The next step is to extract text from a PDF file and split it into manageable chunks. These chunks will then be converted into embeddings."
   ]
  },
  {
   "cell_type": "code",
   "execution_count": 27,
   "metadata": {
    "id": "FThcKkDDnc_2"
   },
   "outputs": [],
   "source": [
    "# 2. Convert PDF to text chunks\n",
    "def pdf_to_text_chunks(pdf_path, chunk_size, overlap_size):\n",
    "    doc = fitz.open(pdf_path)\n",
    "    text = \"\".join([page.get_text() for page in doc])\n",
    "    chunks = [text[i:i+chunk_size] for i in range(0, len(text), chunk_size-overlap_size)]\n",
    "    print(f\"Extracted Text: {text[:500]}...\")  # Print a sample of extracted text\n",
    "    print(f\"Total chunks created: {len(chunks)}\")\n",
    "    return text, chunks\n"
   ]
  },
  {
   "cell_type": "markdown",
   "metadata": {
    "id": "otR4YGYxnhgZ"
   },
   "source": [
    "* This function opens the PDF using PyMuPDF (fitz) and extracts all the text from each page of the document.\n",
    "* Read more about pymupdf [here](https://pymupdf.readthedocs.io/)\n",
    "* The entire text is then split into chunks of a specific size (chunk_size) with some overlap (overlap_size). Overlapping chunks help maintain continuity in embeddings, which can improve retrieval performance.\n",
    "\n"
   ]
  },
  {
   "cell_type": "markdown",
   "metadata": {
    "id": "qQHTlXI0np_6"
   },
   "source": [
    "### **Generating Embeddings for Text Chunks**\n",
    "\n",
    "Now that we have text chunks, we need to generate embeddings for them using the Nugen API. This function takes each chunk and sends it to the Nugen API to generate an embedding.\n",
    "\n",
    "To read more about Nugen API and access free API keys, you can visit [Nugen Intelligence](https://docs.nugen.in/introduction)"
   ]
  },
  {
   "cell_type": "code",
   "execution_count": 28,
   "metadata": {
    "id": "5DCJaWpOnv_y"
   },
   "outputs": [],
   "source": [
    "# 3. Create embedding using Nugen API\n",
    "def create_embedding(text, model_embed):\n",
    "    url = f\"{LLM_API_URL}/embeddings\"\n",
    "    headers = {\n",
    "        \"Authorization\": f\"Bearer {LLM_API_PROVIDER_KEY}\",\n",
    "        \"Content-Type\": \"application/json\"\n",
    "    }\n",
    "    data = {\n",
    "        \"model\": model_embed,\n",
    "        \"input\": text\n",
    "    }\n",
    "    response = requests.post(url, json=data, headers=headers)\n",
    "    if response.status_code == 200:\n",
    "        embedding = response.json()['data'][0]['embedding']\n",
    "        print(f\"Embedding generated for text (length {len(text)}): {embedding[:5]}...\")\n",
    "        return embedding\n",
    "    else:\n",
    "        print(f\"Error in embedding API: {response.status_code}, {response.text}\")\n",
    "        return None\n"
   ]
  },
  {
   "cell_type": "markdown",
   "metadata": {
    "id": "70pRPutUnyA5"
   },
   "source": [
    "* This function calls the Nugen embedding API to generate embeddings for the given text.\n",
    "* It sends a POST request to Nugen’s /embeddings endpoint with the text data and embedding model (model_embed).\n",
    "* The function returns the vector embedding of the text, which is later stored in Qdrant DB.\n",
    "\n",
    "\n",
    "\n",
    "\n"
   ]
  },
  {
   "cell_type": "markdown",
   "metadata": {
    "id": "upcM9hk3oHz4"
   },
   "source": [
    "### **Storing Embeddings in Qdrant DB**\n",
    "\n",
    "Once embeddings are generated, we need to store them in Qdrant DB. This function handles the creation of points and uploads them to the Qdrant collection."
   ]
  },
  {
   "cell_type": "code",
   "execution_count": null,
   "metadata": {
    "id": "G0ma4MISoJzK"
   },
   "outputs": [],
   "source": [
    "# 4. Store embeddings in Qdrant\n",
    "def store_embeddings(chunks, file_path, file_hash, user_id, thread_id, message_id, collection_name):\n",
    "    try:\n",
    "        points = []\n",
    "        for id, chunk in enumerate(chunks):\n",
    "            embedding = create_embedding(chunk, model_embed)\n",
    "            if embedding:  # Proceed only if embedding was successfully generated\n",
    "                points.append(PointStruct(\n",
    "                    id=id, \n",
    "                    vector=embedding, \n",
    "                    payload={\n",
    "                        \"chunk_text\": chunk,\n",
    "                        \"file_path\": file_path,\n",
    "                        \"file_hash\": file_hash,\n",
    "                        \"user_id\": user_id,\n",
    "                        \"thread_id\": thread_id,\n",
    "                        \"message_id\": message_id\n",
    "                    }\n",
    "                ))\n",
    "        qdrant_client.upsert(collection_name=collection_name, points=points)\n",
    "        print(f\"Embeddings stored successfully. Total points: {len(points)}\")\n",
    "    except Exception as e:\n",
    "        print(f\"Error storing embeddings: {e}\")\n"
   ]
  },
  {
   "cell_type": "markdown",
   "metadata": {
    "id": "pDnD7wb1oMnZ"
   },
   "source": [
    "The above function chunks the input text and stores each chunk's embedding in Qdrant DB.\n",
    "\n",
    "* Key Parameters:\n",
    "  * chunks: List of text chunks to be embedded\n",
    "  * file_path: Path of the file being processed\n",
    "  * file_hash: Hash of the file to uniquely identify it\n",
    "  * collection_name: Qdrant collection to store the embeddings\n",
    "\n",
    "* Return: No return value, but embeddings are upserted (inserted or updated) into Qdrant."
   ]
  },
  {
   "cell_type": "markdown",
   "metadata": {
    "id": "cjHLFewCoMgo"
   },
   "source": [
    "### **Retrieving Relevant Context from Qdrant DB**\n",
    "\n",
    "Once the embeddings are stored, we can query Qdrant DB to retrieve the most relevant chunks based on a user's query. This function generates an embedding for the query and searches for similar embeddings in Qdrant DB."
   ]
  },
  {
   "cell_type": "code",
   "execution_count": 29,
   "metadata": {
    "id": "vc8AmM9lorub"
   },
   "outputs": [],
   "source": [
    "# 5. Retrieve relevant chunks based on query\n",
    "def simple_rag_retrieve(query, top_k, user_id, thread_id, collection_name):\n",
    "    try:\n",
    "        query_embedding = create_embedding(query, model_embed)\n",
    "\n",
    "        # Apply the filter with user_id and thread_id to the query\n",
    "        user_query_filter = Filter(\n",
    "            must=[\n",
    "                FieldCondition(key=\"user_id\", match=MatchValue(value=user_id)),\n",
    "                FieldCondition(key=\"thread_id\", match=MatchValue(value=thread_id))\n",
    "            ]\n",
    "        )\n",
    "\n",
    "        search_result = qdrant_client.search(\n",
    "            collection_name=collection_name,\n",
    "            query_vector=query_embedding,\n",
    "            limit=top_k,\n",
    "            query_filter=user_query_filter\n",
    "        )\n",
    "\n",
    "        retrieved_texts = [hit.payload['chunk_text'] for hit in search_result]\n",
    "        print(f\"Search Results: {retrieved_texts[:2]}...\")  # Show a sample of results\n",
    "        return \"\\n\".join(retrieved_texts)\n",
    "    except Exception as e:\n",
    "        print(f\"Error retrieving context: {e}\")\n",
    "        return None\n"
   ]
  },
  {
   "cell_type": "markdown",
   "metadata": {
    "id": "ItMu2v0RotvH"
   },
   "source": [
    "**Search**: We use the query embedding to search for the most relevant chunks in the Qdrant collection.\n",
    "\n",
    "**Filters**: The filter ensures that the results are specific to a particular user and thread."
   ]
  },
  {
   "cell_type": "markdown",
   "metadata": {
    "id": "KspIXQWQpNPH"
   },
   "source": [
    "### **Generate Response Using Nugen API**\n",
    "\n",
    "After retrieving the relevant text chunks, we can use the Nugen API to generate a response based on the context and user query."
   ]
  },
  {
   "cell_type": "code",
   "execution_count": 30,
   "metadata": {
    "id": "2S5JoBqVpP58"
   },
   "outputs": [],
   "source": [
    "# 6. Generate response using Nugen API\n",
    "def generate_llm_response(context, query, model_llm):\n",
    "    url = f\"{LLM_API_URL}/chat/completions\"\n",
    "    headers = {\n",
    "        \"Authorization\": f\"Bearer {LLM_API_PROVIDER_KEY}\",\n",
    "        \"Content-Type\": \"application/json\"\n",
    "    }\n",
    "    data = {\n",
    "        \"model\": model_llm,\n",
    "        \"messages\": [\n",
    "            {\"role\": \"system\", \"content\": \"You are a helpful assistant.\"},\n",
    "            {\"role\": \"user\", \"content\": f\"Context: {context}\"},\n",
    "            {\"role\": \"user\", \"content\": f\"Answer the question: {query}\"}\n",
    "        ]\n",
    "    }\n",
    "    response = requests.post(url, json=data, headers=headers)\n",
    "    if response.status_code == 200:\n",
    "        response_text = response.json()[\"choices\"][0][\"message\"][\"content\"]\n",
    "        print(f\"LLM Response: {response_text}\")\n",
    "        return response_text\n",
    "    else:\n",
    "        print(f\"Error in LLM API: {response.status_code}, {response.text}\")\n",
    "        return None\n"
   ]
  },
  {
   "cell_type": "markdown",
   "metadata": {
    "id": "ru0B2mG4pVPT"
   },
   "source": [
    "* This function sends a POST request to the Nugen API to generate a response based on the retrieved context and the user query.\n",
    "\n",
    "* **messages:** The request includes the context retrieved from Qdrant and the user’s query. The assistant uses these messages to generate a relevant response.\n",
    "\n",
    "* The Nugen API processes this request and returns a completion (answer) that is sent back to the user.\n",
    "\n",
    "\n",
    "\n"
   ]
  },
  {
   "cell_type": "markdown",
   "metadata": {},
   "source": [
    "**Complete Flow**\n",
    "\n",
    "\n",
    "Finally, we can put everything together into an end-to-end flow that processes a PDF, stores the embeddings, retrieves relevant context, and generates an answer for the user’s query."
   ]
  },
  {
   "cell_type": "code",
   "execution_count": 31,
   "metadata": {
    "id": "l13bHML67GHG"
   },
   "outputs": [
    {
     "name": "stdout",
     "output_type": "stream",
     "text": [
      "Collection 'pdf_embeddings' created.\n",
      "Processing PDF: registration_act_1908.pdf\n",
      "Extracted Text: 1 \n",
      " \n",
      "THE REGISTRATION ACT, 1908 \n",
      "___________ \n",
      "ARRANGEMENT OF SECTIONS \n",
      "___________ \n",
      "PART I \n",
      "PRELIMINARY \n",
      "SECTIONS \n",
      "1. Short title, extent and commencement. \n",
      "2. Definitions. \n",
      "PART II \n",
      "OF THE REGISTRATION-ESTABLISHMENT \n",
      "3. Inspector-General of Registration. \n",
      "4. [Repealed.]. \n",
      "5. Districts and sub-districts. \n",
      "6. Registrars and Sub-Registrars. \n",
      "7. Offices of Registrar and Sub-Registrar. \n",
      "8. Inspectors of Registration offices. \n",
      "9. [Repealed.]. \n",
      "10. Absence of Registrar or vacancy in his office. \n",
      "11. A...\n",
      "Total chunks created: 128\n",
      "Embedding generated for text (length 729): [-0.0193939208984375, 0.027984619140625, -0.17626953125, -0.035980224609375, -0.003204345703125]...\n",
      "Embedding generated for text (length 729): [-0.01806640625, 0.050872802734375, -0.179931640625, -0.031341552734375, 0.034942626953125]...\n",
      "Embedding generated for text (length 729): [-0.0130767822265625, 0.042236328125, -0.1771240234375, -0.0169677734375, 0.01557159423828125]...\n",
      "Embedding generated for text (length 729): [0.02655029296875, 0.061492919921875, -0.156982421875, -0.022918701171875, -0.01250457763671875]...\n",
      "Embedding generated for text (length 729): [0.042877197265625, 0.02496337890625, -0.1624755859375, -0.028411865234375, -0.00481414794921875]...\n",
      "Embedding generated for text (length 729): [0.0122833251953125, 0.04290771484375, -0.163330078125, -0.03521728515625, 0.036529541015625]...\n",
      "Embedding generated for text (length 729): [-6.401538848876953e-05, 0.0239715576171875, -0.1685791015625, -0.021881103515625, -0.01415252685546875]...\n",
      "Embedding generated for text (length 729): [0.030975341796875, 0.08514404296875, -0.17626953125, -0.024505615234375, 0.0172882080078125]...\n",
      "Embedding generated for text (length 729): [0.047882080078125, 0.06134033203125, -0.168212890625, -0.02740478515625, 0.027801513671875]...\n",
      "Embedding generated for text (length 729): [0.0117645263671875, 0.0146942138671875, -0.1551513671875, -0.03765869140625, 0.0208892822265625]...\n",
      "Embedding generated for text (length 729): [0.0063934326171875, 0.0269012451171875, -0.1630859375, -0.032318115234375, 0.0270233154296875]...\n",
      "Embedding generated for text (length 729): [0.050140380859375, 0.0718994140625, -0.13671875, -0.08905029296875, 0.0163421630859375]...\n",
      "Embedding generated for text (length 729): [0.00978851318359375, 0.05181884765625, -0.1578369140625, -0.025665283203125, 0.0230865478515625]...\n",
      "Embedding generated for text (length 729): [0.047515869140625, -0.00548553466796875, -0.156005859375, 0.002410888671875, 0.0004162788391113281]...\n",
      "Embedding generated for text (length 729): [0.035736083984375, 0.01078033447265625, -0.1466064453125, -0.006252288818359375, 0.0380859375]...\n",
      "Embedding generated for text (length 729): [0.029693603515625, 0.00528717041015625, -0.16162109375, -0.048736572265625, -0.03436279296875]...\n",
      "Embedding generated for text (length 729): [-0.033660888671875, 0.032012939453125, -0.1905517578125, -0.034271240234375, 0.015655517578125]...\n",
      "Embedding generated for text (length 729): [0.01039886474609375, 0.0190887451171875, -0.169677734375, -0.029266357421875, 0.014404296875]...\n",
      "Embedding generated for text (length 729): [-0.04571533203125, 0.0208740234375, -0.157470703125, -0.009246826171875, 0.01763916015625]...\n",
      "Embedding generated for text (length 729): [-0.036651611328125, 0.03045654296875, -0.16357421875, 0.0011930465698242188, 0.0179901123046875]...\n",
      "Embedding generated for text (length 729): [0.0190277099609375, -0.0225982666015625, -0.20068359375, -0.03125, -0.004489898681640625]...\n",
      "Embedding generated for text (length 729): [-0.000850677490234375, -0.0019512176513671875, -0.177978515625, -0.05474853515625, -0.0007014274597167969]...\n",
      "Embedding generated for text (length 729): [-0.0230560302734375, 0.02447509765625, -0.1846923828125, -0.04132080078125, 0.01238250732421875]...\n",
      "Embedding generated for text (length 729): [-0.044525146484375, 0.034759521484375, -0.1895751953125, -0.0161590576171875, 0.02191162109375]...\n",
      "Embedding generated for text (length 729): [-0.06103515625, 0.059600830078125, -0.1737060546875, -0.0262451171875, 0.031982421875]...\n",
      "Embedding generated for text (length 729): [0.0076446533203125, 0.05975341796875, -0.1588134765625, -0.0469970703125, -0.0011205673217773438]...\n",
      "Embedding generated for text (length 729): [0.0305328369140625, 0.01971435546875, -0.200927734375, -0.07122802734375, -0.0341796875]...\n",
      "Embedding generated for text (length 729): [0.023223876953125, 0.0239715576171875, -0.1837158203125, -0.03369140625, -0.021240234375]...\n",
      "Embedding generated for text (length 729): [0.029815673828125, 1.4722347259521484e-05, -0.172119140625, -0.032867431640625, 0.04742431640625]...\n",
      "Embedding generated for text (length 729): [0.02801513671875, 0.0276031494140625, -0.1298828125, -0.042877197265625, -0.005321502685546875]...\n",
      "Embedding generated for text (length 729): [0.01678466796875, 0.0042724609375, -0.1585693359375, -0.027191162109375, 0.006694793701171875]...\n",
      "Embedding generated for text (length 729): [0.027374267578125, -0.03265380859375, -0.152099609375, -0.0421142578125, -0.00171661376953125]...\n",
      "Embedding generated for text (length 729): [0.02557373046875, 0.01551055908203125, -0.1661376953125, -0.0885009765625, 0.004207611083984375]...\n",
      "Embedding generated for text (length 729): [0.053924560546875, 0.042236328125, -0.1258544921875, -0.053802490234375, 0.033599853515625]...\n",
      "Embedding generated for text (length 729): [0.06878662109375, 0.0164031982421875, -0.1466064453125, -0.04351806640625, 0.019012451171875]...\n",
      "Embedding generated for text (length 729): [0.054595947265625, 0.0247650146484375, -0.1588134765625, -0.061859130859375, 0.0010433197021484375]...\n",
      "Embedding generated for text (length 729): [0.0204010009765625, 0.0149993896484375, -0.15966796875, -0.0296478271484375, 0.0053253173828125]...\n",
      "Embedding generated for text (length 729): [0.054718017578125, 0.010589599609375, -0.1754150390625, -0.052398681640625, -0.061614990234375]...\n",
      "Embedding generated for text (length 729): [0.027618408203125, 0.04425048828125, -0.152587890625, -0.046966552734375, 0.039947509765625]...\n",
      "Embedding generated for text (length 729): [0.039154052734375, 0.0297393798828125, -0.1376953125, -0.0595703125, 0.031829833984375]...\n",
      "Embedding generated for text (length 729): [0.0235748291015625, 0.0089569091796875, -0.15576171875, -0.07757568359375, 0.0112457275390625]...\n",
      "Embedding generated for text (length 729): [0.01279449462890625, 0.01446533203125, -0.1590576171875, -0.0633544921875, 0.02484130859375]...\n",
      "Embedding generated for text (length 729): [-0.004009246826171875, 0.032135009765625, -0.180908203125, -0.06329345703125, 0.00293731689453125]...\n",
      "Embedding generated for text (length 729): [0.024627685546875, 0.01486968994140625, -0.193359375, -0.04583740234375, -0.021453857421875]...\n",
      "Embedding generated for text (length 729): [0.005584716796875, 0.0211029052734375, -0.1790771484375, -0.0161285400390625, 0.035919189453125]...\n",
      "Embedding generated for text (length 729): [0.01953125, -0.006168365478515625, -0.1885986328125, -0.0299224853515625, 0.034210205078125]...\n",
      "Embedding generated for text (length 729): [0.03277587890625, -0.013702392578125, -0.21630859375, -0.02886962890625, 0.0103302001953125]...\n",
      "Embedding generated for text (length 729): [0.0426025390625, 0.06475830078125, -0.180908203125, -0.037109375, 0.0162811279296875]...\n",
      "Embedding generated for text (length 729): [0.0086822509765625, 0.015960693359375, -0.1763916015625, -0.01470184326171875, 0.03924560546875]...\n",
      "Embedding generated for text (length 729): [0.0284271240234375, 0.0203704833984375, -0.160888671875, -0.0491943359375, -0.017059326171875]...\n",
      "Embedding generated for text (length 729): [-0.004283905029296875, -0.0009059906005859375, -0.17333984375, -0.047393798828125, -0.005092620849609375]...\n",
      "Embedding generated for text (length 729): [-0.01800537109375, 0.046234130859375, -0.159912109375, 7.706880569458008e-05, 0.0006308555603027344]...\n",
      "Embedding generated for text (length 729): [-0.007205963134765625, 0.053741455078125, -0.1715087890625, -0.0081939697265625, 0.00675201416015625]...\n",
      "Embedding generated for text (length 729): [0.0194244384765625, 0.05743408203125, -0.1668701171875, -0.019805908203125, -0.0002263784408569336]...\n",
      "Embedding generated for text (length 729): [0.0567626953125, 0.03607177734375, -0.1492919921875, -0.03485107421875, -0.04693603515625]...\n",
      "Embedding generated for text (length 729): [0.024749755859375, 0.01544952392578125, -0.171875, -0.01053619384765625, -0.038055419921875]...\n",
      "Embedding generated for text (length 729): [0.0223541259765625, 0.04815673828125, -0.1439208984375, 0.006237030029296875, 0.0174102783203125]...\n",
      "Embedding generated for text (length 729): [0.055450439453125, 0.05535888671875, -0.150390625, -0.0243988037109375, 0.034576416015625]...\n",
      "Embedding generated for text (length 729): [0.04949951171875, 0.0509033203125, -0.1700439453125, -0.0386962890625, 0.035400390625]...\n",
      "Embedding generated for text (length 729): [0.0201416015625, 0.06695556640625, -0.1849365234375, -0.038238525390625, 0.031494140625]...\n",
      "Embedding generated for text (length 729): [0.024200439453125, 0.01459503173828125, -0.2015380859375, -0.045135498046875, 0.00576019287109375]...\n",
      "Embedding generated for text (length 729): [0.0190277099609375, 0.0015764236450195312, -0.171875, -0.0303802490234375, -0.0170135498046875]...\n",
      "Embedding generated for text (length 729): [-0.00824737548828125, 0.005550384521484375, -0.1707763671875, -0.04473876953125, 0.055694580078125]...\n",
      "Embedding generated for text (length 729): [0.023223876953125, 0.005878448486328125, -0.17138671875, -0.054290771484375, 0.031463623046875]...\n",
      "Embedding generated for text (length 729): [0.006313323974609375, 0.064208984375, -0.1676025390625, -0.043365478515625, 0.0092315673828125]...\n",
      "Embedding generated for text (length 729): [-0.0268402099609375, 0.0618896484375, -0.1768798828125, -0.0298919677734375, 0.042388916015625]...\n",
      "Embedding generated for text (length 729): [-0.014251708984375, 0.05560302734375, -0.171630859375, -0.02178955078125, -0.020538330078125]...\n",
      "Embedding generated for text (length 729): [0.00293731689453125, 0.03826904296875, -0.1630859375, -0.028472900390625, 0.04541015625]...\n",
      "Embedding generated for text (length 729): [0.01062774658203125, 0.041351318359375, -0.1512451171875, -0.062042236328125, -0.00241851806640625]...\n",
      "Embedding generated for text (length 729): [0.0269927978515625, 0.0258026123046875, -0.1629638671875, -0.0290985107421875, 0.0159912109375]...\n",
      "Embedding generated for text (length 729): [0.042877197265625, 0.01293182373046875, -0.1585693359375, -0.0223846435546875, -0.0172271728515625]...\n",
      "Embedding generated for text (length 729): [0.035980224609375, 0.006282806396484375, -0.1663818359375, -0.0183868408203125, -0.018341064453125]...\n",
      "Embedding generated for text (length 729): [0.028778076171875, -0.0174407958984375, -0.12371826171875, -0.035552978515625, -0.029327392578125]...\n",
      "Embedding generated for text (length 729): [0.025421142578125, -0.0015916824340820312, -0.172119140625, -0.02716064453125, -0.0189056396484375]...\n",
      "Embedding generated for text (length 729): [0.050445556640625, 0.0089111328125, -0.1416015625, -0.03240966796875, 0.01386260986328125]...\n",
      "Embedding generated for text (length 729): [0.03936767578125, 0.021942138671875, -0.17822265625, -0.0760498046875, 0.046539306640625]...\n",
      "Embedding generated for text (length 729): [0.045013427734375, -0.0014553070068359375, -0.1600341796875, -0.05010986328125, 0.00247955322265625]...\n",
      "Embedding generated for text (length 729): [0.0445556640625, 0.0092926025390625, -0.1806640625, -0.025054931640625, 0.011199951171875]...\n",
      "Embedding generated for text (length 729): [0.034637451171875, 0.0322265625, -0.1636962890625, -0.044281005859375, 0.045440673828125]...\n",
      "Embedding generated for text (length 729): [0.0311126708984375, 0.03271484375, -0.1585693359375, -0.05084228515625, -0.00478363037109375]...\n",
      "Embedding generated for text (length 729): [-0.01410675048828125, 0.03802490234375, -0.1732177734375, -0.0277557373046875, 0.020843505859375]...\n",
      "Embedding generated for text (length 729): [-0.0070343017578125, 0.040618896484375, -0.206787109375, -0.0550537109375, 0.0101318359375]...\n",
      "Embedding generated for text (length 729): [-0.018829345703125, 0.024749755859375, -0.1832275390625, -0.044952392578125, 0.0195770263671875]...\n",
      "Embedding generated for text (length 729): [0.033050537109375, 0.00830841064453125, -0.17822265625, -0.04913330078125, -0.0158843994140625]...\n",
      "Embedding generated for text (length 729): [-0.003551483154296875, 0.023284912109375, -0.1778564453125, -0.026763916015625, 0.0143280029296875]...\n",
      "Embedding generated for text (length 729): [0.00021851062774658203, 0.0048370361328125, -0.19580078125, -0.037200927734375, -0.029754638671875]...\n",
      "Embedding generated for text (length 729): [0.0070953369140625, 0.012054443359375, -0.17333984375, -0.021240234375, 0.005123138427734375]...\n",
      "Embedding generated for text (length 729): [-0.0251922607421875, 0.042022705078125, -0.171630859375, -0.029327392578125, 0.020965576171875]...\n",
      "Embedding generated for text (length 729): [0.00470733642578125, 0.039154052734375, -0.1644287109375, -0.0389404296875, 0.0202789306640625]...\n",
      "Embedding generated for text (length 729): [-0.0191802978515625, 0.02874755859375, -0.1673583984375, -0.0279541015625, -0.00762939453125]...\n",
      "Embedding generated for text (length 729): [0.00844573974609375, 0.03839111328125, -0.16357421875, -0.030792236328125, 0.01152801513671875]...\n",
      "Embedding generated for text (length 729): [0.00473785400390625, 0.0251312255859375, -0.1412353515625, -0.034912109375, 0.0179443359375]...\n",
      "Embedding generated for text (length 729): [0.032501220703125, 0.005863189697265625, -0.1605224609375, -0.03265380859375, 0.0040283203125]...\n",
      "Embedding generated for text (length 729): [0.01230621337890625, 0.01448822021484375, -0.180908203125, -0.0673828125, -0.006420135498046875]...\n",
      "Embedding generated for text (length 729): [0.0204620361328125, 0.00530242919921875, -0.1611328125, -0.04229736328125, -0.01428985595703125]...\n",
      "Embedding generated for text (length 729): [0.01061248779296875, 0.005283355712890625, -0.171630859375, -0.0650634765625, 0.0034122467041015625]...\n",
      "Embedding generated for text (length 729): [0.01076507568359375, 0.011474609375, -0.1737060546875, -0.002895355224609375, -0.0191802978515625]...\n",
      "Embedding generated for text (length 729): [-0.0211181640625, 0.046905517578125, -0.18505859375, -0.003917694091796875, 0.017303466796875]...\n",
      "Embedding generated for text (length 729): [0.031768798828125, 0.040924072265625, -0.1480712890625, -0.05926513671875, 0.0253448486328125]...\n",
      "Embedding generated for text (length 729): [-0.032867431640625, 0.060394287109375, -0.1905517578125, -0.0093536376953125, 0.0016803741455078125]...\n",
      "Embedding generated for text (length 729): [0.05609130859375, -0.007595062255859375, -0.177978515625, -0.05157470703125, 0.002521514892578125]...\n",
      "Embedding generated for text (length 729): [0.040863037109375, 0.0810546875, -0.1727294921875, -0.039520263671875, 0.0018472671508789062]...\n",
      "Embedding generated for text (length 729): [0.034698486328125, 0.07269287109375, -0.1568603515625, -0.020721435546875, 0.0272979736328125]...\n",
      "Embedding generated for text (length 729): [-0.0008778572082519531, 0.03558349609375, -0.1790771484375, -0.02044677734375, 0.015106201171875]...\n",
      "Embedding generated for text (length 729): [0.04803466796875, 0.0280609130859375, -0.1807861328125, -0.0243377685546875, 0.0146026611328125]...\n",
      "Embedding generated for text (length 729): [0.039093017578125, 0.0087890625, -0.15966796875, -0.01451873779296875, 0.0257568359375]...\n",
      "Embedding generated for text (length 729): [-0.011444091796875, 0.033966064453125, -0.177734375, -0.038818359375, 0.020904541015625]...\n",
      "Embedding generated for text (length 729): [0.0078887939453125, 0.0467529296875, -0.17138671875, -0.03424072265625, 0.023040771484375]...\n",
      "Embedding generated for text (length 729): [0.01221466064453125, 0.059173583984375, -0.1641845703125, -0.02783203125, -0.01520538330078125]...\n",
      "Embedding generated for text (length 729): [0.037628173828125, 0.0113525390625, -0.1837158203125, -0.028289794921875, -0.0159912109375]...\n",
      "Embedding generated for text (length 729): [0.0211181640625, 0.056182861328125, -0.166259765625, -0.01546478271484375, 0.02142333984375]...\n",
      "Embedding generated for text (length 729): [0.01537322998046875, 0.036590576171875, -0.172119140625, -0.070068359375, -0.0038909912109375]...\n",
      "Embedding generated for text (length 729): [0.0498046875, 0.06036376953125, -0.1810302734375, -0.047576904296875, 0.036590576171875]...\n",
      "Embedding generated for text (length 729): [0.0921630859375, 0.048583984375, -0.1602783203125, -0.04803466796875, 0.07574462890625]...\n",
      "Embedding generated for text (length 729): [0.054656982421875, 0.039520263671875, -0.171875, -0.0100250244140625, 0.04388427734375]...\n",
      "Embedding generated for text (length 729): [0.0050811767578125, 0.06103515625, -0.168212890625, -0.01313018798828125, 0.0772705078125]...\n",
      "Embedding generated for text (length 729): [0.056304931640625, 0.0269927978515625, -0.134765625, -0.034515380859375, 0.047576904296875]...\n",
      "Embedding generated for text (length 729): [0.03521728515625, 0.045166015625, -0.15478515625, -0.006618499755859375, 0.0206756591796875]...\n",
      "Embedding generated for text (length 729): [-0.02020263671875, 0.03619384765625, -0.1654052734375, -0.020721435546875, 0.0098876953125]...\n",
      "Embedding generated for text (length 729): [0.005336761474609375, 0.013092041015625, -0.1826171875, -0.02392578125, 0.0213470458984375]...\n",
      "Embedding generated for text (length 729): [0.07281494140625, 0.005657196044921875, -0.1669921875, -0.0673828125, 0.031524658203125]...\n",
      "Embedding generated for text (length 729): [0.05450439453125, -0.0014057159423828125, -0.1763916015625, -0.034820556640625, 0.020782470703125]...\n",
      "Embedding generated for text (length 729): [0.01522064208984375, 0.03369140625, -0.1595458984375, -0.050567626953125, 0.02874755859375]...\n",
      "Embedding generated for text (length 729): [0.0200958251953125, -0.0030384063720703125, -0.1817626953125, -0.038177490234375, 0.00565338134765625]...\n",
      "Embedding generated for text (length 729): [0.0313720703125, -0.006038665771484375, -0.174072265625, -0.0226898193359375, 0.029876708984375]...\n",
      "Embedding generated for text (length 729): [-0.005161285400390625, 0.0072479248046875, -0.1849365234375, -0.034332275390625, 0.023406982421875]...\n",
      "Embedding generated for text (length 658): [0.0182952880859375, 0.0217132568359375, -0.1669921875, -0.023223876953125, 0.0005121231079101562]...\n",
      "Embedding generated for text (length 1): [0.0226898193359375, 0.031494140625, -0.2283935546875, 0.0013208389282226562, 0.046478271484375]...\n",
      "Embeddings stored successfully. Total points: 128\n",
      "Embedding generated for text (length 47): [0.02996826171875, 0.011199951171875, -0.1370849609375, -0.0721435546875, 0.0285186767578125]...\n",
      "Search Results: ['3*** or \\nas evidence of any collateral transaction not required to be effected by registered instrument.] \\n 50. Certain registered documents relating to land to take effect against unregistered \\ndocuments.—(1) Every document of the kinds mentioned in clauses (a), (b), (c) and (d) of section 17, \\nsub-section (1), and clauses (a) and (b) of section 18, shall, if duly registered, take effect as regards the \\nproperty comprised therein, against every unregistered document relating to the same property, and not \\nbeing a decree or order, whether such unregistered document be of the same nature as the registered \\ndocument or not. \\n(2) Nothing in sub-section (1) applies to leases exempted under the proviso to sub-section (1) of ', 'der \\nsection 45, open the cover and cause the will to be copied into his Book No. 3 and make a note on such \\ncopy that the original has been removed into Court in pursuance of the order aforesaid. \\nPART X \\nOF THE EFFECTS OF REGISTRATION AND NON-REGISTRATION \\n47. Time from which registered document operates.—A registered document shall operate from \\nthe time which it would have commenced to operate if no registration thereof had been required or made, \\nand not from the time of its registration. \\n48. Registered documents relating to property when to take effect against oral                 \\nagreements.— All non-testamentary documents duly registered under this Act, and relating to any \\nproperty, whether movable or immovab']...\n",
      "LLM Response: The main conclusions of this document can be summarized as follows:\n",
      "\n",
      "1. **Registered documents take precedence over unregistered documents**: Section 50 states that registered documents relating to land take effect against unregistered documents, regardless of their nature, as long as they relate to the same property.\n",
      "2. **Time of operation of registered documents**: Section 47 states that a registered document operates from the time it would have commenced to operate if no registration was required or made, and not from the time of its registration.\n",
      "3. **Effect of registration on property**: Sections 47 and 48 imply that registration of a document relating to property gives it precedence over oral agreements and unregistered documents.\n",
      "4. **Indexing and record-keeping**: Sections 41-43 and 45 describe the procedures for indexing and record-keeping of registered documents, including the creation of various indexes and registers.\n",
      "5. **Procedure for deposit and withdrawal of wills**: Sections 43 and 44 outline the procedures for depositing\n",
      "Final Answer: The main conclusions of this document can be summarized as follows:\n",
      "\n",
      "1. **Registered documents take precedence over unregistered documents**: Section 50 states that registered documents relating to land take effect against unregistered documents, regardless of their nature, as long as they relate to the same property.\n",
      "2. **Time of operation of registered documents**: Section 47 states that a registered document operates from the time it would have commenced to operate if no registration was required or made, and not from the time of its registration.\n",
      "3. **Effect of registration on property**: Sections 47 and 48 imply that registration of a document relating to property gives it precedence over oral agreements and unregistered documents.\n",
      "4. **Indexing and record-keeping**: Sections 41-43 and 45 describe the procedures for indexing and record-keeping of registered documents, including the creation of various indexes and registers.\n",
      "5. **Procedure for deposit and withdrawal of wills**: Sections 43 and 44 outline the procedures for depositing\n"
     ]
    }
   ],
   "source": [
    "# 7. End-to-end PDF embedding and querying\n",
    "def embed_pdf_and_query(file_path, user_query, user_id, thread_id, message_id, collection_name):\n",
    "    # Embed the PDF\n",
    "    print(f\"Processing PDF: {file_path}\")\n",
    "    _, chunks = pdf_to_text_chunks(file_path, EMBED_CHUNK_SIZE, EMBED_CHUNK_OVERLAP)\n",
    "    file_hash = hashlib.md5(open(file_path, 'rb').read()).hexdigest()\n",
    "    store_embeddings(chunks, file_path, file_hash, user_id, thread_id, message_id, collection_name)\n",
    "    \n",
    "    # Retrieve relevant context for the query\n",
    "    context = simple_rag_retrieve(user_query, top_k, user_id, thread_id, collection_name)\n",
    "    \n",
    "    # Generate response using the context and the query\n",
    "    if context:\n",
    "        return generate_llm_response(context, user_query, model_llm)\n",
    "    else:\n",
    "        print(\"No relevant context found.\")\n",
    "        return None\n",
    "\n",
    "# Example of usage\n",
    "file_path = \"registration_act_1908.pdf\"  # Replace with actual PDF file path\n",
    "user_query = \"What are the main conclusions of this document?\"\n",
    "user_id = \"user123\"\n",
    "thread_id = \"thread456\"\n",
    "message_id = \"msg789\"\n",
    "\n",
    "setup_qdrant_collection(qdrant_client, collection_name, EMBED_DIMENSION)\n",
    "response = embed_pdf_and_query(file_path, user_query, user_id, thread_id, message_id, collection_name)\n",
    "\n",
    "if response:\n",
    "    print(f\"Final Answer: {response}\")\n"
   ]
  },
  {
   "cell_type": "markdown",
   "metadata": {
    "id": "gTS2Hjf7pnno"
   },
   "source": [
    "By following this structure, the model enables users to upload PDFs, extract meaningful information from them, and ask questions that are answered based on the embedded content in the document. All of this is powered by Nugen’s APIs and the Qdrant vector database for high-quality search and retrieval.\n"
   ]
  },
  {
   "cell_type": "markdown",
   "metadata": {},
   "source": [
    "**Conclusion**\n",
    "\n",
    "By following this cookbook, you now have a complete solution for processing PDF documents, generating embeddings with the Nugen API, storing them in Qdrant, and retrieving relevant information based on user queries. This solution can be expanded or modified for different use cases such as knowledge bases, document search, or other information retrieval applications."
   ]
  }
 ],
 "metadata": {
  "colab": {
   "provenance": []
  },
  "kernelspec": {
   "display_name": "Python 3",
   "language": "python",
   "name": "python3"
  },
  "language_info": {
   "codemirror_mode": {
    "name": "ipython",
    "version": 3
   },
   "file_extension": ".py",
   "mimetype": "text/x-python",
   "name": "python",
   "nbconvert_exporter": "python",
   "pygments_lexer": "ipython3",
   "version": "3.12.4"
  }
 },
 "nbformat": 4,
 "nbformat_minor": 4
}
