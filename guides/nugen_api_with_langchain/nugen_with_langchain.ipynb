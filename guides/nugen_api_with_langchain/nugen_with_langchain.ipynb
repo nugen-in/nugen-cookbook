{
 "cells": [
  {
   "cell_type": "markdown",
   "metadata": {},
   "source": [
    "## **Nugen Intelligence**\n",
    "<img src=\"https://nugen.in/logo.png\" alt=\"Nugen Logo\" width=\"200\"/>\n",
    "\n",
    "Domain-aligned foundational models at industry leading speeds and zero-data retention!"
   ]
  },
  {
   "cell_type": "markdown",
   "metadata": {},
   "source": [
    "### **Nugen APIs with LangChain**"
   ]
  },
  {
   "cell_type": "markdown",
   "metadata": {},
   "source": [
    "**1. Introduction: What is LangChain?**\n",
    "\n",
    "LangChain is a framework for building applications powered by language models (LLMs). It provides a structured way to integrate and use LLMs for different use cases, such as text generation, document analysis, and embeddings. LangChain is highly flexible and supports multiple LLM providers, including OpenAI, Hugging Face, and now Nugen APIs.\n",
    "\n",
    "\n",
    "**This guide will focus on two key capabilities of Nugen’s models:**\n",
    "\n",
    "1. Text Completion: Generating text based on a prompt using the nugen-flash-instruct model.\n",
    "2. Text Embedding: Converting text into numerical vectors using the nugen-flash-embed model for tasks like similarity search, clustering, and classification."
   ]
  },
  {
   "cell_type": "markdown",
   "metadata": {},
   "source": [
    "**2. Using Nugen Completion API with LangChain**"
   ]
  },
  {
   "cell_type": "markdown",
   "metadata": {},
   "source": [
    "Step 1: Setting Up the Environment\n",
    "\n",
    "Before you begin, install the necessary libraries. You will need LangChain and langchain-openai to integrate with Nugen's API."
   ]
  },
  {
   "cell_type": "code",
   "execution_count": null,
   "metadata": {},
   "outputs": [],
   "source": [
    "!pip --quiet install langchain-openai requests"
   ]
  },
  {
   "cell_type": "markdown",
   "metadata": {},
   "source": [
    "Step 2: Import Required Libraries\n",
    "\n",
    "In your Python script or notebook, import the OpenAI class to interact with Nugen’s completion models."
   ]
  },
  {
   "cell_type": "code",
   "execution_count": 2,
   "metadata": {},
   "outputs": [],
   "source": [
    "from langchain_openai import OpenAI"
   ]
  },
  {
   "cell_type": "markdown",
   "metadata": {},
   "source": [
    "Step 3: Configure Nugen Completion Model\n",
    "\n",
    "The following code demonstrates how to use the nugen-flash-instruct model from Nugen via LangChain for text completion.\n",
    "\n",
    "To read more about Nugen API and access free API keys, you can visit [Nugen Intelligence](https://docs.nugen.in/introduction)"
   ]
  },
  {
   "cell_type": "code",
   "execution_count": null,
   "metadata": {},
   "outputs": [
    {
     "name": "stdout",
     "output_type": "stream",
     "text": [
      " and Machine Learning\n",
      "Artificial Intelligence (AI) and Machine Learning (ML) are two closely related fields that have revolutionized the way we live and work. Here's a comprehensive overview:\n",
      "**Artificial Intelligence (AI)**\n",
      "\n",
      "Artificial Intelligence refers to the development of computer systems that can perform tasks that typically require human intelligence, such as:\n",
      "\n",
      "1. Learning\n",
      "2. Problem-solving\n",
      "3. Reasoning\n",
      "4. Perception\n",
      "5. Language understanding\n",
      "\n",
      "AI systems can be categorized into two types:\n",
      "\n",
      "1. **Narrow or Weak AI**: Designed to perform a specific task, such as facial recognition, language translation, or playing chess.\n",
      "2. **General or Strong AI**: A hypothetical AI system that possesses human-like intelligence, capable of performing any intellectual task.\n",
      "\n",
      "**Machine Learning (ML)**\n",
      "\n",
      "Machine Learning is a subset of AI that focuses on developing algorithms and statistical models that enable computers to learn from data, without being explicitly programmed.\n",
      "\n",
      "In traditional programming, a computer is given a set of rules to follow. In contrast, ML algorithms allow computers to learn from data and improve their performance over time.\n",
      "\n",
      "**Types of Machine Learning**\n",
      "\n",
      "1. **Supervised Learning**: The algorithm is trained on labeled data to learn the relationship between input and output.\n",
      "2. **Unsupervised Learning**: The algorithm discovers patterns and relationships in unlabeled data.\n",
      "3. **Reinforcement Learning**: The algorithm learns through trial and error by interacting with an environment.\n",
      "\n",
      "**Key Applications of AI and ML**\n",
      "\n",
      "1. **Virtual Assistants**: Siri, Alexa, and Google Assistant use AI and ML to understand voice commands and respond accordingly.\n",
      "2. **Image Recognition**: Facebook's facial recognition, Google Photos, and self-driving cars use ML to identify objects and people.\n",
      "3. **Natural Language Processing (NLP)**: Chatbots, language translation, and sentiment analysis rely on AI and ML to understand human language.\n",
      "4. **Predictive Maintenance**: AI and ML are used to predict equipment failures and schedule maintenance in industries like manufacturing and healthcare.\n",
      "5. **Healthcare**: AI and ML are applied in medical diagnosis, personalized medicine, and patient outcome prediction.\n",
      "\n",
      "**Challenges and Concerns**\n",
      "\n",
      "1. **Bias and Fairness**: AI systems can perpetuate existing biases if trained on biased data.\n",
      "2. **Job Displacement**: AI and automation may replace certain jobs, requiring workers to acquire new skills.\n",
      "3. **Security**: AI systems can be vulnerable to cyber attacks and data breaches.\n",
      "4. **Explainability**: AI decisions can be difficult to interpret and understand.\n",
      "\n",
      "**Future of AI and ML**\n",
      "\n",
      "1. **Increased Adoption**: AI and ML will become more pervasive in various industries and aspects of life.\n",
      "2. **Advancements in Deep Learning**: Techniques like neural networks and transfer learning will continue to improve.\n",
      "3. **Rise of Edge AI**: AI will be deployed on edge devices, such as smartphones and smart home devices, to reduce latency and improve performance.\n",
      "4. **Human-AI Collaboration**: AI will augment human capabilities, leading to new forms of collaboration and innovation.\n",
      "\n",
      "I hope this provides a comprehensive overview of AI and ML! Do you have any specific questions or topics you'd like me to expand on?\n"
     ]
    },
    {
     "name": "stderr",
     "output_type": "stream",
     "text": [
      "C:\\Users\\parimal\\AppData\\Local\\Packages\\PythonSoftwareFoundation.Python.3.12_qbz5n2kfra8p0\\LocalCache\\local-packages\\Python312\\site-packages\\pydantic\\main.py:347: UserWarning: Pydantic serializer warnings:\n",
      "  Expected `int` but got `float` - serialized value may not be as expected\n",
      "  return self.__pydantic_serializer__.to_python(\n"
     ]
    }
   ],
   "source": [
    "# Set up the Nugen completion model\n",
    "llm = OpenAI(\n",
    "    model=\"nugen-flash-instruct\",  # Nugen completion model\n",
    "    temperature=0,  # Low temperature for more deterministic results\n",
    "    max_tokens=1000,  # Maximum number of tokens to generate\n",
    "    openai_api_key=\"<-api key->\",  # Replace with your API key\n",
    "    openai_api_base=\"https://api.nugen.in/inference/\"  # Nugen API base URL\n",
    ")\n",
    "\n",
    "# Generate a completion for a prompt\n",
    "completion = llm.invoke(\"Tell me about AI\")\n",
    "\n",
    "# Print the completion result\n",
    "print(completion)\n"
   ]
  },
  {
   "cell_type": "markdown",
   "metadata": {},
   "source": [
    "Tip : Try to play around with token size, token size determines the length of answer generated by completion model"
   ]
  },
  {
   "cell_type": "markdown",
   "metadata": {},
   "source": [
    "**Explanation of Parameters:**\n",
    "\n",
    "* model: Specifies the Nugen model to use (e.g., nugen-flash-instruct for text generation).\n",
    "* temperature: Controls creativity in the output. A lower value like 0 makes the response more deterministic.\n",
    "* max_tokens: Defines the maximum length of the generated text.\n",
    "* openai_api_key: Your Nugen API key for authentication.\n",
    "* openai_api_base: The Nugen API base URL to direct requests to the Nugen inference server."
   ]
  },
  {
   "cell_type": "markdown",
   "metadata": {},
   "source": [
    "**3. Using Nugen Embedding API with LangChain**"
   ]
  },
  {
   "cell_type": "markdown",
   "metadata": {},
   "source": [
    "**Step 1: Understanding Text Embeddings**\n",
    "\n",
    "Text embeddings are numerical representations of text. These vectors are used to perform tasks like finding similarities between different pieces of text or clustering documents based on their semantic meaning. Nugen provides an embedding model, nugen-flash-embed, to generate high-quality embeddings from text.\n",
    "\n",
    "**Step 2: Configure Nugen Embedding Model**\n",
    "\n",
    "To use Nugen’s embedding model with LangChain, import the OpenAIEmbeddings class and configure it as follows:"
   ]
  },
  {
   "cell_type": "code",
   "execution_count": 7,
   "metadata": {},
   "outputs": [],
   "source": [
    "from langchain_openai import OpenAIEmbeddings\n",
    "\n",
    "# Set up the Nugen embedding model\n",
    "embed = OpenAIEmbeddings(\n",
    "    model=\"nugen-flash-embed\",  # Nugen embedding model\n",
    "    api_key=\"<--api key-->\",  # Replace with your API key\n",
    "    base_url=\"https://api.nugen.in/inference/\",  # Nugen API base URL\n",
    "    dimensions=768,  # Dimensionality of the embeddings\n",
    "    check_embedding_ctx_length=False  # Disable context length check\n",
    ")"
   ]
  },
  {
   "cell_type": "markdown",
   "metadata": {},
   "source": [
    "**Step 3: Generate Text Embeddings**\n",
    "\n",
    "Now, you can generate embeddings from a piece of text using Nugen’s nugen-flash-embed model."
   ]
  },
  {
   "cell_type": "code",
   "execution_count": 6,
   "metadata": {},
   "outputs": [
    {
     "name": "stdout",
     "output_type": "stream",
     "text": [
      "[0.00830841064453125, -0.00884246826171875, -0.1534423828125]\n"
     ]
    }
   ],
   "source": [
    "# Input text to be embedded\n",
    "input_text = \"The meaning of life is 42\"\n",
    "\n",
    "# Generate embeddings for the input text\n",
    "vector = embed.embed_query(input_text)\n",
    "\n",
    "# Print a subset of the generated embedding vector\n",
    "print(vector[:3])  # Print first 3 dimensions of the vector\n"
   ]
  },
  {
   "cell_type": "markdown",
   "metadata": {},
   "source": [
    "**Explanation of Parameters:**\n",
    "\n",
    "* model: The embedding model used to generate text embeddings (e.g., nugen-flash-embed).\n",
    "* api_key: Your Nugen API key.\n",
    "* base_url: The Nugen API base URL for embedding requests.\n",
    "* dimensions: Number of dimensions of the embedding vector (e.g., 768).\n",
    "* check_embedding_ctx_length: Disables the context length check for embeddings."
   ]
  },
  {
   "cell_type": "markdown",
   "metadata": {},
   "source": [
    "**4. Conclusion**\n",
    "\n",
    "In this cookbook, we explored how to use Nugen's APIs for text completion and embeddings within the LangChain framework. We demonstrated:\n",
    "\n",
    "How to configure and use Nugen’s nugen-flash-instruct model for text generation.\n",
    "How to use the nugen-flash-embed model to generate high-quality text embeddings.\n",
    "By integrating Nugen with LangChain, you can build powerful applications that leverage both text generation and text embeddings for tasks like chatbots, document analysis, and more. This guide should give you a solid foundation to get started with Nugen APIs and LangChain."
   ]
  }
 ],
 "metadata": {
  "kernelspec": {
   "display_name": "Python 3",
   "language": "python",
   "name": "python3"
  },
  "language_info": {
   "codemirror_mode": {
    "name": "ipython",
    "version": 3
   },
   "file_extension": ".py",
   "mimetype": "text/x-python",
   "name": "python",
   "nbconvert_exporter": "python",
   "pygments_lexer": "ipython3",
   "version": "3.12.7"
  }
 },
 "nbformat": 4,
 "nbformat_minor": 2
}
