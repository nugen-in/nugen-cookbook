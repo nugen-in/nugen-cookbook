{
 "cells": [
  {
   "cell_type": "markdown",
   "id": "ebdc22ac",
   "metadata": {},
   "source": [
    "## **Nugen Intelligence**\n",
    "<img src=\"https://nugen.in/logo.png\" alt=\"Nugen Logo\" width=\"200\"/>\n",
    "\n",
    "Domain-aligned foundational models at industry leading speeds and zero-data retention! To learn more, visit [Nugen](https://docs.nugen.in/introduction)\n"
   ]
  },
  {
   "cell_type": "markdown",
   "id": "9c45c46b",
   "metadata": {},
   "source": [
    "## **Agents Cookbook: A Beginner's Guide**\n",
    "\n",
    "### Introduction\n",
    "\n",
    "Welcome to the Nugen Agents Cookbook! This guide will walk you through creating, managing, and utilizing AI agents with the powerful Nugen API platform. Nugen's agent system allows you to deploy customizable AI assistants that can be tailored to your specific needs, providing consistent, high-quality responses for your applications.\n",
    "What are Nugen Agents?\n",
    "\n",
    "NuGen Agents are customizable AI assistants that you can create, configure, and deploy through our API. Each agent:\n",
    "\n",
    "Is powered by state-of-the-art language models\n",
    "- Can be customized with specific instructions\n",
    "- Learns from demonstrations you provide\n",
    "- Maintains consistent behavior across interactions\n",
    "- Can be fine-tuned for your specific use cases\n",
    "\n",
    "Getting Started\n",
    "Prerequisites\n",
    "Before creating your first agent, make sure you have:\n",
    "\n",
    "- A Nugen API key\n",
    "\n"
   ]
  },
  {
   "cell_type": "markdown",
   "id": "9a9dcc36",
   "metadata": {},
   "source": [
    "**Setting Up Your Environment**\n",
    "First, create a .env file in your project directory to store your API key:"
   ]
  },
  {
   "cell_type": "code",
   "execution_count": null,
   "id": "d4c627b1",
   "metadata": {},
   "outputs": [],
   "source": [
    "NUGEN_API_KEY=\"< - your api key->\""
   ]
  },
  {
   "cell_type": "markdown",
   "id": "bb455c3e",
   "metadata": {},
   "source": [
    "Install the required packages:\n"
   ]
  },
  {
   "cell_type": "code",
   "execution_count": null,
   "id": "86a98a7c",
   "metadata": {},
   "outputs": [
    {
     "name": "stdout",
     "output_type": "stream",
     "text": [
      "Requirement already satisfied: requests in ./.conda/lib/python3.12/site-packages (2.32.3)\n",
      "Requirement already satisfied: python-dotenv in ./.conda/lib/python3.12/site-packages (1.1.0)\n",
      "Requirement already satisfied: charset-normalizer<4,>=2 in ./.conda/lib/python3.12/site-packages (from requests) (3.4.2)\n",
      "Requirement already satisfied: idna<4,>=2.5 in ./.conda/lib/python3.12/site-packages (from requests) (3.10)\n",
      "Requirement already satisfied: urllib3<3,>=1.21.1 in ./.conda/lib/python3.12/site-packages (from requests) (2.4.0)\n",
      "Requirement already satisfied: certifi>=2017.4.17 in ./.conda/lib/python3.12/site-packages (from requests) (2025.4.26)\n",
      "Note: you may need to restart the kernel to use updated packages.\n"
     ]
    }
   ],
   "source": [
    "pip install --quiet requests python-dotenv"
   ]
  },
  {
   "cell_type": "markdown",
   "id": "ba5a87b9",
   "metadata": {},
   "source": [
    "## **Creating Your First Agent**\n",
    "\n",
    "Let's walk through the process of creating your first NuGen agent:\n",
    "\n",
    "**Step 1: Explore Available Models**\n",
    "\n",
    "NuGen offers several models with different capabilities and performance characteristics. To see what's available:"
   ]
  },
  {
   "cell_type": "code",
   "execution_count": null,
   "id": "302df7d5",
   "metadata": {},
   "outputs": [
    {
     "name": "stdout",
     "output_type": "stream",
     "text": [
      "Available Models for Agents:\n",
      "Status Code: 200\n",
      "{\n",
      "  \"available_models\": [\n",
      "    \"nugen-flash-instruct\",\n",
      "    \"llama-v3p1-8b-instruct\",\n",
      "    \"llama-v3p1-70b-instruct\",\n",
      "    \"llama-v3p1-405b-instruct\",\n",
      "    \"mixtral-8x22b-instruct\",\n",
      "    \"deepseek-r1\"\n",
      "  ],\n",
      "  \"default_model\": \"nugen-flash-instruct\"\n",
      "}\n"
     ]
    }
   ],
   "source": [
    "import requests\n",
    "import json\n",
    "import os\n",
    "from dotenv import load_dotenv\n",
    "\n",
    "# Load environment variables\n",
    "load_dotenv()\n",
    "\n",
    "# Configuration\n",
    "BASE_URL = \"https://api.nugen.in/agents\"  # Update with production URL when not testing locally\n",
    "API_KEY = os.getenv(\"NUGEN_API_KEY\")\n",
    "\n",
    "# Headers for API calls\n",
    "headers = {\n",
    "    \"Authorization\": f\"Bearer {API_KEY}\",\n",
    "    \"Content-Type\": \"application/json\"\n",
    "}\n",
    "\n",
    "def get_available_models():\n",
    "    \"\"\"Get available models for agent creation\"\"\"\n",
    "    response = requests.get(f\"{BASE_URL}/available_models/\", headers=headers)\n",
    "    print(\"Available Models for Agents:\")\n",
    "    print(f\"Status Code: {response.status_code}\")\n",
    "    print(json.dumps(response.json(), indent=2))\n",
    "    return response.json()[\"available_models\"] if response.status_code == 200 else []\n",
    "\n",
    "# Call the function\n",
    "available_models = get_available_models()"
   ]
  },
  {
   "cell_type": "markdown",
   "id": "9bc9e3c4",
   "metadata": {},
   "source": [
    "**Step 2: Create an Agent**\n",
    "\n",
    "Now that you know what models are available, let's create your first agent:"
   ]
  },
  {
   "cell_type": "code",
   "execution_count": null,
   "id": "d9bec0b4",
   "metadata": {},
   "outputs": [
    {
     "name": "stdout",
     "output_type": "stream",
     "text": [
      "Creating Agent 'My First Agent':\n",
      "Status Code: 200\n",
      "{\n",
      "  \"agent_name\": \"My First Agent\",\n",
      "  \"agent_description\": \"This is my first NuGen agent using nugen-flash-instruct\",\n",
      "  \"model\": \"nugen-flash-instruct\",\n",
      "  \"temperature\": 0.7,\n",
      "  \"instructions\": \"You are a helpful assistant that provides concise and accurate information.\",\n",
      "  \"demonstrations\": [\n",
      "    {\n",
      "      \"user_input\": \"What is the capital of France?\",\n",
      "      \"model_output\": \"The capital of France is Paris.\"\n",
      "    },\n",
      "    {\n",
      "      \"user_input\": \"Summarize the benefits of exercise.\",\n",
      "      \"model_output\": \"Exercise improves physical health, enhances mental wellbeing, boosts energy levels, and helps maintain a healthy weight.\"\n",
      "    }\n",
      "  ],\n",
      "  \"id\": \"my-first-nayw5uo4\",\n",
      "  \"status\": \"active\",\n",
      "  \"created_at\": \"2025-05-08T08:50:11.851115\",\n",
      "  \"updated_at\": \"2025-05-08T08:50:11.851115\",\n",
      "  \"username\": \"aakash30jan+test6@gmail.com\"\n",
      "}\n"
     ]
    }
   ],
   "source": [
    "def create_agent(agent_name, model_name=\"nugen-flash-instruct\"):\n",
    "    \"\"\"Create a new agent\"\"\"\n",
    "    agent_data = {\n",
    "        \"agent_name\": agent_name,\n",
    "        \"agent_description\": f\"This is my first NuGen agent using {model_name}\",\n",
    "        \"model\": model_name,\n",
    "        \"temperature\": 0.7,  # Controls randomness: 0 = deterministic, 1 = creative\n",
    "        \"instructions\": \"You are a helpful assistant that provides concise and accurate information.\",\n",
    "        \"demonstrations\": [\n",
    "            {\n",
    "                \"user_input\": \"What is the capital of France?\",\n",
    "                \"model_output\": \"The capital of France is Paris.\"\n",
    "            },\n",
    "            {\n",
    "                \"user_input\": \"Summarize the benefits of exercise.\",\n",
    "                \"model_output\": \"Exercise improves physical health, enhances mental wellbeing, boosts energy levels, and helps maintain a healthy weight.\"\n",
    "            }\n",
    "        ]\n",
    "    }\n",
    "    \n",
    "    response = requests.post(f\"{BASE_URL}/create/\", json=agent_data, headers=headers)\n",
    "    print(f\"Creating Agent '{agent_name}':\")\n",
    "    print(f\"Status Code: {response.status_code}\")\n",
    "    print(json.dumps(response.json(), indent=2))\n",
    "    return response.json() if response.status_code == 200 else None\n",
    "\n",
    "# Create your first agent\n",
    "my_agent = create_agent(\"My First Agent\", \"nugen-flash-instruct\")\n",
    "agent_id = my_agent[\"id\"]  # Save this ID for future operations"
   ]
  },
  {
   "cell_type": "markdown",
   "id": "eea13a6d",
   "metadata": {},
   "source": [
    "**Working with Your Agent**\n",
    "\n",
    "Once you've created an agent, you can perform various operations:\n",
    "\n",
    "Listing All Your Agents"
   ]
  },
  {
   "cell_type": "code",
   "execution_count": null,
   "id": "cdae5f67",
   "metadata": {},
   "outputs": [
    {
     "name": "stdout",
     "output_type": "stream",
     "text": [
      "Your NuGen Agents:\n",
      "Status Code: 200\n",
      "[\n",
      "  \"my-first-nayw5uo4\"\n",
      "]\n"
     ]
    }
   ],
   "source": [
    "def list_agents():\n",
    "    \"\"\"List all agents\"\"\"\n",
    "    response = requests.get(f\"{BASE_URL}/\", headers=headers)\n",
    "    print(\"Your NuGen Agents:\")\n",
    "    print(f\"Status Code: {response.status_code}\")\n",
    "    print(json.dumps(response.json(), indent=2))\n",
    "    return response.json() if response.status_code == 200 else []\n",
    "\n",
    "# List all your agents\n",
    "agents = list_agents()"
   ]
  },
  {
   "cell_type": "markdown",
   "id": "0328d410",
   "metadata": {},
   "source": [
    "**Getting Agent Details**"
   ]
  },
  {
   "cell_type": "code",
   "execution_count": null,
   "id": "097ef3cb",
   "metadata": {},
   "outputs": [
    {
     "name": "stdout",
     "output_type": "stream",
     "text": [
      "Agent Details for my-first-nayw5uo4:\n",
      "Status Code: 200\n",
      "{\n",
      "  \"agent_name\": \"My First Agent\",\n",
      "  \"agent_description\": \"This is my first NuGen agent using nugen-flash-instruct\",\n",
      "  \"model\": \"nugen-flash-instruct\",\n",
      "  \"temperature\": 0.7,\n",
      "  \"instructions\": \"You are a helpful assistant that provides concise and accurate information.\",\n",
      "  \"demonstrations\": [\n",
      "    {\n",
      "      \"user_input\": \"What is the capital of France?\",\n",
      "      \"model_output\": \"The capital of France is Paris.\"\n",
      "    },\n",
      "    {\n",
      "      \"user_input\": \"Summarize the benefits of exercise.\",\n",
      "      \"model_output\": \"Exercise improves physical health, enhances mental wellbeing, boosts energy levels, and helps maintain a healthy weight.\"\n",
      "    }\n",
      "  ],\n",
      "  \"id\": \"my-first-nayw5uo4\",\n",
      "  \"status\": \"active\",\n",
      "  \"created_at\": \"2025-05-08T08:50:11.851000\",\n",
      "  \"updated_at\": \"2025-05-08T08:50:11.851000\",\n",
      "  \"username\": \"aakash30jan+test6@gmail.com\"\n",
      "}\n"
     ]
    }
   ],
   "source": [
    "def get_agent_details(agent_id):\n",
    "    \"\"\"Get details of a specific agent\"\"\"\n",
    "    response = requests.get(f\"{BASE_URL}/{agent_id}\", headers=headers)\n",
    "    print(f\"Agent Details for {agent_id}:\")\n",
    "    print(f\"Status Code: {response.status_code}\")\n",
    "    print(json.dumps(response.json(), indent=2))\n",
    "    return response.json() if response.status_code == 200 else None\n",
    "\n",
    "# Get details for your agent\n",
    "agent_details = get_agent_details(agent_id)"
   ]
  },
  {
   "cell_type": "markdown",
   "id": "b3cee640",
   "metadata": {},
   "source": [
    "**Running Your Agent**\n",
    "\n",
    "This is where the magic happens! Send a message to your agent and get a response:"
   ]
  },
  {
   "cell_type": "code",
   "execution_count": null,
   "id": "e91144bd",
   "metadata": {},
   "outputs": [
    {
     "name": "stdout",
     "output_type": "stream",
     "text": [
      "Running Agent my-first-nayw5uo4 with message: 'Tell me about renewable energy sources.'\n",
      "Status Code: 200\n",
      "{\n",
      "  \"agent_id\": \"my-first-nayw5uo4\",\n",
      "  \"model\": \"nugen-flash-instruct\",\n",
      "  \"response\": \"Renewable energy sources are natural resources that can be replenished over time and are a sustainable way to generate energy. The main types of renewable energy sources are:\\n\\n1. **Solar Energy**: Energy generated from the sun's rays, either through photovoltaic panels or solar thermal systems.\\n2. **Wind Energy**: Energy generated from the wind using wind turbines.\\n3. **Hydro Energy**: Energy generated from the movement of water in rivers, oceans, and tidal currents, using hydroelectric power plants or tidal power turbines.\\n4. **Geothermal Energy**: Energy generated from the heat of the Earth's core, used for heating, cooling, and electricity generation.\\n5. **Biomass Energy**: Energy generated from organic matter such as wood, crops, and waste, through combustion, anaerobic digestion, or gasification.\\n6. **Hydrogen Energy**: Energy generated from the reaction of hydrogen with oxygen, typically produced from renewable sources like solar or wind power.\\n\\nRenewable energy sources offer several benefits, including:\\n\\n* Reducing greenhouse gas emissions and mitigating climate change\\n* Improving air quality and public health\\n* Enhancing energy security and reducing dependence on fossil fuels\\n* Creating jobs and stimulating local economies\\n* Providing a sustainable and reliable source of energy for future generations.\",\n",
      "  \"usage\": {\n",
      "    \"total_tokens\": 364,\n",
      "    \"input_tokens\": 101,\n",
      "    \"output_tokens\": 263\n",
      "  }\n",
      "}\n"
     ]
    }
   ],
   "source": [
    "def run_agent(agent_id, message):\n",
    "    \"\"\"Run inference with an agent\"\"\"\n",
    "    payload = {\"message\": message}\n",
    "    response = requests.post(f\"{BASE_URL}/{agent_id}/run/\", json=payload, headers=headers)\n",
    "    print(f\"Running Agent {agent_id} with message: '{message}'\")\n",
    "    print(f\"Status Code: {response.status_code}\")\n",
    "    print(json.dumps(response.json(), indent=2))\n",
    "    return response.json() if response.status_code == 200 else None\n",
    "\n",
    "# Test your agent with a question\n",
    "response = run_agent(agent_id, \"Tell me about renewable energy sources.\")"
   ]
  },
  {
   "cell_type": "markdown",
   "id": "c5dbee0d",
   "metadata": {},
   "source": [
    "**Updating Your Agent**\n",
    "\n",
    "As your needs evolve, you can update your agent's configuration:"
   ]
  },
  {
   "cell_type": "code",
   "execution_count": null,
   "id": "9145d4a6",
   "metadata": {},
   "outputs": [
    {
     "name": "stdout",
     "output_type": "stream",
     "text": [
      "Updating Agent my-first-nayw5uo4:\n",
      "Status Code: 200\n",
      "{\n",
      "  \"agent_name\": \"My First Agent\",\n",
      "  \"agent_description\": \"My improved NuGen assistant for energy topics\",\n",
      "  \"model\": \"nugen-flash-instruct\",\n",
      "  \"temperature\": 0.8,\n",
      "  \"instructions\": \"You are a helpful assistant specialized in renewable energy and sustainability topics. Provide clear, factual information with relevant examples.\",\n",
      "  \"demonstrations\": [\n",
      "    {\n",
      "      \"user_input\": \"What are the main types of renewable energy?\",\n",
      "      \"model_output\": \"The main types of renewable energy are solar, wind, hydro, geothermal, and biomass. Each harnesses natural processes to generate electricity with minimal environmental impact.\"\n",
      "    }\n",
      "  ],\n",
      "  \"id\": \"my-first-nayw5uo4\",\n",
      "  \"status\": \"active\",\n",
      "  \"created_at\": \"2025-05-08T08:50:11.851000\",\n",
      "  \"updated_at\": \"2025-05-08T08:50:52.239000\",\n",
      "  \"username\": \"aakash30jan+test6@gmail.com\"\n",
      "}\n"
     ]
    }
   ],
   "source": [
    "def update_agent(agent_id, updates):\n",
    "    \"\"\"Update an agent\"\"\"\n",
    "    response = requests.patch(f\"{BASE_URL}/{agent_id}\", json=updates, headers=headers)\n",
    "    print(f\"Updating Agent {agent_id}:\")\n",
    "    print(f\"Status Code: {response.status_code}\")\n",
    "    print(json.dumps(response.json(), indent=2))\n",
    "    return response.json() if response.status_code == 200 else None\n",
    "\n",
    "# Update your agent\n",
    "updated_agent = update_agent(agent_id, {\n",
    "    \"agent_description\": \"My improved NuGen assistant for energy topics\",\n",
    "    \"temperature\": 0.8,\n",
    "    \"instructions\": \"You are a helpful assistant specialized in renewable energy and sustainability topics. Provide clear, factual information with relevant examples.\",\n",
    "    \"demonstrations\": [\n",
    "        {\n",
    "            \"user_input\": \"What are the main types of renewable energy?\",\n",
    "            \"model_output\": \"The main types of renewable energy are solar, wind, hydro, geothermal, and biomass. Each harnesses natural processes to generate electricity with minimal environmental impact.\"\n",
    "        }\n",
    "    ]\n",
    "})"
   ]
  },
  {
   "cell_type": "markdown",
   "id": "995a5689",
   "metadata": {},
   "source": [
    "**Monitoring Usage**\n",
    "\n",
    "Keep track of how your agents are being used:"
   ]
  },
  {
   "cell_type": "code",
   "execution_count": null,
   "id": "fb6aa2cb",
   "metadata": {},
   "outputs": [
    {
     "name": "stdout",
     "output_type": "stream",
     "text": [
      "Agent Usage Statistics:\n",
      "Status Code: 200\n",
      "{\n",
      "  \"total_active_agents\": 1,\n",
      "  \"total_deleted_agents\": 0,\n",
      "  \"agent_usage_summary\": {\n",
      "    \"my-first-nayw5uo4\": {\n",
      "      \"agent_name\": \"My First Agent\",\n",
      "      \"total_tokens\": 364,\n",
      "      \"input_tokens\": 101,\n",
      "      \"output_tokens\": 263\n",
      "    }\n",
      "  },\n",
      "  \"most_used_agent\": {\n",
      "    \"agent_id\": \"my-first-nayw5uo4\",\n",
      "    \"agent_name\": \"My First Agent\",\n",
      "    \"total_tokens\": 364\n",
      "  }\n",
      "}\n"
     ]
    }
   ],
   "source": [
    "def get_agent_usage_stats():\n",
    "    \"\"\"Get usage statistics for all agents\"\"\"\n",
    "    response = requests.get(f\"{BASE_URL}/usage/\", headers=headers)\n",
    "    print(\"Agent Usage Statistics:\")\n",
    "    print(f\"Status Code: {response.status_code}\")\n",
    "    print(json.dumps(response.json(), indent=2))\n",
    "    return response.json() if response.status_code == 200 else None\n",
    "\n",
    "# Check your agents' usage statistics\n",
    "usage_stats = get_agent_usage_stats()"
   ]
  },
  {
   "cell_type": "markdown",
   "id": "8839a0ee",
   "metadata": {},
   "source": [
    "**Cleaning Up**\n",
    "\n",
    "If you no longer need an agent, you can delete it:"
   ]
  },
  {
   "cell_type": "code",
   "execution_count": null,
   "id": "7bd745fa",
   "metadata": {},
   "outputs": [],
   "source": [
    "def delete_agent(agent_id):\n",
    "    \"\"\"Delete an agent\"\"\"\n",
    "    response = requests.delete(f\"{BASE_URL}/{agent_id}\", headers=headers)\n",
    "    success = response.status_code == 204\n",
    "    print(f\"Deleting Agent {agent_id}: {'Success' if success else 'Failed'}\")\n",
    "    if not success and hasattr(response, 'json'):\n",
    "        print(response.json())\n",
    "    return success"
   ]
  },
  {
   "cell_type": "markdown",
   "id": "a4f984ec",
   "metadata": {},
   "source": [
    "**Best Practices for Agent Design**\n",
    "\n",
    "**Effective Instructions**\n",
    "\n",
    "The \"instructions\" field is your agent's primary guidance system. Here are some tips:\n",
    "\n",
    "1. Be specific: Clearly define your agent's role and domain expertise\n",
    "2. Set boundaries: Specify what the agent should and shouldn't do\n",
    "3. Define tone: Indicate how formal, friendly, or technical the agent should be\n",
    "4. Include workflows: Outline how the agent should approach different types of questions\n",
    "\n",
    "Example:\n",
    "json\"instructions\": \"You are a customer service assistant for NuGen Electronics. \n",
    "\n",
    "1. Provide helpful, friendly responses about our products and services. \n",
    "2. For technical questions, ask for product model numbers before giving specific advice. \n",
    "3. For pricing questions, provide ranges rather than exact figures. \n",
    "4. Always suggest contacting our support team for complex issues.\"\n",
    "5. Powerful Demonstrations\n",
    "\n",
    "Demonstrations teach by example. For best results:\n",
    "\n",
    "1. Cover key scenarios: Include examples of common use cases\n",
    "2. Show edge cases: Demonstrate how to handle difficult situations\n",
    "3. Maintain consistency: Ensure all examples follow your desired style and approach\n",
    "4. Quality over quantity: A few excellent demonstrations often outperform many mediocre ones"
   ]
  },
  {
   "cell_type": "markdown",
   "id": "41f010af",
   "metadata": {},
   "source": [
    "**Example demonstrations:**"
   ]
  },
  {
   "cell_type": "markdown",
   "id": "3247599e",
   "metadata": {},
   "source": [
    "\"demonstrations\": [\n",
    "\n",
    "    {\n",
    "        \"user_input\": \"Do you offer student discounts?\",\n",
    "\n",
    "        \"model_output\": \"Yes! NuGen Electronics offers a 15% discount for students with valid ID. You can apply \n",
    "        \n",
    "        this discount when checking out on our website or in-store.\"\n",
    "    },\n",
    "\n",
    "    \n",
    "    {\n",
    "        \"user_input\": \"My laptop screen is flickering, can you help?\",\n",
    "        \n",
    "        \"model_output\": \"I'd be happy to help with your laptop screen issue. Could you please provide the model number of your NuGen laptop? This will help me give you the most accurate troubleshooting steps for your specific device.\"\n",
    "    }\n",
    "]"
   ]
  },
  {
   "cell_type": "markdown",
   "id": "fa69ca52",
   "metadata": {},
   "source": [
    "**Temperature Settings**\n",
    "\n",
    "The temperature parameter controls how random or deterministic your agent's responses will be:\n",
    "\n",
    "1. Low (0.0-0.3): More consistent, predictable responses. Good for factual, precise applications.\n",
    "2. Medium (0.4-0.7): Balance between consistency and creativity. Works well for most general-purpose agents.\n",
    "3. High (0.8-1.0): More creative, varied responses. Better for creative writing, brainstorming, or casual conversation."
   ]
  },
  {
   "cell_type": "markdown",
   "id": "e9643746",
   "metadata": {},
   "source": [
    "## **Conclusion**\n",
    "\n",
    "NuGen Agents provide a powerful, flexible platform for creating custom AI assistants tailored to your specific needs. By following this cookbook, you've learned how to create, manage, and optimize agents for various applications.\n",
    "As you become more familiar with the NuGen API, you'll discover even more ways to leverage our agent technology to enhance your productivity and provide value to your users"
   ]
  }
 ],
 "metadata": {
  "kernelspec": {
   "display_name": "Python 3",
   "language": "python",
   "name": "python3"
  },
  "language_info": {
   "codemirror_mode": {
    "name": "ipython",
    "version": 3
   },
   "file_extension": ".py",
   "mimetype": "text/x-python",
   "name": "python",
   "nbconvert_exporter": "python",
   "pygments_lexer": "ipython3",
   "version": "3.12.9"
  }
 },
 "nbformat": 4,
 "nbformat_minor": 5
}
