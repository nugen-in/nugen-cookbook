{
 "cells": [
  {
   "cell_type": "markdown",
   "metadata": {},
   "source": [
    "## **Nugen Intelligence**\n",
    "<img src=\"https://nugen.in/logo.png\" alt=\"Nugen Logo\" width=\"200\"/>\n",
    "\n",
    "Domain-aligned foundational models at industry leading speeds and zero-data retention! To learn more, visit [Nugen](https://docs.nugen.in/introduction)\n"
   ]
  },
  {
   "cell_type": "markdown",
   "metadata": {},
   "source": [
    "**Nugen** is an advanced AI platform designed to provide specialized, domain-specific AI solutions. It offers a wide range of models tailored for industries like healthcare, legal, and insurance, enabling businesses to automate complex tasks such as natural language understanding, reasoning, and routine generation. Nugen APIs allow developers to leverage powerful AI models for tasks like text completion, embedding generation, and reasoning, with a focus on high performance and scalability."
   ]
  },
  {
   "cell_type": "markdown",
   "metadata": {},
   "source": [
    "### Getting an API key"
   ]
  },
  {
   "cell_type": "markdown",
   "metadata": {},
   "source": [
    "To authenticate your requests to the Nugen API, you'll need an API key.\n",
    "\n",
    "Follow these steps to obtain your API key:\n",
    "\n",
    "1. If you haven't already, sign up for an Nugen account by visiting [Nugen]\n",
    "2. Once you've created your account and logged in, navigate to the API settings page. You can find this page by clicking on your profile icon in the top-right corner and selecting \"API Keys\" from the dropdown menu, or by navigating to the \"API Keys\" menu in the Settings tab.\n",
    "3. On the API settings page, click on the \"Create Key\" button. A modal window will appear, prompting you to give your key a descriptive name. Choose a name that reflects the purpose or project you'll be using the key for. You can create as many keys as you want within your account (note that rate and message limits apply at the account level, not the API key level).\n",
    "4. After entering a name, click on the \"Create\" button. Your new API key will be generated and displayed on the screen.\n"
   ]
  },
  {
   "cell_type": "markdown",
   "metadata": {},
   "source": [
    "<<< ---- ADD AN IMAGE ---- >>>"
   ]
  },
  {
   "cell_type": "markdown",
   "metadata": {},
   "source": [
    "### Best Practices for Handling API Keys\n",
    "\n",
    "Managing your API keys securely is critical to preventing unauthorized access to your account and data. Here are some best practices to follow:\n",
    "1. Keep Your API Keys Secret: Never share your API key publicly or hard-code it in your source code.\n",
    "2. Use Environment Variables: Store your API keys in environment variables instead of embedding them directly in your code. This prevents accidental exposure in version control systems like GitHub.\n"
   ]
  },
  {
   "cell_type": "markdown",
   "metadata": {},
   "source": [
    "Create a .env file to store your pai key"
   ]
  },
  {
   "cell_type": "code",
   "execution_count": null,
   "metadata": {},
   "outputs": [],
   "source": [
    "Nugen_API_KEY= <add your api key here>"
   ]
  },
  {
   "cell_type": "markdown",
   "metadata": {},
   "source": [
    "Install the python-dotenv package by running the following command in your terminal or notebook:"
   ]
  },
  {
   "cell_type": "code",
   "execution_count": null,
   "metadata": {},
   "outputs": [],
   "source": [
    "%pip install python-dotenv"
   ]
  },
  {
   "cell_type": "markdown",
   "metadata": {},
   "source": [
    "We can now load the API key from the .env file using the load_dotenv() function from the dotenv module with the following code:"
   ]
  },
  {
   "cell_type": "code",
   "execution_count": null,
   "metadata": {},
   "outputs": [],
   "source": [
    "from dotenv import load_dotenv\n",
    "import os\n",
    "\n",
    "load_dotenv()\n",
    "nugen_api_key = os.getenv(\"Nugen_API_KEY\")"
   ]
  },
  {
   "cell_type": "markdown",
   "metadata": {},
   "source": [
    "### Basic steps to use Nugen API"
   ]
  },
  {
   "cell_type": "markdown",
   "metadata": {},
   "source": [
    "Below is an example demonstrating how to use the Nugen API with the OpenAI Python client for generating a completion. This example shows how to set up the client using the Nugen API base URL and API key, and then make a request for text completion."
   ]
  },
  {
   "cell_type": "code",
   "execution_count": null,
   "metadata": {},
   "outputs": [
    {
     "name": "stdout",
     "output_type": "stream",
     "text": [
      "{\"id\":\"nugen-1731675930.757975\",\"object\":\"text_completion\",\"created\":1731675930.757975,\"model\":\"nugen-flash-instruct\",\"choices\":[{\"text\":\" a deep shade of indigo, with the stars twinkling like diamonds scattered across the fabric of the universe. The moon, a silver crescent, casts a gentle glow over the landscape. The air is filled with the sweet scent of blooming flowers, and the sound of crickets provides a soothing background melody.\\nIn this serene and peaceful atmosphere, a lone figure stands at the edge of a tranquil lake. The water's surface reflects the starry sky above, creating a perfect mirror image. The figure, a young woman with long, flowing hair and a white dress that seems to shimmer in the moonlight, gazes out at the lake with a look of deep contemplation.\\nAs she stands there, lost in thought, a gentle breeze stirs the water, creating ripples that distort the reflection of the stars. The woman's eyes seem to follow the ripples, as if she is searching for something hidden beneath the surface. Her expression is one of longing, as if she is yearning for something just out of reach.\\nSuddenly, a fish breaks the surface of the water, causing the woman to start. She watches as the fish swims away, leaving behind a trail of shimmering water droplets. The woman's eyes follow the fish, and then, as if drawn by an unseen force, she begins to walk along the edge of the lake.\\nThe water's edge is lined with smooth rocks, worn smooth by the constant lapping of the water. The woman's bare feet make barely a sound as she walks, her eyes fixed on the water. She seems to be searching for something, her gaze scanning the surface of the lake as if she expects to see something emerge from the depths.\\n\\nAs she walks, the woman's thoughts are filled with memories of the past. She remembers laughter and tears, joy and sorrow. She recalls the warmth of a loved one's touch, and the pain of their loss. The memories swirl around her, a jumble of emotions that threaten\",\"index\":0,\"finish_reason\":\"length\"}],\"usage\":{\"prompt_tokens\":4,\"completion_tokens\":400,\"total_tokens\":404}}\n"
     ]
    }
   ],
   "source": [
    "import requests\n",
    "\n",
    "url = \"https://api.nugen.in/inference/completions\"\n",
    "\n",
    "payload = {\n",
    "    \"max_tokens\": 400,\n",
    "    \"model\": \"nugen-flash-instruct\",\n",
    "    \"prompt\": \"The sky is\",\n",
    "    \"temperature\": 1\n",
    "}\n",
    "headers = {\n",
    "    \"Authorization\": f\"Bearer {nugen_api_key}\",\n",
    "    \"Content-Type\": \"application/json\"\n",
    "}\n",
    "\n",
    "response = requests.request(\"POST\", url, json=payload, headers=headers)\n",
    "\n",
    "print(response.text)"
   ]
  },
  {
   "cell_type": "markdown",
   "metadata": {},
   "source": [
    "### **Conclusions**"
   ]
  },
  {
   "cell_type": "markdown",
   "metadata": {},
   "source": [
    "In this cookbook, we’ve walked through the complete process of creating and securely managing a Nugen API key. We’ve also covered best practices for safeguarding your key, along with examples showing how to use the Nugen API in Python using both the requests library and the OpenAI client.\n",
    "\n",
    "By following these steps and integrating Nugen’s API into your projects, you can take full advantage of the platform’s powerful AI models, while ensuring that your API keys are handled securely and efficiently."
   ]
  }
 ],
 "metadata": {
  "kernelspec": {
   "display_name": "Python 3",
   "language": "python",
   "name": "python3"
  },
  "language_info": {
   "codemirror_mode": {
    "name": "ipython",
    "version": 3
   },
   "file_extension": ".py",
   "mimetype": "text/x-python",
   "name": "python",
   "nbconvert_exporter": "python",
   "pygments_lexer": "ipython3",
   "version": "3.12.7"
  }
 },
 "nbformat": 4,
 "nbformat_minor": 2
}
