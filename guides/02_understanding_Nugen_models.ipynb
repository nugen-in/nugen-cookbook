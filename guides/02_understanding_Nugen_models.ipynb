{
 "cells": [
  {
   "cell_type": "markdown",
   "metadata": {},
   "source": [
    "## **Nugen Intelligence**\n",
    "<img src=\"https://nugen.in/logo.png\" alt=\"Nugen Logo\" width=\"200\"/>\n",
    "\n",
    "Domain-aligned foundational models at industry leading speeds and zero-data retention! To learn more, visit [Nugen](https://docs.nugen.in/introduction)\n"
   ]
  },
  {
   "cell_type": "markdown",
   "metadata": {},
   "source": [
    "### **Nugen API Cookbook: A Guide to Embeddings, Completion, and Vision Models**"
   ]
  },
  {
   "cell_type": "markdown",
   "metadata": {},
   "source": [
    "This cookbook serves as a practical guide for developers using Nugen's powerful APIs for various AI-driven tasks such as embeddings, text completions, and image understanding with vision models. We'll walk through each type of model, explain its components, and provide sample code for each to help you get started quickly."
   ]
  },
  {
   "cell_type": "markdown",
   "metadata": {},
   "source": [
    "Before getting started with the tutorial you will have to access Nugen API from [Nugen](link)  "
   ]
  },
  {
   "cell_type": "code",
   "execution_count": null,
   "metadata": {},
   "outputs": [],
   "source": [
    "api_key = <get your api key>"
   ]
  },
  {
   "cell_type": "markdown",
   "metadata": {},
   "source": [
    "**1. Introduction to Nugen API**\n",
    "\n",
    "The Nugen API provides various AI models that allow you to perform advanced operations such as text embeddings, natural language completions, and image-based understanding. Each model is designed to serve a specific type of request, making it easier to build applications for a wide variety of use cases.\n",
    "\n",
    "- **Embedding Models**: Convert text into numerical vectors for tasks such as semantic similarity, clustering, and more.\n",
    "- **Completion Models**: Generate human-like text based on a given prompt for use in chatbots, content creation, and language generation tasks.\n",
    "- **Vision Models**: Analyze images to extract meaningful information or answer questions about the visual content.\n",
    "\n",
    "**Overview of Key Components**\n",
    "\n",
    "When interacting with the Nugen API, there are a few components that are common across different models:\n",
    "\n",
    "- Base URL: The endpoint where you send your requests (e.g., https://api.nugen.in/inference).\n",
    "- API Key: This is your unique key for accessing Nugen services. It should be included in the request headers for authentication.\n",
    "- Payload: The data you send to the API, such as the input text or image URLs.\n",
    "- Headers: Information like the API key and content type (typically JSON).\n",
    "\n",
    "Let’s dive into each type of model and see how they work.\n"
   ]
  },
  {
   "cell_type": "markdown",
   "metadata": {},
   "source": [
    "**2. Embedding Models**\n",
    "\n",
    "The embedding model takes a piece of text and transforms it into a vector (a list of numbers). This is useful in tasks like document search, where you want to compare the meaning of different texts.\n",
    "\n",
    "**Example: Embedding Model API Request**"
   ]
  },
  {
   "cell_type": "code",
   "execution_count": 2,
   "metadata": {},
   "outputs": [],
   "source": [
    "import requests\n",
    "\n",
    "# Function to call Nugen Embedding API\n",
    "def get_embeddings(input_text, model=\"nugen-flash-embed\", dimensions=123, api_key=\"<YOUR_API_KEY>\"):\n",
    "    \"\"\"\n",
    "    This function takes input text, model, and dimensions and returns the embeddings from the Nugen API.\n",
    "    :param input_text: Text to be embedded\n",
    "    :param model: Embedding model to be used\n",
    "    :param dimensions: The number of dimensions for the embedding vector\n",
    "    :param api_key: Your Nugen API key\n",
    "    :return: Embeddings or error message\n",
    "    \"\"\"\n",
    "    url = \"https://api.nugen.in/inference/embeddings\"  # Embedding model endpoint\n",
    "    \n",
    "    # Prepare the payload with the text and model details\n",
    "    payload = {\n",
    "        \"input\": input_text,\n",
    "        \"model\": model,\n",
    "        \"dimensions\": dimensions\n",
    "    }\n",
    "    \n",
    "    # Set the headers, including the API key for authentication\n",
    "    headers = {\n",
    "        \"Authorization\": f\"Bearer {api_key}\",  # API key\n",
    "        \"Content-Type\": \"application/json\"\n",
    "    }\n",
    "    \n",
    "    try:\n",
    "        # Make the API request\n",
    "        response = requests.post(url, json=payload, headers=headers)\n",
    "        response.raise_for_status()  # Raise an exception for bad status codes\n",
    "        return response.json()  # Return the embedding result as JSON\n",
    "    except requests.exceptions.RequestException as e:\n",
    "        return {\"error\": str(e)}  # Return error message if any request fails\n"
   ]
  },
  {
   "cell_type": "code",
   "execution_count": null,
   "metadata": {},
   "outputs": [
    {
     "name": "stdout",
     "output_type": "stream",
     "text": [
      "{'id': 'nugen-1731679238.876368', 'data': [{'index': 0, 'embedding': [-0.0134124755859375, 0.04473876953125, -0.346923828125, -0.042266845703125, 0.0198822021484375, 0.07012939453125, -0.07623291015625, 0.039581298828125, 0.01213836669921875, -0.1671142578125, -0.09100341796875, 0.1190185546875, 0.111572265625, -0.0006189346313476562, 0.04254150390625, -0.0872802734375, 0.1793212890625, -0.07647705078125, 0.1322021484375, -0.060150146484375, 0.041778564453125, 0.0869140625, 0.10504150390625, -0.058624267578125, 0.19873046875, -0.02294921875, -0.1722412109375, 0.1328125, -0.093017578125, 0.2052001953125, -0.02374267578125, 0.0086822509765625, -0.05389404296875, -0.08502197265625, -0.01172637939453125, -0.10894775390625, 0.093994140625, 0.020751953125, 0.1297607421875, 0.0193328857421875, -0.036712646484375, 0.102294921875, -0.028411865234375, 0.0141448974609375, 0.1424560546875, -0.1298828125, 0.12103271484375, 0.08331298828125, -0.0171356201171875, -0.046112060546875, -0.06494140625, 0.08038330078125, -0.08087158203125, -0.11846923828125, 0.1636962890625, 0.11590576171875, -0.0209503173828125, -0.05010986328125, -0.06439208984375, 0.00835418701171875, 0.0791015625, -0.0217742919921875, -0.09869384765625, -0.07855224609375, 0.0112457275390625, -0.188232421875, 0.038787841796875, 0.0914306640625, -0.08074951171875, -0.120849609375, 0.02099609375, -0.07733154296875, 0.02166748046875, 0.007720947265625, -0.157470703125, -0.04205322265625, -0.037689208984375, 0.0526123046875, -0.0615234375, -0.0275421142578125, 0.1197509765625, -0.018096923828125, -0.033233642578125, 0.00969696044921875, 0.0731201171875, -0.01268768310546875, -0.043182373046875, 0.0179901123046875, -0.03753662109375, 0.09527587890625, 0.09130859375, -0.048248291015625, 0.0033016204833984375, 0.0718994140625, -0.1649169921875, -0.00853729248046875, -0.037322998046875, 0.050994873046875, -0.021453857421875, -0.1221923828125, -0.107666015625, 0.0498046875, -0.047210693359375, -0.06976318359375, 0.051605224609375, 0.1636962890625, 0.018951416015625, 0.067138671875, -0.162109375, 0.0028553009033203125, -0.109375, -0.00643157958984375, 0.061004638671875, -0.031158447265625, 0.07684326171875, -0.09552001953125, 0.051910400390625, -0.05743408203125, -0.0251617431640625, 0.059295654296875, -0.11810302734375, 0.044525146484375, 0.0074462890625], 'object': 'embedding'}], 'model': 'nugen-flash-embed', 'created': 1731679238.876368, 'object': 'embedding', 'usage': {'total_tokens': 9}}\n"
     ]
    }
   ],
   "source": [
    "# Example usage of the embedding function\n",
    "\n",
    "# Define your API key (replace with your actual key)\n",
    "api_key = <your nugen api key>\n",
    "\n",
    "# Example text input\n",
    "text_input = \"The quick brown fox jumped over the lazy dog\"\n",
    "\n",
    "# Call the get_embeddings function and print the result\n",
    "embedding_result = get_embeddings(text_input, api_key=api_key)\n",
    "\n",
    "# Print the embedding or error result\n",
    "print(embedding_result)\n"
   ]
  },
  {
   "cell_type": "markdown",
   "metadata": {},
   "source": [
    "**Explanation:**\n",
    "\n",
    "1. Input: The text \"The quick brown fox jumped over the lazy dog\" will be transformed into a vector of 123 dimensions.\n",
    "2. Model: We’re using the nugen-flash-embed model here for embeddings.\n",
    "3. Authorization: The Authorization header contains your API key for accessing the API."
   ]
  },
  {
   "cell_type": "markdown",
   "metadata": {},
   "source": [
    "List of Available Text Embedding Models:\n",
    "\n",
    "Domain Expert Embedding Models\n",
    "1. nugen-embed-legal\n",
    "2. nugen-embed-healthcare\n",
    "\n",
    "\n",
    "Low Latency General Purpose Embedding Models\n",
    "1. nugen-flash-embed\n",
    "2. nomic-embed-text-v1.5\n",
    "3. gte-large\n",
    "4. UAE-Large-V1\n",
    "\n",
    "For more details you can visit [Nugen-Embeddings](https://docs.nugen.in/model-reference/list_available_text_embeds)"
   ]
  },
  {
   "cell_type": "markdown",
   "metadata": {},
   "source": [
    "**3. Completion Model**\n",
    "\n",
    "The completion model generates text based on a given prompt. You can use it for writing assistance, generating content, or answering questions.\n",
    "\n",
    "**Example: Completion Model API Request**"
   ]
  },
  {
   "cell_type": "code",
   "execution_count": null,
   "metadata": {},
   "outputs": [],
   "source": [
    "import requests\n",
    "\n",
    "# Define the API endpoint for completions\n",
    "url = \"https://api.nugen.in/inference/completions\"\n",
    "\n",
    "nugen_api_key = api_key\n",
    "# Prepare the payload with the input prompt and model details\n",
    "payload = {\n",
    "    \"max_tokens\": 400,  # Limit on the number of tokens in the response\n",
    "    \"model\": \"nugen-flash-instruct\",  # The completion model\n",
    "    \"prompt\": \"The sky is\",  # The starting text for completion\n",
    "    \"temperature\": 1  # Controls randomness (1 is moderate randomness)\n",
    "}\n",
    "\n",
    "# Set the request headers, including the API key for authorization\n",
    "headers = {\n",
    "    \"Authorization\": f\"Bearer {nugen_api_key}\",  # Replace <token> with your Nugen API key\n",
    "    \"Content-Type\": \"application/json\"\n",
    "}\n",
    "\n",
    "# Make the API request\n",
    "response = requests.post(url, json=payload, headers=headers)\n",
    "\n",
    "# Print the completion result\n",
    "print(response.text)\n"
   ]
  },
  {
   "cell_type": "markdown",
   "metadata": {},
   "source": [
    "**Explanation:**\n",
    "\n",
    "1. Prompt: We start with the prompt \"The sky is\", and the model generates text that completes this sentence.\n",
    "2. Model: We use the nugen-flash-instruct model, which is good for general-purpose text generation.\n",
    "3. Max Tokens: This limits the number of words or characters the model can generate (in this case, 400 tokens)."
   ]
  },
  {
   "cell_type": "markdown",
   "metadata": {},
   "source": [
    "**List of available Completion Model:**\n",
    "\n",
    "**Low Latency General Purpose LLMs**\n",
    "1. nugen-flash-instruct\n",
    "2. llama-v3p1-405b-instruct\n",
    "3. lama-v3p1-70b-instruct\n",
    "\n"
   ]
  },
  {
   "cell_type": "markdown",
   "metadata": {},
   "source": [
    "Sample response: \n",
    "\n",
    "\n",
    "{\n",
    "  \"id\": \"nugen-1731666545.232387\",\n",
    "  \"object\": \"text_completion\",\n",
    "  \"created\": 1731666545.232387,\n",
    "  \"model\": \"llama-v3p1-405b-instruct\",\n",
    "  \"choices\": [\n",
    "    {\n",
    "      \"text\": \" the limit for IT professionals, ****** Full Stack Development: Full stack development involves developing the front-end and back-end of web applications.\",\n",
    "      \"index\": 0,\n",
    "      \"finish_reason\": \"length\"\n",
    "    }\n",
    "  ],\n",
    "  \"usage\": {\n",
    "    \"prompt_tokens\": 4,\n",
    "    \"completion_tokens\": 400,\n",
    "    \"total_tokens\": 404\n",
    "  }\n",
    "}\n",
    "\n",
    "\n",
    "For more deatils about completion model you can visit [Nugen-Completion](https://docs.nugen.in/model-reference/list_available_llms)"
   ]
  },
  {
   "cell_type": "markdown",
   "metadata": {},
   "source": [
    "**4. Vision Model**\n",
    "\n",
    "The vision model can interpret images and generate responses based on both images and text. This is useful in scenarios like captioning images or answering questions about them.\n",
    "\n",
    "**Example: Vision Model API Request**"
   ]
  },
  {
   "cell_type": "code",
   "execution_count": null,
   "metadata": {},
   "outputs": [],
   "source": [
    "import requests\n",
    "\n",
    "nugen_api_key = api_key\n",
    "# Define the API endpoint for vision models\n",
    "url = \"https://api.nugen.in/inference/chat_vision\"\n",
    "\n",
    "# Prepare the payload with the input image and accompanying question\n",
    "payload = {\n",
    "    \"max_tokens\": 200,  # Limit on the number of tokens in the response\n",
    "    \"messages\": [\n",
    "        {\n",
    "            \"content\": [\n",
    "                {\n",
    "                    \"text\": \"Can you describe this image?\",  # The question for the model\n",
    "                    \"type\": \"text\"\n",
    "                },\n",
    "                {\n",
    "                    \"image_url\": {\n",
    "                        \"url\": \"https://upload.wikimedia.org/wikipedia/commons/c/c7/Asiatic_Lioness_with_around_30_days_old_cub.jpg\"  # The image to describe\n",
    "                    },\n",
    "                    \"type\": \"image_url\"\n",
    "                }\n",
    "            ],\n",
    "            \"role\": \"user\"\n",
    "        }\n",
    "    ],\n",
    "    \"model\": \"nugen-flash-vision\",  # The vision model\n",
    "    \"prompt_truncate_len\": 1500,  # Limits the size of the prompt to avoid long inputs\n",
    "    \"temperature\": 1  # Controls randomness\n",
    "}\n",
    "\n",
    "# Set the request headers, including the API key for authorization\n",
    "headers = {\n",
    "    \"Authorization\": f\"Bearer {nugen_api_key}\",  # Replace <token> with your Nugen API key\n",
    "    \"Content-Type\": \"application/json\"\n",
    "}\n",
    "\n",
    "# Make the API request\n",
    "response = requests.post(url, json=payload, headers=headers)\n",
    "\n",
    "# Print the vision model result\n",
    "print(response.text)\n"
   ]
  },
  {
   "cell_type": "markdown",
   "metadata": {},
   "source": [
    "**Explanation:**\n",
    "\n",
    "1. Image: We provide a link to an image of an Asiatic lioness with a cub, and the model will describe the image.\n",
    "2. Model: The nugen-flash-vision model is designed to process both images and text.\n",
    "3. Question: The text \"Can you describe this image?\" prompts the model to generate a description of the image.\n",
    "\n",
    "\n",
    "**List of available Vision Model**\n",
    "\n",
    "Low Latency General Purpose Models\n",
    "\n",
    "1. nugen-flash-vision\n",
    "2. phi-3-vision-128k-instruct\n",
    "\n",
    "\n",
    "For more information about Vision model you can visit [Nugen-Vision](https://docs.nugen.in/model-reference/list_available_lvms)"
   ]
  },
  {
   "cell_type": "markdown",
   "metadata": {},
   "source": [
    "### **Conclusion**\n",
    "\n",
    "In this cookbook, we've walked through how to use Nugen's embedding, completion, and vision models with practical examples. Each type of model offers unique capabilities, allowing you to perform tasks like text embedding, sentence completion, and image interpretation.\n",
    "\n",
    "By using Nugen’s API, you can build powerful applications that combine natural language processing and computer vision to solve complex problems. The API is easy to use, and with the examples provided, you should be ready to start exploring Nugen’s capabilities on your own."
   ]
  }
 ],
 "metadata": {
  "kernelspec": {
   "display_name": "Python 3",
   "language": "python",
   "name": "python3"
  },
  "language_info": {
   "codemirror_mode": {
    "name": "ipython",
    "version": 3
   },
   "file_extension": ".py",
   "mimetype": "text/x-python",
   "name": "python",
   "nbconvert_exporter": "python",
   "pygments_lexer": "ipython3",
   "version": "3.12.7"
  }
 },
 "nbformat": 4,
 "nbformat_minor": 2
}
