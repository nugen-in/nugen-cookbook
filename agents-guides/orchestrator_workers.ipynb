{
 "cells": [
  {
   "cell_type": "markdown",
   "metadata": {},
   "source": [
    "## **Nugen Intelligence**\n",
    "<img src=\"https://nugen.in/logo.png\" alt=\"Nugen Logo\" width=\"200\"/>\n",
    "\n",
    "Domain-aligned foundational models at industry leading speeds and zero-data retention! To learn more, visit [Nugen](https://docs.nugen.in/introduction)\n"
   ]
  },
  {
   "cell_type": "markdown",
   "metadata": {},
   "source": [
    "Welcome to the Nugen Intelligence Cookbook—a comprehensive guide designed to help you harness the power of domain-aligned large language models (LLMs) with industry-leading speeds and zero-data retention. At Nugen, we specialize in building highly tailored AI models that adapt to your specific needs, enabling scalable, intelligent solutions for specialized domains. "
   ]
  },
  {
   "cell_type": "markdown",
   "metadata": {},
   "source": [
    "## **Orchestrator Workers - A Developer's Guide to Task Distribution Systems**\n",
    "\n",
    "Think of a restaurant kitchen during dinner service. The head chef acts as the orchestrator, while the line cooks are the workers. When an order comes in, the head chef doesn't cook everything themselves. Instead, they:\n",
    "\n",
    "Analyze the order (orchestration)\n",
    "Break it down into specific tasks (task distribution)\n",
    "Assign different parts to specialized cooks (parallel execution)\n",
    "Ensure everything comes together properly (coordination)\n",
    "\n",
    "**The Orchestrator (Head Chef):**\n",
    "\n",
    "- Takes in a large task (like writing product descriptions)\n",
    "- Analyzes it to determine different approaches needed\n",
    "- Breaks it into smaller, focused sub-tasks\n",
    "- Coordinates the execution of these tasks\n",
    "\n",
    "**The Workers (Line Cooks):**\n",
    "\n",
    "- Each handles a specific part of the task\n",
    "- Works independently but in parallel with others\n",
    "- Follows specific instructions for their part\n",
    "- Returns their completed work to the orchestrator"
   ]
  },
  {
   "cell_type": "markdown",
   "metadata": {},
   "source": [
    "### **PART 1: Imports and Installations** "
   ]
  },
  {
   "cell_type": "code",
   "execution_count": 7,
   "metadata": {},
   "outputs": [
    {
     "name": "stderr",
     "output_type": "stream",
     "text": [
      "\n",
      "[notice] A new release of pip is available: 24.3.1 -> 25.0\n",
      "[notice] To update, run: python.exe -m pip install --upgrade pip\n"
     ]
    }
   ],
   "source": [
    "!pip install pydantic --quiet\n",
    "\n",
    "import asyncio\n",
    "import json\n",
    "import requests\n",
    "from pydantic import BaseModel, Field\n",
    "from typing import Literal, List"
   ]
  },
  {
   "cell_type": "markdown",
   "metadata": {},
   "source": [
    "### **PART 2:  Prompts that define the behavior of our system**"
   ]
  },
  {
   "cell_type": "code",
   "execution_count": 8,
   "metadata": {},
   "outputs": [],
   "source": [
    "ORCHESTRATOR_PROMPT = \"\"\"\n",
    "Analyze this task and break it down into 2-3 distinct approaches:\n",
    "Task: {task}\n",
    "Provide an Analysis:\n",
    "Explain your understanding of the task and which variations would be valuable.\n",
    "Focus on how each approach serves different aspects of the task.\n",
    "Along with the analysis, provide 2-3 approaches to tackle the task, each with a brief description:\n",
    "Formal style: Write technically and precisely, focusing on detailed specifications\n",
    "Conversational style: Write in a friendly and engaging way that connects with the reader\n",
    "Hybrid style: Tell a story that includes technical details, combining emotional elements with specifications\n",
    "Return only JSON output.\n",
    "\"\"\"\n",
    "\n",
    "WORKER_PROMPT = \"\"\"\n",
    "Generate content based on:\n",
    "Task: {original_task}\n",
    "Style: {task_type}\n",
    "Guidelines: {task_description}\n",
    "Return only your response:\n",
    "[Your content here, maintaining the specified style and fully addressing requirements.]\n",
    "\"\"\""
   ]
  },
  {
   "cell_type": "markdown",
   "metadata": {},
   "source": [
    "We have two important prompts that define the behavior of our system:\n",
    "\n",
    "**ORCHESTRATOR_PROMPT**\n",
    "\n",
    "1. This is a template that tells the orchestrator (the coordinator) how to analyze and break down a task into different approaches. It asks for:\n",
    "\n",
    "    - Analysis of the given task\n",
    "    - 2-3 different writing styles (formal, conversational, hybrid)\n",
    "    - JSON output format\n",
    "\n",
    "\n",
    "**WORKER_PROMPT** \n",
    "\n",
    "2. This template is used by worker models to actually generate content based on:\n",
    "\n",
    "    - The original task\n",
    "    - The specific style assigned\n",
    "    - Guidelines for that approach"
   ]
  },
  {
   "cell_type": "markdown",
   "metadata": {},
   "source": [
    "### **PART 3: Data Models**"
   ]
  },
  {
   "cell_type": "code",
   "execution_count": 9,
   "metadata": {},
   "outputs": [],
   "source": [
    "class Task(BaseModel):\n",
    "    type: Literal[\"formal\", \"conversational\", \"hybrid\"]\n",
    "    description: str\n",
    "\n",
    "class TaskList(BaseModel):\n",
    "    analysis: str \n",
    "    tasks: List[Task] = Field(..., default_factory=list)"
   ]
  },
  {
   "cell_type": "markdown",
   "metadata": {},
   "source": [
    "**These Pydantic models ensure data validation and structure.**\n",
    "\n",
    "1. The Task class represents a single approach with its type and description \n",
    "\n",
    "2. TaskList holds the overall analysis and list of tasks."
   ]
  },
  {
   "cell_type": "markdown",
   "metadata": {},
   "source": [
    "### **PART 4: Let's examine each function**\n",
    "\n",
    "1. **run_nugen_llm**"
   ]
  },
  {
   "cell_type": "code",
   "execution_count": 10,
   "metadata": {},
   "outputs": [],
   "source": [
    "async def run_nugen_llm(prompt: str, max_tokens: int = 1000, model: str = \"nugen-flash-instruct\", temperature: float = 0.1):\n",
    "    \"\"\"Run a single LLM call using the Nugen API.\"\"\"\n",
    "    url = \"https://api.nugen.in/inference/completions\"\n",
    "    payload = {\n",
    "        \"max_tokens\": str(max_tokens),\n",
    "        \"model\": model,\n",
    "        \"prompt\": prompt,\n",
    "        \"temperature\": temperature\n",
    "    }\n",
    "    api_key = <your api key>\n",
    "    headers = {\n",
    "        \"Authorization\": f\"Bearer {api_key}\",\n",
    "        \"Content-Type\": \"application/json\"\n",
    "    }\n",
    "    response = requests.post(url, json=payload, headers=headers)\n",
    "    # print(response.text) \n",
    "    response_json = response.json()\n",
    "    if \"choices\" in response_json and len(response_json[\"choices\"]) > 0:\n",
    "        text = response_json[\"choices\"][0][\"text\"]\n",
    "        # Remove the triple backticks (```) from the start and end of the text\n",
    "        text = text.strip(\"```\").strip()\n",
    "        \n",
    "        # Check if the text is valid JSON\n",
    "        try:\n",
    "            parsed_text = json.loads(text)\n",
    "            return parsed_text\n",
    "        except json.JSONDecodeError:\n",
    "            # If the text is not valid JSON, return it as is\n",
    "            return text\n",
    "    else:\n",
    "        raise ValueError(\"Unexpected response format from Nugen API\")\n"
   ]
  },
  {
   "cell_type": "markdown",
   "metadata": {},
   "source": [
    "**This function handles the interaction with the Nugen API:**\n",
    "\n",
    "1. Makes an HTTP POST request to the API endpoint\n",
    "2. Includes authentication and request parameters\n",
    "3. Processes the response, handling both JSON and text formats\n",
    "4. Returns the processed response from the language model"
   ]
  },
  {
   "cell_type": "markdown",
   "metadata": {},
   "source": [
    "2. **orchestrator_workflow**"
   ]
  },
  {
   "cell_type": "code",
   "execution_count": 11,
   "metadata": {},
   "outputs": [],
   "source": [
    "async def orchestrator_workflow(task: str, orchestrator_prompt: str, worker_prompt: str):\n",
    "    \"\"\"Use an orchestrator model to break down a task into sub-tasks and then use worker models to generate and return responses.\"\"\"\n",
    "    # Use orchestrator model to break the task up into sub-tasks\n",
    "    orchestrator_response = await run_nugen_llm(orchestrator_prompt.format(task=task))\n",
    "    \n",
    "    # Parse orchestrator response \n",
    "    analysis = orchestrator_response[\"analysis\"]\n",
    "    tasks = orchestrator_response[\"approaches\"]\n",
    "    \n",
    "    print(\"\\n=== ORCHESTRATOR OUTPUT ===\") \n",
    "    print(f\"\\nANALYSIS:\\n{analysis}\")\n",
    "    print(f\"\\nTASKS:\\n{json.dumps(tasks, indent=2)}\")\n",
    "    \n",
    "    # Gather intermediate responses from worker models\n",
    "    worker_responses = await asyncio.gather(*[\n",
    "        run_nugen_llm(worker_prompt.format(original_task=task, task_type=task_info[\"name\"], task_description=task_info[\"description\"])) \n",
    "        for task_info in tasks\n",
    "    ])\n",
    "    \n",
    "    return tasks, worker_responses"
   ]
  },
  {
   "cell_type": "markdown",
   "metadata": {},
   "source": [
    "**This is the heart of the orchestrator-worker pattern**:\n",
    "\n",
    "1. First, it uses the orchestrator model to analyze the task and break it into sub-tasks\n",
    "2. Prints the analysis and task breakdown for transparency\n",
    "3. Uses asyncio.gather to run multiple worker models in parallel\n",
    "4. Each worker generates content for a specific style/approach\n",
    "5. Returns both the task definitions and worker responses"
   ]
  },
  {
   "cell_type": "markdown",
   "metadata": {},
   "source": [
    "3. **Main function**\n",
    "\n",
    "To get started with Nugen LLM models, you'll need an API key. Here's how to mention it in the cookbook:\n",
    "\n",
    "To access Nugen's LLM capabilities, sign up at [Nugen](https://nugen-platform-frontend.azurewebsites.net/dashboard) \n",
    "Obtain your API key from the dashboard. Your API key should be in the format: nugen-xxxxxxxxxxxxxxxxxxxxxx\""
   ]
  },
  {
   "cell_type": "code",
   "execution_count": 13,
   "metadata": {},
   "outputs": [
    {
     "name": "stdout",
     "output_type": "stream",
     "text": [
      "\n",
      "=== ORCHESTRATOR OUTPUT ===\n",
      "\n",
      "ANALYSIS:\n",
      "The task requires writing a product description for an eco-friendly water bottle targeting environmentally conscious millennials. The key features to highlight are the plastic-free material, insulation, and lifetime warranty. A good product description should not only inform but also persuade and engage the audience. Different approaches can serve different aspects of the task, such as emphasizing technical specifications, creating an emotional connection, or balancing both.\n",
      "\n",
      "TASKS:\n",
      "[\n",
      "  {\n",
      "    \"name\": \"Formal style\",\n",
      "    \"description\": \"This approach focuses on providing detailed technical specifications of the product, such as the type of insulation used, the material composition, and the warranty terms. It is ideal for readers who prioritize functionality and want to know the nitty-gritty details of the product.\"\n",
      "  },\n",
      "  {\n",
      "    \"name\": \"Conversational style\",\n",
      "    \"description\": \"This approach involves writing in a friendly and approachable tone, using everyday language to connect with the reader. It emphasizes the benefits of the product, such as reducing plastic waste and staying hydrated on-the-go, and is suitable for readers who value a personal touch.\"\n",
      "  },\n",
      "  {\n",
      "    \"name\": \"Hybrid style\",\n",
      "    \"description\": \"This approach combines technical details with storytelling elements, creating an engaging narrative that highlights the product's features and benefits. It is ideal for readers who want to be informed and entertained at the same time, and is often the most effective way to persuade and retain the audience's attention.\"\n",
      "  }\n",
      "]\n",
      "\n",
      "=== WORKER RESULT (Formal style) ===\n",
      "Introducing the HydraPure: A Revolutionary Eco-Friendly Water Bottle for the Conscious Consumer\n",
      "\n",
      "In our pursuit of a more sustainable future, we are proud to present the HydraPure, a game-changing water bottle that embodies the perfect blend of functionality, durability, and eco-friendliness. Designed with the environmentally conscious millennial in mind, this innovative product is poised to redefine the way we stay hydrated on-the-go.\n",
      "\n",
      "**Plastic-Free Construction**\n",
      "\n",
      "The HydraPure's body is crafted from high-quality, BPA-free stainless steel (18/8 food-grade), ensuring a safe and non-toxic drinking experience. The bottle's exterior is wrapped in a durable, powder-coated finish that provides a secure grip and resists scratches and fading. By opting for stainless steel, we have eliminated the need for single-use plastics, significantly reducing waste and minimizing the bottle's carbon footprint.\n",
      "\n",
      "**Advanced Insulation Technology**\n",
      "\n",
      "Our proprietary insulation system, EcoTherm, utilizes a double-walled design with a vacuum-sealed gap to provide exceptional temperature retention. This innovative technology keeps drinks hot for up to 12 hours and cold for up to 24 hours, making it perfect for daily commutes, outdoor adventures, or simply enjoying a refreshing beverage at home.\n",
      "\n",
      "**Lifetime Warranty**\n",
      "\n",
      "We stand behind the quality and craftsmanship of the HydraPure, offering a lifetime warranty that covers manufacturing defects and ensures your bottle remains in excellent condition for years to come. Our dedicated customer support team is always available to address any questions or concerns, providing peace of mind and a hassle-free ownership experience.\n",
      "\n",
      "**Additional Features**\n",
      "\n",
      "* Wide mouth opening for easy sipping and cleaning\n",
      "* Spout-free design for spill-proof convenience\n",
      "* Compact size (27 oz) for effortless carrying\n",
      "* Dishwasher safe for effortless maintenance\n",
      "\n",
      "**Join the Movement**\n",
      "\n",
      "By choosing the HydraPure, you are not only investing in a premium water bottle but also contributing to a more sustainable future. Together, we can reduce plastic waste, conserve natural resources, and promote a healthier environment for generations to come. Upgrade to the HydraPure today and experience the perfect blend of style, functionality, and eco-friendliness.\n",
      "\n",
      "\n",
      "=== WORKER RESULT (Conversational style) ===\n",
      "Hey there, fellow eco-warriors! Are you tired of sipping from plastic water bottles that harm our planet? We've got the perfect solution for you! Introducing our brand-new, eco-friendly water bottle that's not only kind to the environment but also keeps your drinks hot or cold for hours.\n",
      "\n",
      "Our bottle is made from high-quality, BPA-free materials that are completely plastic-free, so you can stay hydrated without contributing to the plastic waste epidemic. Plus, its insulated design ensures that your drinks stay at the perfect temperature, whether you're sipping hot coffee on a chilly morning or enjoying a refreshing cold drink on a sweltering summer day.\n",
      "\n",
      "But what really sets our bottle apart is its lifetime warranty. We're so confident in its durability that we're willing to stand behind it for life. If anything happens to your bottle, just let us know and we'll replace it for free. No hassle, no fuss.\n",
      "\n",
      "By choosing our eco-friendly water bottle, you're not only reducing your plastic footprint but also investing in a product that will last you for years to come. So why wait? Make the switch to a more sustainable lifestyle today and join the movement towards a plastic-free future. Your planet (and your wallet) will thank you!\n",
      "\n",
      "\n",
      "=== WORKER RESULT (Hybrid style) ===\n",
      "Introducing HydraFlow - The Ultimate Eco-Friendly Water Bottle for the Conscious Adventurer\n",
      "\n",
      "Imagine a world where staying hydrated on-the-go doesn't have to come at the cost of the planet. A world where you can quench your thirst without contributing to the staggering 8 million tons of plastic waste that enter our oceans every year. Welcome to the world of HydraFlow, the game-changing, eco-friendly water bottle that's about to revolutionize the way you drink water.\n",
      "\n",
      "Made from high-quality, BPA-free stainless steel, HydraFlow is the perfect companion for any environmentally conscious millennial who's always on the move. Its sleek, insulated design keeps your drinks hot or cold for hours, while its durable construction ensures that it can withstand even the toughest adventures.\n",
      "\n",
      "But what really sets HydraFlow apart is its commitment to sustainability. Unlike traditional plastic water bottles, HydraFlow is 100% plastic-free, reducing waste and minimizing its carbon footprint. And with its lifetime warranty, you can trust that your HydraFlow bottle will be by your side for years to come, eliminating the need for single-use plastics and the environmental harm they cause.\n",
      "\n",
      "At HydraFlow, we believe that staying hydrated shouldn't have to harm the planet. That's why we've designed our bottle to be not only functional but also sustainable. From the materials we use to the manufacturing process, every aspect of HydraFlow has been carefully considered to minimize its impact on the environment.\n",
      "\n",
      "So why settle for a flimsy, plastic water bottle that's destined for the landfill when you can choose a product that's as good for the planet as it is for you? Join the HydraFlow community today and experience the freedom to drink up, without drinking down the health of our planet.\n",
      "\n",
      "Key Features:\n",
      "\n",
      "* 100% plastic-free and BPA-free stainless steel construction\n",
      "* Insulated design keeps drinks hot or cold for hours\n",
      "* Lifetime warranty for a product that's built to last\n",
      "* Durable and resistant to scratches and fading\n",
      "* Perfect for outdoor enthusiasts, commuters, and anyone who wants to reduce their environmental footprint\n",
      "\n",
      "Join the movement towards a more sustainable future with HydraFlow. Order your eco-friendly water bottle today and start sipping your way to a greener tomorrow.\n",
      "\n"
     ]
    }
   ],
   "source": [
    "async def main():\n",
    "    task = \"\"\"Write a product description for a new eco-friendly water bottle. \n",
    "    The target_audience is environmentally conscious millennials and key product features are: plastic-free, insulated, lifetime warranty\n",
    "    \"\"\"\n",
    "    tasks, worker_resp = await orchestrator_workflow(task, orchestrator_prompt=ORCHESTRATOR_PROMPT, worker_prompt=WORKER_PROMPT)\n",
    "    \n",
    "    for task_info, response in zip(tasks, worker_resp):\n",
    "        print(f\"\\n=== WORKER RESULT ({task_info['name']}) ===\\n{response}\\n\")\n",
    "\n",
    "await main()"
   ]
  },
  {
   "cell_type": "markdown",
   "metadata": {},
   "source": [
    "This is the entry point that:\n",
    "\n",
    "1. Defines a sample task (writing a product description)\n",
    "2. Calls the orchestrator workflow\n",
    "3. Prints results from each worker, labeled with their approach\n",
    "\n",
    "**The overall flow works like this**:\n",
    "\n",
    "1. You provide a task (like writing a product description)\n",
    "2. The orchestrator analyzes it and creates different approaches (formal, conversational, etc.)\n",
    "3. Multiple workers then generate content in parallel, each following their assigned style\n",
    "4. All results are collected and presented together\n",
    "\n",
    "**This pattern is particularly useful because:**\n",
    "\n",
    "1. It breaks down complex tasks into manageable pieces\n",
    "2. Allows for parallel processing of sub-tasks\n",
    "3. Provides multiple perspectives or approaches to the same problem\n",
    "4. Uses structured data validation to ensure consistency\n",
    "5. Handles asynchronous operations efficiently\n",
    "\n",
    "The code is especially valuable for content generation tasks where you want multiple variations or approaches to the same prompt, all generated efficiently in parallel."
   ]
  }
 ],
 "metadata": {
  "kernelspec": {
   "display_name": "Python 3",
   "language": "python",
   "name": "python3"
  },
  "language_info": {
   "codemirror_mode": {
    "name": "ipython",
    "version": 3
   },
   "file_extension": ".py",
   "mimetype": "text/x-python",
   "name": "python",
   "nbconvert_exporter": "python",
   "pygments_lexer": "ipython3",
   "version": "3.12.6"
  }
 },
 "nbformat": 4,
 "nbformat_minor": 2
}
