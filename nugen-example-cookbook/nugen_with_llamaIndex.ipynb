{
 "cells": [
  {
   "cell_type": "markdown",
   "metadata": {},
   "source": [
    "## **Nugen Intelligence**\n",
    "<img src=\"https://nugen.in/logo.png\" alt=\"Nugen Logo\" width=\"200\"/>\n",
    "\n",
    "Domain-aligned foundational models at industry leading speeds and zero-data retention!"
   ]
  },
  {
   "cell_type": "markdown",
   "metadata": {},
   "source": [
    "### **Using Nugen's Embedding Model with LlamaIndex for PDF Content Retrieval**\n",
    "\n",
    "### **Introduction**\n",
    "In this cookbook, you will learn how to use Nugen’s powerful embedding models to convert PDF content into embeddings and how to use LlamaIndex to index and retrieve that data efficiently. This guide provides step-by-step instructions, from extracting text from PDFs to performing semantic searches using the generated embeddings.\n",
    "\n",
    "Nugen offers state-of-the-art embedding models for natural language understanding that can transform unstructured text into meaningful vectors. LlamaIndex is an efficient tool for indexing and querying text data based on semantic similarity, making it an excellent choice for creating search engines or knowledge retrieval systems.\n",
    "\n",
    "\n",
    "## Key Terms:\n",
    "\n",
    "* Embedding: A numerical representation of text, allowing machines to understand and process language in a meaningful way.\n",
    "* Nugen API: An API that provides embedding and completion models for text processing.\n",
    "* LlamaIndex: A framework for building retrieval-augmented generation (RAG) systems that index and retrieve information based on embeddings.\n",
    "* Vector Store: A data structure used to store embeddings for fast, similarity-based retrieval.\n",
    "* Semantic Search: A search method that uses the meaning of the query rather than just keyword matching."
   ]
  },
  {
   "cell_type": "markdown",
   "metadata": {},
   "source": [
    "**What You Will Learn**\n",
    "\n",
    "* How to use Nugen API to get embeddings.\n",
    "* How to create documents with embeddings and index them using LlamaIndex.\n",
    "* How to query your indexed documents with ease."
   ]
  },
  {
   "cell_type": "markdown",
   "metadata": {},
   "source": [
    "**Q. What Are Embeddings?**\n",
    "\n",
    "Embeddings are a way to convert text into numerical data (vectors). These vectors help computers understand and process human language. Think of them as the \"DNA\" of text, where each piece of text has its own unique vector representation."
   ]
  },
  {
   "cell_type": "markdown",
   "metadata": {},
   "source": [
    "### Step 1: Set Up the Environment\n",
    "\n",
    "**Install Required Libraries**\n",
    "\n",
    "Before you begin, ensure you have the necessary Python libraries installed. These libraries include requests (for making HTTP requests to Nugen’s API), llama_index (for indexing and querying), and PyMuPDF (for extracting text from PDF files)."
   ]
  },
  {
   "cell_type": "code",
   "execution_count": null,
   "metadata": {},
   "outputs": [
    {
     "name": "stdout",
     "output_type": "stream",
     "text": [
      "Note: you may need to restart the kernel to use updated packages.\n"
     ]
    }
   ],
   "source": [
    "pip install --quiet -U requests llama_index"
   ]
  },
  {
   "cell_type": "markdown",
   "metadata": {},
   "source": [
    "### **Step 2: Get Your Nugen API Key**"
   ]
  },
  {
   "cell_type": "markdown",
   "metadata": {},
   "source": [
    "To use Nugen's embedding models, you will need to obtain an API key. \n",
    "You can access **Nugen API** key from **[here](https://docs.nugen.in/)** for **FREE**! \n",
    "\n",
    "Once you have the API key, store it securely, as it will be used to authenticate requests to Nugen’s API."
   ]
  },
  {
   "cell_type": "markdown",
   "metadata": {},
   "source": [
    "### **Step 3: Fetch Embeddings from Nugen API**\n",
    "\n",
    "Nugen provides a powerful API for fetching embeddings for your text. We’ll send a request to their API to get embeddings for the sentence “The quick brown fox jumped over the lazy dog.”\n"
   ]
  },
  {
   "cell_type": "code",
   "execution_count": null,
   "metadata": {},
   "outputs": [],
   "source": [
    "import requests\n",
    "\n",
    "# Your Nugen API key\n",
    "api_key = \"<--nugen api key-->\"\n",
    "\n",
    "# Function to fetch embeddings\n",
    "def get_embeddings(text):\n",
    "    url = \"https://api.nugen.in/inference/embeddings\"\n",
    "    payload = {\n",
    "        \"input\": text,\n",
    "        \"model\": \"nugen-flash-embed\",  # Model used for embeddings\n",
    "        \"dimensions\": 123  # Dimensions of the embedding vector\n",
    "    }\n",
    "    headers = {\n",
    "        \"Authorization\": f\"Bearer {api_key}\",\n",
    "        \"Content-Type\": \"application/json\"\n",
    "    }\n",
    "    \n",
    "    response = requests.post(url, json=payload, headers=headers)\n",
    "    \n",
    "    if response.status_code == 200:\n",
    "        return response.json()  # Return the embeddings as JSON\n",
    "    else:\n",
    "        print(f\"Error fetching embeddings: {response.text}\")\n",
    "        return None\n"
   ]
  },
  {
   "cell_type": "markdown",
   "metadata": {},
   "source": [
    "**What Does This Code Do?**\n",
    "\n",
    "* Sends a POST request to the Nugen API to get embeddings for the given text.\n",
    "* Uses the API key for authentication.\n",
    "* Returns the embeddings in JSON format."
   ]
  },
  {
   "cell_type": "markdown",
   "metadata": {},
   "source": [
    "**How to Use:**\n",
    "\n",
    "You can use this function by passing a string (text) to get its embeddings. For example:"
   ]
  },
  {
   "cell_type": "code",
   "execution_count": 20,
   "metadata": {},
   "outputs": [
    {
     "name": "stdout",
     "output_type": "stream",
     "text": [
      "{'id': 'nugen-1731428062.281123', 'data': [{'index': 0, 'embedding': [-0.013336181640625, 0.044891357421875, -0.346923828125, -0.04205322265625, 0.019744873046875, 0.07000732421875, -0.076171875, 0.039398193359375, 0.01233673095703125, -0.167236328125, -0.09100341796875, 0.1190185546875, 0.11151123046875, -0.0006594657897949219, 0.042724609375, -0.08740234375, 0.179443359375, -0.0765380859375, 0.1322021484375, -0.060272216796875, 0.0416259765625, 0.08697509765625, 0.10504150390625, -0.05859375, 0.19873046875, -0.0229034423828125, -0.1722412109375, 0.1328125, -0.0927734375, 0.205322265625, -0.0235443115234375, 0.00870513916015625, -0.053802490234375, -0.08502197265625, -0.011749267578125, -0.1087646484375, 0.09429931640625, 0.02069091796875, 0.1297607421875, 0.0193328857421875, -0.036468505859375, 0.102294921875, -0.0286407470703125, 0.0141143798828125, 0.1427001953125, -0.1298828125, 0.12103271484375, 0.0833740234375, -0.017059326171875, -0.046356201171875, -0.06494140625, 0.08056640625, -0.080810546875, -0.118408203125, 0.1636962890625, 0.11590576171875, -0.020904541015625, -0.04998779296875, -0.06439208984375, 0.00826263427734375, 0.07904052734375, -0.0218048095703125, -0.09881591796875, -0.07830810546875, 0.010894775390625, -0.1885986328125, 0.03887939453125, 0.09130859375, -0.08074951171875, -0.12066650390625, 0.0210418701171875, -0.07745361328125, 0.021636962890625, 0.007572174072265625, -0.157470703125, -0.042205810546875, -0.037628173828125, 0.052703857421875, -0.061676025390625, -0.0274810791015625, 0.11993408203125, -0.0180206298828125, -0.03302001953125, 0.00940704345703125, 0.07318115234375, -0.01268768310546875, -0.043182373046875, 0.017913818359375, -0.0374755859375, 0.09527587890625, 0.09130859375, -0.048187255859375, 0.00318145751953125, 0.0718994140625, -0.1646728515625, -0.0084991455078125, -0.03741455078125, 0.050994873046875, -0.0214080810546875, -0.1221923828125, -0.1077880859375, 0.0498046875, -0.04705810546875, -0.06982421875, 0.05157470703125, 0.163330078125, 0.0189361572265625, 0.06719970703125, -0.162353515625, 0.0026836395263671875, -0.10931396484375, -0.0063934326171875, 0.061126708984375, -0.031280517578125, 0.07672119140625, -0.09552001953125, 0.051910400390625, -0.057647705078125, -0.0251922607421875, 0.059356689453125, -0.1181640625, 0.044525146484375, 0.00749969482421875], 'object': 'embedding'}], 'model': 'nugen-flash-embed', 'created': 1731428062.281123, 'object': 'embedding', 'usage': {'total_tokens': 9}}\n"
     ]
    }
   ],
   "source": [
    "text = \"The quick brown fox jumped over the lazy dog\"\n",
    "embeddings = get_embeddings(text)\n",
    "print(embeddings)"
   ]
  },
  {
   "cell_type": "markdown",
   "metadata": {},
   "source": [
    "### **Step 4: Create a Document with Embeddings and Index It**\n",
    "\n",
    "Once we have the embeddings for the text, we need to create a document using LlamaIndex and add these embeddings. LlamaIndex helps you create an index of documents so that you can efficiently search through them.\n",
    "\n",
    "**Code to Create Document and Index:**"
   ]
  },
  {
   "cell_type": "code",
   "execution_count": 21,
   "metadata": {},
   "outputs": [],
   "source": [
    "from llama_index.core import VectorStoreIndex, Document\n",
    "\n",
    "# Create a document with embeddings\n",
    "def create_index_with_embeddings(embeddings, text):\n",
    "    # Create a Document object with both text and embeddings\n",
    "    doc_with_embeddings = Document(text=text, embeddings=embeddings)\n",
    "    \n",
    "    # Create an index from the document\n",
    "    index = VectorStoreIndex.from_documents([doc_with_embeddings])\n",
    "    \n",
    "    return index"
   ]
  },
  {
   "cell_type": "markdown",
   "metadata": {},
   "source": [
    "**What Does This Code Do?**\n",
    "\n",
    "* It creates a Document using both the text and the embeddings fetched from the Nugen API.\n",
    "* It creates an index of that document using VectorStoreIndex, which will allow us to perform fast queries later."
   ]
  },
  {
   "cell_type": "markdown",
   "metadata": {},
   "source": [
    "**How to Use:**\n",
    "\n",
    "Once you have the embeddings from Nugen, you can create the index with:"
   ]
  },
  {
   "cell_type": "code",
   "execution_count": 22,
   "metadata": {},
   "outputs": [],
   "source": [
    "index = create_index_with_embeddings(embeddings, \"The quick brown fox jumped over the lazy dog\")"
   ]
  },
  {
   "cell_type": "markdown",
   "metadata": {},
   "source": [
    "### **Step 5: Query the Indexed Document**\n",
    "\n",
    "Now that the document is indexed, you can query it to find out what is inside. LlamaIndex allows you to query your documents by asking specific questions."
   ]
  },
  {
   "cell_type": "code",
   "execution_count": 23,
   "metadata": {},
   "outputs": [],
   "source": [
    "def query_index(index, query_text):\n",
    "    # Query the index to find relevant information\n",
    "    query_response = index.as_query_engine().query(query_text)\n",
    "    return query_response"
   ]
  },
  {
   "cell_type": "markdown",
   "metadata": {},
   "source": [
    "**How to Use:**\n",
    "\n",
    "After creating the index, you can query it by passing a question:"
   ]
  },
  {
   "cell_type": "code",
   "execution_count": 24,
   "metadata": {},
   "outputs": [
    {
     "name": "stdout",
     "output_type": "stream",
     "text": [
      "A sentence about a quick brown fox jumping over a lazy dog.\n"
     ]
    }
   ],
   "source": [
    "query_response = query_index(index, \"What is in this document?\")\n",
    "print(query_response)"
   ]
  },
  {
   "cell_type": "markdown",
   "metadata": {},
   "source": [
    "**Conclusion**\n",
    "\n",
    "Congratulations! You’ve just built an application that:\n",
    "\n",
    "* Fetches text embeddings using Nugen API.\n",
    "* Creates a document with embeddings and indexes it using LlamaIndex.\n",
    "* Queries that document efficiently.\n",
    "\n",
    "This cookbook is a great start to using powerful Nugen APIs for text understanding and generation. Whether you are building intelligent applications or exploring advanced AI capabilities, Nugen provides the tools you need to succeed!"
   ]
  }
 ],
 "metadata": {
  "kernelspec": {
   "display_name": "Python 3",
   "language": "python",
   "name": "python3"
  },
  "language_info": {
   "codemirror_mode": {
    "name": "ipython",
    "version": 3
   },
   "file_extension": ".py",
   "mimetype": "text/x-python",
   "name": "python",
   "nbconvert_exporter": "python",
   "pygments_lexer": "ipython3",
   "version": "3.12.7"
  }
 },
 "nbformat": 4,
 "nbformat_minor": 2
}
